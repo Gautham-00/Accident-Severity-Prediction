{
 "cells": [
  {
   "cell_type": "code",
   "execution_count": null,
   "id": "8aeb96bf-4213-4a7d-81cb-8c2851e3e1e1",
   "metadata": {},
   "outputs": [],
   "source": [
    "# Importing essential libraries\n",
    "import pandas as pd\n",
    "import numpy as np\n",
    "\n",
    "import matplotlib.pyplot as plt\n",
    "import seaborn as sns\n",
    "from sklearn.model_selection import train_test_split\n",
    "from sklearn.preprocessing import StandardScaler, LabelEncoder\n",
    "from sklearn.ensemble import RandomForestClassifier\n",
    "from sklearn.metrics import accuracy_score, classification_report, confusion_matrix"
   ]
  },
  {
   "cell_type": "code",
   "execution_count": null,
   "id": "08e97237-19ac-46d5-bfa1-980b3ae7860e",
   "metadata": {},
   "outputs": [
    {
     "name": "stderr",
     "output_type": "stream",
     "text": [
      "C:\\Users\\Acer\\AppData\\Local\\Temp\\ipykernel_42904\\2633630476.py:2: DtypeWarning: Columns (0) have mixed types. Specify dtype option on import or set low_memory=False.\n",
      "  df=pd.read_csv(\"C:/Users/Acer/OneDrive/Desktop/Vehicle Collision.csv\")\n"
     ]
    },
    {
     "data": {
      "text/html": [
       "<div>\n",
       "<style scoped>\n",
       "    .dataframe tbody tr th:only-of-type {\n",
       "        vertical-align: middle;\n",
       "    }\n",
       "\n",
       "    .dataframe tbody tr th {\n",
       "        vertical-align: top;\n",
       "    }\n",
       "\n",
       "    .dataframe thead th {\n",
       "        text-align: right;\n",
       "    }\n",
       "</style>\n",
       "<table border=\"1\" class=\"dataframe\">\n",
       "  <thead>\n",
       "    <tr style=\"text-align: right;\">\n",
       "      <th></th>\n",
       "      <th>UNIQUE_ID</th>\n",
       "      <th>COLLISION_ID</th>\n",
       "      <th>CRASH_DATE</th>\n",
       "      <th>CRASH_TIME</th>\n",
       "      <th>PERSON_ID</th>\n",
       "      <th>PERSON_TYPE</th>\n",
       "      <th>PERSON_INJURY</th>\n",
       "      <th>VEHICLE_ID</th>\n",
       "      <th>PERSON_AGE</th>\n",
       "      <th>EJECTION</th>\n",
       "      <th>...</th>\n",
       "      <th>BODILY_INJURY</th>\n",
       "      <th>POSITION_IN_VEHICLE</th>\n",
       "      <th>SAFETY_EQUIPMENT</th>\n",
       "      <th>PED_LOCATION</th>\n",
       "      <th>PED_ACTION</th>\n",
       "      <th>COMPLAINT</th>\n",
       "      <th>PED_ROLE</th>\n",
       "      <th>CONTRIBUTING_FACTOR_1</th>\n",
       "      <th>CONTRIBUTING_FACTOR_2</th>\n",
       "      <th>PERSON_SEX</th>\n",
       "    </tr>\n",
       "  </thead>\n",
       "  <tbody>\n",
       "    <tr>\n",
       "      <th>0</th>\n",
       "      <td>10253606</td>\n",
       "      <td>4230743.0</td>\n",
       "      <td>10/24/2019</td>\n",
       "      <td>19:15</td>\n",
       "      <td>84bcb3a7-d201-4c61-9e30-fe29268c1074</td>\n",
       "      <td>Occupant</td>\n",
       "      <td>Injured</td>\n",
       "      <td>19143343.0</td>\n",
       "      <td>27.0</td>\n",
       "      <td>Not Ejected</td>\n",
       "      <td>...</td>\n",
       "      <td>Back</td>\n",
       "      <td>Driver</td>\n",
       "      <td>Lap Belt &amp; Harness</td>\n",
       "      <td>NaN</td>\n",
       "      <td>NaN</td>\n",
       "      <td>Complaint of Pain or Nausea</td>\n",
       "      <td>Driver</td>\n",
       "      <td>NaN</td>\n",
       "      <td>NaN</td>\n",
       "      <td>M</td>\n",
       "    </tr>\n",
       "    <tr>\n",
       "      <th>1</th>\n",
       "      <td>10248708</td>\n",
       "      <td>4229547.0</td>\n",
       "      <td>10/26/2019</td>\n",
       "      <td>1:15</td>\n",
       "      <td>a8904763-2870-42f3-865c-b53d8e5156e2</td>\n",
       "      <td>Pedestrian</td>\n",
       "      <td>Injured</td>\n",
       "      <td>NaN</td>\n",
       "      <td>24.0</td>\n",
       "      <td>NaN</td>\n",
       "      <td>...</td>\n",
       "      <td>Shoulder - Upper Arm</td>\n",
       "      <td>NaN</td>\n",
       "      <td>NaN</td>\n",
       "      <td>Pedestrian/Bicyclist/Other Pedestrian at Inter...</td>\n",
       "      <td>Crossing With Signal</td>\n",
       "      <td>None Visible</td>\n",
       "      <td>Pedestrian</td>\n",
       "      <td>Unspecified</td>\n",
       "      <td>Unspecified</td>\n",
       "      <td>F</td>\n",
       "    </tr>\n",
       "    <tr>\n",
       "      <th>2</th>\n",
       "      <td>10254556</td>\n",
       "      <td>4230715.0</td>\n",
       "      <td>10/26/2019</td>\n",
       "      <td>8:50</td>\n",
       "      <td>1a085543-ae9d-4a69-8cd0-fb7b33380a8b</td>\n",
       "      <td>Bicyclist</td>\n",
       "      <td>Injured</td>\n",
       "      <td>19143832.0</td>\n",
       "      <td>42.0</td>\n",
       "      <td>Not Ejected</td>\n",
       "      <td>...</td>\n",
       "      <td>Knee-Lower Leg Foot</td>\n",
       "      <td>Driver</td>\n",
       "      <td>Unknown</td>\n",
       "      <td>NaN</td>\n",
       "      <td>NaN</td>\n",
       "      <td>None Visible</td>\n",
       "      <td>Driver</td>\n",
       "      <td>NaN</td>\n",
       "      <td>NaN</td>\n",
       "      <td>M</td>\n",
       "    </tr>\n",
       "    <tr>\n",
       "      <th>3</th>\n",
       "      <td>10250834</td>\n",
       "      <td>4230376.0</td>\n",
       "      <td>10/26/2019</td>\n",
       "      <td>19:40</td>\n",
       "      <td>f58fc41f-497e-4f30-bf49-a9a80adec8b2</td>\n",
       "      <td>Bicyclist</td>\n",
       "      <td>Injured</td>\n",
       "      <td>19141949.0</td>\n",
       "      <td>36.0</td>\n",
       "      <td>Not Ejected</td>\n",
       "      <td>...</td>\n",
       "      <td>Back</td>\n",
       "      <td>Driver</td>\n",
       "      <td>NaN</td>\n",
       "      <td>NaN</td>\n",
       "      <td>NaN</td>\n",
       "      <td>Internal</td>\n",
       "      <td>Driver</td>\n",
       "      <td>NaN</td>\n",
       "      <td>NaN</td>\n",
       "      <td>M</td>\n",
       "    </tr>\n",
       "    <tr>\n",
       "      <th>4</th>\n",
       "      <td>10252474</td>\n",
       "      <td>4229773.0</td>\n",
       "      <td>10/26/2019</td>\n",
       "      <td>16:50</td>\n",
       "      <td>4bf13d12-8d7a-4cb0-997f-dd6a8b1adca6</td>\n",
       "      <td>Occupant</td>\n",
       "      <td>Injured</td>\n",
       "      <td>19142773.0</td>\n",
       "      <td>50.0</td>\n",
       "      <td>Not Ejected</td>\n",
       "      <td>...</td>\n",
       "      <td>Head</td>\n",
       "      <td>Front passenger, if two or more persons, inclu...</td>\n",
       "      <td>Lap Belt &amp; Harness</td>\n",
       "      <td>NaN</td>\n",
       "      <td>NaN</td>\n",
       "      <td>Complaint of Pain or Nausea</td>\n",
       "      <td>Passenger</td>\n",
       "      <td>NaN</td>\n",
       "      <td>NaN</td>\n",
       "      <td>F</td>\n",
       "    </tr>\n",
       "  </tbody>\n",
       "</table>\n",
       "<p>5 rows × 21 columns</p>\n",
       "</div>"
      ],
      "text/plain": [
       "  UNIQUE_ID  COLLISION_ID  CRASH_DATE CRASH_TIME  \\\n",
       "0  10253606     4230743.0  10/24/2019      19:15   \n",
       "1  10248708     4229547.0  10/26/2019       1:15   \n",
       "2  10254556     4230715.0  10/26/2019       8:50   \n",
       "3  10250834     4230376.0  10/26/2019      19:40   \n",
       "4  10252474     4229773.0  10/26/2019      16:50   \n",
       "\n",
       "                              PERSON_ID PERSON_TYPE PERSON_INJURY  VEHICLE_ID  \\\n",
       "0  84bcb3a7-d201-4c61-9e30-fe29268c1074    Occupant       Injured  19143343.0   \n",
       "1  a8904763-2870-42f3-865c-b53d8e5156e2  Pedestrian       Injured         NaN   \n",
       "2  1a085543-ae9d-4a69-8cd0-fb7b33380a8b   Bicyclist       Injured  19143832.0   \n",
       "3  f58fc41f-497e-4f30-bf49-a9a80adec8b2   Bicyclist       Injured  19141949.0   \n",
       "4  4bf13d12-8d7a-4cb0-997f-dd6a8b1adca6    Occupant       Injured  19142773.0   \n",
       "\n",
       "   PERSON_AGE     EJECTION  ...         BODILY_INJURY  \\\n",
       "0        27.0  Not Ejected  ...                  Back   \n",
       "1        24.0          NaN  ...  Shoulder - Upper Arm   \n",
       "2        42.0  Not Ejected  ...   Knee-Lower Leg Foot   \n",
       "3        36.0  Not Ejected  ...                  Back   \n",
       "4        50.0  Not Ejected  ...                  Head   \n",
       "\n",
       "                                 POSITION_IN_VEHICLE    SAFETY_EQUIPMENT  \\\n",
       "0                                             Driver  Lap Belt & Harness   \n",
       "1                                                NaN                 NaN   \n",
       "2                                             Driver             Unknown   \n",
       "3                                             Driver                 NaN   \n",
       "4  Front passenger, if two or more persons, inclu...  Lap Belt & Harness   \n",
       "\n",
       "                                        PED_LOCATION            PED_ACTION  \\\n",
       "0                                                NaN                   NaN   \n",
       "1  Pedestrian/Bicyclist/Other Pedestrian at Inter...  Crossing With Signal   \n",
       "2                                                NaN                   NaN   \n",
       "3                                                NaN                   NaN   \n",
       "4                                                NaN                   NaN   \n",
       "\n",
       "                     COMPLAINT    PED_ROLE CONTRIBUTING_FACTOR_1  \\\n",
       "0  Complaint of Pain or Nausea      Driver                   NaN   \n",
       "1                 None Visible  Pedestrian           Unspecified   \n",
       "2                 None Visible      Driver                   NaN   \n",
       "3                     Internal      Driver                   NaN   \n",
       "4  Complaint of Pain or Nausea   Passenger                   NaN   \n",
       "\n",
       "  CONTRIBUTING_FACTOR_2 PERSON_SEX  \n",
       "0                   NaN          M  \n",
       "1           Unspecified          F  \n",
       "2                   NaN          M  \n",
       "3                   NaN          M  \n",
       "4                   NaN          F  \n",
       "\n",
       "[5 rows x 21 columns]"
      ]
     },
     "execution_count": 4,
     "metadata": {},
     "output_type": "execute_result"
    }
   ],
   "source": [
    "# Load the dataset\n",
    "df=pd.read_csv(\"C:/Users/Acer/OneDrive/Desktop/Vehicle Collision.csv\")\n",
    "\n",
    "# Display basic info about the dataset\n",
    "df.head()"
   ]
  },
  {
   "cell_type": "code",
   "execution_count": null,
   "id": "1fc20afe-9e88-4fa8-8643-9cbc2f54e576",
   "metadata": {},
   "outputs": [
    {
     "name": "stdout",
     "output_type": "stream",
     "text": [
      "<class 'pandas.core.frame.DataFrame'>\n",
      "RangeIndex: 230660 entries, 0 to 230659\n",
      "Data columns (total 21 columns):\n",
      " #   Column                 Non-Null Count   Dtype  \n",
      "---  ------                 --------------   -----  \n",
      " 0   UNIQUE_ID              230660 non-null  object \n",
      " 1   COLLISION_ID           230656 non-null  float64\n",
      " 2   CRASH_DATE             230656 non-null  object \n",
      " 3   CRASH_TIME             230656 non-null  object \n",
      " 4   PERSON_ID              230653 non-null  object \n",
      " 5   PERSON_TYPE            230656 non-null  object \n",
      " 6   PERSON_INJURY          230656 non-null  object \n",
      " 7   VEHICLE_ID             181937 non-null  float64\n",
      " 8   PERSON_AGE             229663 non-null  float64\n",
      " 9   EJECTION               102787 non-null  object \n",
      " 10  EMOTIONAL_STATUS       126918 non-null  object \n",
      " 11  BODILY_INJURY          126959 non-null  object \n",
      " 12  POSITION_IN_VEHICLE    102906 non-null  object \n",
      " 13  SAFETY_EQUIPMENT       90120 non-null   object \n",
      " 14  PED_LOCATION           26292 non-null   object \n",
      " 15  PED_ACTION             26230 non-null   object \n",
      " 16  COMPLAINT              126973 non-null  object \n",
      " 17  PED_ROLE               126973 non-null  object \n",
      " 18  CONTRIBUTING_FACTOR_1  25208 non-null   object \n",
      " 19  CONTRIBUTING_FACTOR_2  25183 non-null   object \n",
      " 20  PERSON_SEX             126892 non-null  object \n",
      "dtypes: float64(3), object(18)\n",
      "memory usage: 37.0+ MB\n"
     ]
    }
   ],
   "source": [
    "df.info()"
   ]
  },
  {
   "cell_type": "markdown",
   "id": "aaf9dce1-c8b2-4167-a0bf-8cf11f65c39b",
   "metadata": {},
   "source": [
    "# Data Cleaning"
   ]
  },
  {
   "cell_type": "code",
   "execution_count": null,
   "id": "861b3e9b-908e-4eff-9f5d-41554a334ae8",
   "metadata": {},
   "outputs": [
    {
     "name": "stdout",
     "output_type": "stream",
     "text": [
      "                       Missing Values  Percentage\n",
      "BODILY_INJURY                  103701   44.958380\n",
      "COLLISION_ID                        4    0.001734\n",
      "COMPLAINT                      103687   44.952311\n",
      "CONTRIBUTING_FACTOR_1          205452   89.071360\n",
      "CONTRIBUTING_FACTOR_2          205477   89.082199\n",
      "CRASH_DATE                          4    0.001734\n",
      "CRASH_TIME                          4    0.001734\n",
      "EJECTION                       127873   55.437874\n",
      "EMOTIONAL_STATUS               103742   44.976155\n",
      "PED_ACTION                     204430   88.628284\n",
      "PED_LOCATION                   204368   88.601405\n",
      "PED_ROLE                       103687   44.952311\n",
      "PERSON_AGE                        997    0.432238\n",
      "PERSON_ID                           7    0.003035\n",
      "PERSON_INJURY                       4    0.001734\n",
      "PERSON_SEX                     103768   44.987427\n",
      "PERSON_TYPE                         4    0.001734\n",
      "POSITION_IN_VEHICLE            127754   55.386283\n",
      "SAFETY_EQUIPMENT               140540   60.929507\n",
      "UNIQUE_ID                           0    0.000000\n",
      "VEHICLE_ID                      48723   21.123298\n"
     ]
    }
   ],
   "source": [
    "# Checking missing values\n",
    "missing_values = df.isnull().sum().sort_values(ascending=False)\n",
    "missing_percentage = (df.isnull().sum() / len(df)) * 100\n",
    "missing_data = pd.DataFrame({'Missing Values': missing_values, 'Percentage': missing_percentage})\n",
    "print(missing_data)"
   ]
  },
  {
   "cell_type": "code",
   "execution_count": null,
   "id": "349ee491-f6a7-4e66-8e9f-29b1f6cb1886",
   "metadata": {},
   "outputs": [],
   "source": [
    "# Dropping columns with more than 80% missing values\n",
    "columns_to_drop = [\n",
    "    'CONTRIBUTING_FACTOR_1', 'CONTRIBUTING_FACTOR_2',\n",
    "    'PED_ACTION', 'PED_LOCATION','UNIQUE_ID','COLLISION_ID'\n",
    "]\n",
    "df.drop(columns=columns_to_drop, inplace=True)"
   ]
  },
  {
   "cell_type": "code",
   "execution_count": null,
   "id": "66d7ea05-9e77-4bf9-9336-9481f35927ac",
   "metadata": {},
   "outputs": [],
   "source": [
    "# Filling categorical missing values with \"Unknown\"\n",
    "fill_cols = ['BODILY_INJURY', 'COMPLAINT', 'EMOTIONAL_STATUS',\n",
    "             'PERSON_SEX', 'PED_ROLE', 'EJECTION', 'SAFETY_EQUIPMENT', 'POSITION_IN_VEHICLE']\n",
    "\n",
    "for col in fill_cols:\n",
    "    df[col] = df[col].fillna(\"Unknown\")"
   ]
  },
  {
   "cell_type": "code",
   "execution_count": null,
   "id": "f0c69a13-ab38-4daa-b159-52fa9af7669e",
   "metadata": {},
   "outputs": [],
   "source": [
    "# Filling PERSON_AGE with median value\n",
    "df['PERSON_AGE'] = df['PERSON_AGE'].fillna(df['PERSON_AGE'].median())\n",
    "\n",
    "# Dropping VEHICLE_ID since it's not critical\n",
    "df = df.drop(columns=['VEHICLE_ID'])"
   ]
  },
  {
   "cell_type": "code",
   "execution_count": null,
   "id": "4cb8fd99-995f-4c4c-bedc-a05bb93d49e2",
   "metadata": {},
   "outputs": [
    {
     "data": {
      "text/plain": [
       "(230660, 14)"
      ]
     },
     "execution_count": 18,
     "metadata": {},
     "output_type": "execute_result"
    }
   ],
   "source": [
    "df.shape"
   ]
  },
  {
   "cell_type": "code",
   "execution_count": null,
   "id": "91f3196a-a15f-4030-9d9b-e0a5bd3428f9",
   "metadata": {},
   "outputs": [],
   "source": [
    "# Dropping rows with very few missing values\n",
    "df.dropna(subset=['CRASH_DATE', 'CRASH_TIME', 'PERSON_ID', 'PERSON_INJURY', 'PERSON_TYPE'], inplace=True)"
   ]
  },
  {
   "cell_type": "code",
   "execution_count": null,
   "id": "b433cf26-3ba6-4bec-b719-e380b951bbdc",
   "metadata": {},
   "outputs": [
    {
     "name": "stdout",
     "output_type": "stream",
     "text": [
      "                     Missing Values  Percentage\n",
      "CRASH_DATE                        0         0.0\n",
      "CRASH_TIME                        0         0.0\n",
      "PERSON_ID                         0         0.0\n",
      "PERSON_TYPE                       0         0.0\n",
      "PERSON_INJURY                     0         0.0\n",
      "PERSON_AGE                        0         0.0\n",
      "EJECTION                          0         0.0\n",
      "EMOTIONAL_STATUS                  0         0.0\n",
      "BODILY_INJURY                     0         0.0\n",
      "POSITION_IN_VEHICLE               0         0.0\n",
      "SAFETY_EQUIPMENT                  0         0.0\n",
      "COMPLAINT                         0         0.0\n",
      "PED_ROLE                          0         0.0\n",
      "PERSON_SEX                        0         0.0\n"
     ]
    }
   ],
   "source": [
    "# Create a DataFrame showing missing value count and percentage\n",
    "missing_data = pd.DataFrame({\n",
    "    'Missing Values': df.isnull().sum(),\n",
    "    'Percentage': (df.isnull().sum() / len(df)) * 100\n",
    "}).sort_values(by='Percentage', ascending=False)\n",
    "\n",
    "# Display missing data\n",
    "print(missing_data)"
   ]
  },
  {
   "cell_type": "code",
   "execution_count": null,
   "id": "1ecdd40e-9c67-4a14-9f39-03caa5decff7",
   "metadata": {},
   "outputs": [
    {
     "data": {
      "text/html": [
       "<div>\n",
       "<style scoped>\n",
       "    .dataframe tbody tr th:only-of-type {\n",
       "        vertical-align: middle;\n",
       "    }\n",
       "\n",
       "    .dataframe tbody tr th {\n",
       "        vertical-align: top;\n",
       "    }\n",
       "\n",
       "    .dataframe thead th {\n",
       "        text-align: right;\n",
       "    }\n",
       "</style>\n",
       "<table border=\"1\" class=\"dataframe\">\n",
       "  <thead>\n",
       "    <tr style=\"text-align: right;\">\n",
       "      <th></th>\n",
       "      <th>PERSON_AGE</th>\n",
       "    </tr>\n",
       "  </thead>\n",
       "  <tbody>\n",
       "    <tr>\n",
       "      <th>count</th>\n",
       "      <td>230653.000000</td>\n",
       "    </tr>\n",
       "    <tr>\n",
       "      <th>mean</th>\n",
       "      <td>36.459348</td>\n",
       "    </tr>\n",
       "    <tr>\n",
       "      <th>std</th>\n",
       "      <td>84.742474</td>\n",
       "    </tr>\n",
       "    <tr>\n",
       "      <th>min</th>\n",
       "      <td>-997.000000</td>\n",
       "    </tr>\n",
       "    <tr>\n",
       "      <th>25%</th>\n",
       "      <td>23.000000</td>\n",
       "    </tr>\n",
       "    <tr>\n",
       "      <th>50%</th>\n",
       "      <td>33.000000</td>\n",
       "    </tr>\n",
       "    <tr>\n",
       "      <th>75%</th>\n",
       "      <td>49.000000</td>\n",
       "    </tr>\n",
       "    <tr>\n",
       "      <th>max</th>\n",
       "      <td>9999.000000</td>\n",
       "    </tr>\n",
       "  </tbody>\n",
       "</table>\n",
       "</div>"
      ],
      "text/plain": [
       "          PERSON_AGE\n",
       "count  230653.000000\n",
       "mean       36.459348\n",
       "std        84.742474\n",
       "min      -997.000000\n",
       "25%        23.000000\n",
       "50%        33.000000\n",
       "75%        49.000000\n",
       "max      9999.000000"
      ]
     },
     "execution_count": 24,
     "metadata": {},
     "output_type": "execute_result"
    }
   ],
   "source": [
    "\n",
    "df.describe()"
   ]
  },
  {
   "cell_type": "code",
   "execution_count": null,
   "id": "dbcb51a2-92b8-4936-b65c-ed31222ba228",
   "metadata": {},
   "outputs": [
    {
     "data": {
      "text/plain": [
       "0     19:15\n",
       "1      1:15\n",
       "2      8:50\n",
       "3     19:40\n",
       "4     16:50\n",
       "5      1:20\n",
       "6     12:06\n",
       "7      0:05\n",
       "8     15:40\n",
       "9      3:06\n",
       "10    17:15\n",
       "11    10:43\n",
       "12    19:56\n",
       "13     6:23\n",
       "14     6:54\n",
       "15     3:50\n",
       "16    19:56\n",
       "17     2:29\n",
       "18    22:22\n",
       "19     2:42\n",
       "Name: CRASH_TIME, dtype: object"
      ]
     },
     "execution_count": 26,
     "metadata": {},
     "output_type": "execute_result"
    }
   ],
   "source": [
    "\n",
    "df['CRASH_TIME'].head(20)"
   ]
  },
  {
   "cell_type": "code",
   "execution_count": null,
   "id": "44cf6af3-0469-498e-9caa-c39c69461b58",
   "metadata": {},
   "outputs": [
    {
     "name": "stdout",
     "output_type": "stream",
     "text": [
      "0    2019-10-24\n",
      "1    2019-10-26\n",
      "2    2019-10-26\n",
      "3    2019-10-26\n",
      "4    2019-10-26\n",
      "Name: CRASH_DATE, dtype: object\n"
     ]
    }
   ],
   "source": [
    "# Sample data\n",
    "df['CRASH_DATE'] = pd.to_datetime(df['CRASH_DATE'], errors='coerce')\n",
    "\n",
    "# Convert to standard format (YYYY-MM-DD)\n",
    "df['CRASH_DATE'] = df['CRASH_DATE'].dt.strftime('%Y-%m-%d')\n",
    "\n",
    "print(df['CRASH_DATE'].head())"
   ]
  },
  {
   "cell_type": "code",
   "execution_count": null,
   "id": "cacd41ec-ee13-430b-906f-4b3e99e47ca4",
   "metadata": {},
   "outputs": [
    {
     "data": {
      "text/plain": [
       "0"
      ]
     },
     "execution_count": 30,
     "metadata": {},
     "output_type": "execute_result"
    }
   ],
   "source": [
    "df['CRASH_DATE'].isnull().sum()"
   ]
  },
  {
   "cell_type": "code",
   "execution_count": null,
   "id": "dc34c90a-78bb-4906-aec6-40595bffeb7f",
   "metadata": {},
   "outputs": [
    {
     "name": "stdout",
     "output_type": "stream",
     "text": [
      "  CRASH_TIME CRASH_TIME_CATEGORY\n",
      "0      19:15             Evening\n",
      "1       1:15               Night\n",
      "2       8:50             Morning\n",
      "3      19:40             Evening\n",
      "4      16:50           Afternoon\n"
     ]
    }
   ],
   "source": [
    "import pandas as pd\n",
    "\n",
    "# Sample data\n",
    "df['CRASH_TIME'] = df['CRASH_TIME'].str.strip()  # Clean up extra spaces\n",
    "\n",
    "# Define function to categorize time\n",
    "def categorize_time(time_str):\n",
    "    # Convert string time to a datetime object to extract hour\n",
    "    time_obj = pd.to_datetime(time_str, format='%H:%M')\n",
    "    hour = time_obj.hour\n",
    "    \n",
    "    if 5 <= hour < 12:\n",
    "        return 'Morning'\n",
    "    elif 12 <= hour < 17:\n",
    "        return 'Afternoon'\n",
    "    elif 17 <= hour < 21:\n",
    "        return 'Evening'\n",
    "    else:\n",
    "        return 'Night'\n",
    "\n",
    "# Apply function to categorize each time\n",
    "df['CRASH_TIME_CATEGORY'] = df['CRASH_TIME'].apply(categorize_time)\n",
    "\n",
    "# Check results\n",
    "print(df[['CRASH_TIME', 'CRASH_TIME_CATEGORY']].head())"
   ]
  },
  {
   "cell_type": "code",
   "execution_count": null,
   "id": "56aca8f1-e58a-451b-a80f-5ba10b0155c0",
   "metadata": {},
   "outputs": [
    {
     "data": {
      "text/plain": [
       "CRASH_DATE             0\n",
       "CRASH_TIME             0\n",
       "PERSON_ID              0\n",
       "PERSON_TYPE            0\n",
       "PERSON_INJURY          0\n",
       "PERSON_AGE             0\n",
       "EJECTION               0\n",
       "EMOTIONAL_STATUS       0\n",
       "BODILY_INJURY          0\n",
       "POSITION_IN_VEHICLE    0\n",
       "SAFETY_EQUIPMENT       0\n",
       "COMPLAINT              0\n",
       "PED_ROLE               0\n",
       "PERSON_SEX             0\n",
       "CRASH_TIME_CATEGORY    0\n",
       "dtype: int64"
      ]
     },
     "execution_count": 33,
     "metadata": {},
     "output_type": "execute_result"
    }
   ],
   "source": [
    "df.isnull().sum()"
   ]
  },
  {
   "cell_type": "code",
   "execution_count": null,
   "id": "bd20ee45-d3e1-4e62-886d-d663d40cf1af",
   "metadata": {},
   "outputs": [
    {
     "name": "stderr",
     "output_type": "stream",
     "text": [
      "C:\\Users\\Acer\\AppData\\Local\\Temp\\ipykernel_42904\\3347072095.py:2: FutureWarning: Series.fillna with 'method' is deprecated and will raise in a future version. Use obj.ffill() or obj.bfill() instead.\n",
      "  df['CRASH_DATE'] = df['CRASH_DATE'].fillna(method='ffill')\n",
      "C:\\Users\\Acer\\AppData\\Local\\Temp\\ipykernel_42904\\3347072095.py:5: FutureWarning: Series.fillna with 'method' is deprecated and will raise in a future version. Use obj.ffill() or obj.bfill() instead.\n",
      "  df['CRASH_DATE'] = df['CRASH_DATE'].fillna(method='bfill')\n"
     ]
    }
   ],
   "source": [
    "# Forward fill\n",
    "df['CRASH_DATE'] = df['CRASH_DATE'].fillna(method='ffill')\n",
    "\n",
    "# Or backward fill\n",
    "df['CRASH_DATE'] = df['CRASH_DATE'].fillna(method='bfill')"
   ]
  },
  {
   "cell_type": "code",
   "execution_count": null,
   "id": "a09f0505-b215-436e-99c7-df2e183ad647",
   "metadata": {},
   "outputs": [
    {
     "data": {
      "text/plain": [
       "PERSON_INJURY\n",
       "Injured    229630\n",
       "Killed       1023\n",
       "Name: count, dtype: int64"
      ]
     },
     "execution_count": 35,
     "metadata": {},
     "output_type": "execute_result"
    }
   ],
   "source": [
    "df['PERSON_INJURY'].value_counts()"
   ]
  },
  {
   "cell_type": "code",
   "execution_count": null,
   "id": "3ccf0d31-34f5-445d-8750-960aeab6ee92",
   "metadata": {},
   "outputs": [
    {
     "name": "stdout",
     "output_type": "stream",
     "text": [
      "          PERSON_AGE\n",
      "count  230653.000000\n",
      "mean       36.459348\n",
      "std        84.742474\n",
      "min      -997.000000\n",
      "25%        23.000000\n",
      "50%        33.000000\n",
      "75%        49.000000\n",
      "max      9999.000000\n"
     ]
    },
    {
     "data": {
      "text/plain": [
       "<Axes: >"
      ]
     },
     "execution_count": 37,
     "metadata": {},
     "output_type": "execute_result"
    },
    {
     "data": {
      "image/png": "[encoded data removed]",
      "text/plain": [
       "<Figure size 640x480 with 1 Axes>"
      ]
     },
     "metadata": {},
     "output_type": "display_data"
    }
   ],
   "source": [
    "# Summary statistics for numerical features\n",
    "print(df.describe())\n",
    "\n",
    "# Plot histogram for numerical features\n",
    "df['PERSON_AGE'].hist(bins=20)"
   ]
  },
  {
   "cell_type": "code",
   "execution_count": null,
   "id": "ee634a02-c3d4-4be4-bcfb-88e015384403",
   "metadata": {},
   "outputs": [
    {
     "data": {
      "text/plain": [
       "0    27.0\n",
       "1    24.0\n",
       "2    42.0\n",
       "3    36.0\n",
       "4    50.0\n",
       "5    36.0\n",
       "6     3.0\n",
       "7    35.0\n",
       "8    32.0\n",
       "9    51.0\n",
       "Name: PERSON_AGE, dtype: float64"
      ]
     },
     "execution_count": 38,
     "metadata": {},
     "output_type": "execute_result"
    }
   ],
   "source": [
    "df['PERSON_AGE'].head(10)"
   ]
  },
  {
   "cell_type": "code",
   "execution_count": null,
   "id": "89d98ee8-6632-4619-93aa-92d853be90ed",
   "metadata": {},
   "outputs": [
    {
     "name": "stdout",
     "output_type": "stream",
     "text": [
      "9999\n"
     ]
    }
   ],
   "source": [
    "# Convert age to integer\n",
    "df['PERSON_AGE'] = df['PERSON_AGE'].astype(int)\n",
    "\n",
    "# Check the conversion\n",
    "print(df['PERSON_AGE'].max())"
   ]
  },
  {
   "cell_type": "code",
   "execution_count": null,
   "id": "e76f75b8-bb51-418a-8ef8-08eb305a0f6a",
   "metadata": {},
   "outputs": [],
   "source": [
    "# Optionally, filter out rows with unrealistic age values\n",
    "df = df[df['PERSON_AGE'] < 80]  # Assuming ages above 120 are invalid"
   ]
  },
  {
   "cell_type": "code",
   "execution_count": null,
   "id": "c1598e7c-e49a-49d5-a69e-b69037a9be9a",
   "metadata": {},
   "outputs": [
    {
     "data": {
      "text/plain": [
       "79"
      ]
     },
     "execution_count": 41,
     "metadata": {},
     "output_type": "execute_result"
    }
   ],
   "source": [
    "\n",
    "df['PERSON_AGE'].max()"
   ]
  },
  {
   "cell_type": "code",
   "execution_count": null,
   "id": "2c5b6527-603e-4490-8702-a3a53ae34e14",
   "metadata": {},
   "outputs": [
    {
     "data": {
      "text/plain": [
       "count    227440.000000\n",
       "mean         34.638318\n",
       "std          20.861909\n",
       "min        -997.000000\n",
       "25%          23.000000\n",
       "50%          33.000000\n",
       "75%          48.000000\n",
       "max          79.000000\n",
       "Name: PERSON_AGE, dtype: float64"
      ]
     },
     "execution_count": 42,
     "metadata": {},
     "output_type": "execute_result"
    }
   ],
   "source": [
    "# Plot histogram for numerical features\n",
    "df['PERSON_AGE'].describe()"
   ]
  },
  {
   "cell_type": "code",
   "execution_count": null,
   "id": "0d873c4a-3cde-4ff5-a55c-39061997a3a6",
   "metadata": {},
   "outputs": [],
   "source": [
    "# Step 1: Replace negative ages and -999 with NaN\n",
    "df['PERSON_AGE'] = df['PERSON_AGE'].replace([-999, -np.inf], np.nan)\n",
    "\n",
    "# Step 2: Remove rows where age is negative or over 80 (you can adjust this threshold as needed)\n",
    "df = df[df['PERSON_AGE'] >= 0]  # Remove negative ages\n",
    "df = df[df['PERSON_AGE'] <= 80]  # Keep ages within the 0-80 range\n",
    "\n",
    "# Optionally, impute missing values (e.g., with the median)\n",
    "df['PERSON_AGE'] = df['PERSON_AGE'].fillna(df['PERSON_AGE'].median())"
   ]
  },
  {
   "cell_type": "code",
   "execution_count": null,
   "id": "f62d89b0-74c7-41cb-949a-71e9b810402a",
   "metadata": {},
   "outputs": [
    {
     "data": {
      "text/plain": [
       "count    227405.000000\n",
       "mean         34.759469\n",
       "std          18.158001\n",
       "min           0.000000\n",
       "25%          23.000000\n",
       "50%          33.000000\n",
       "75%          48.000000\n",
       "max          79.000000\n",
       "Name: PERSON_AGE, dtype: float64"
      ]
     },
     "execution_count": 44,
     "metadata": {},
     "output_type": "execute_result"
    }
   ],
   "source": [
    "# Plot histogram for numerical features\n",
    "df['PERSON_AGE'].describe()"
   ]
  },
  {
   "cell_type": "code",
   "execution_count": null,
   "id": "7855c564-4482-4077-a129-65785be6b1ed",
   "metadata": {},
   "outputs": [
    {
     "data": {
      "text/plain": [
       "CRASH_DATE             0\n",
       "CRASH_TIME             0\n",
       "PERSON_ID              0\n",
       "PERSON_TYPE            0\n",
       "PERSON_INJURY          0\n",
       "PERSON_AGE             0\n",
       "EJECTION               0\n",
       "EMOTIONAL_STATUS       0\n",
       "BODILY_INJURY          0\n",
       "POSITION_IN_VEHICLE    0\n",
       "SAFETY_EQUIPMENT       0\n",
       "COMPLAINT              0\n",
       "PED_ROLE               0\n",
       "PERSON_SEX             0\n",
       "CRASH_TIME_CATEGORY    0\n",
       "dtype: int64"
      ]
     },
     "execution_count": 45,
     "metadata": {},
     "output_type": "execute_result"
    }
   ],
   "source": [
    "df.isnull().sum()"
   ]
  },
  {
   "cell_type": "code",
   "execution_count": null,
   "id": "9779b77d-6d93-4f39-87d3-2dbf1196e93e",
   "metadata": {},
   "outputs": [
    {
     "name": "stdout",
     "output_type": "stream",
     "text": [
      "   PERSON_AGE AGE_CATEGORY\n",
      "0          27  Young Adult\n",
      "1          24  Young Adult\n",
      "2          42        Adult\n",
      "3          36        Adult\n",
      "4          50        Adult\n"
     ]
    }
   ],
   "source": [
    "# Step 1: Remove rows where PERSON_AGE is NaN or invalid\n",
    "df = df[df['PERSON_AGE'] >= 0]  # Remove negative ages\n",
    "df = df[df['PERSON_AGE'] <= 80]  # Keep ages within the 0-80 range\n",
    "\n",
    "# Step 2: Recreate the AGE_CATEGORY column based on cleaned PERSON_AGE\n",
    "bins = [0, 12, 35, 64, 80]\n",
    "labels = ['Kid', 'Young Adult', 'Adult', 'Old']\n",
    "df['AGE_CATEGORY'] = pd.cut(df['PERSON_AGE'], bins=bins, labels=labels, right=True)\n",
    "\n",
    "# Step 3: Check for any NaN values in AGE_CATEGORY (this should be rare now)\n",
    "df = df.dropna(subset=['AGE_CATEGORY'])\n",
    "\n",
    "# Optionally, check the cleaned AGE_CATEGORY column\n",
    "print(df[['PERSON_AGE', 'AGE_CATEGORY']].head())"
   ]
  },
  {
   "cell_type": "markdown",
   "id": "a9ea0720-e8a1-4d6c-b0cd-607712f52df0",
   "metadata": {},
   "source": [
    "# EDA"
   ]
  },
  {
   "cell_type": "code",
   "execution_count": 48,
   "id": "da87ef91-e14f-4a1b-8581-5494804429e9",
   "metadata": {},
   "outputs": [
    {
     "name": "stdout",
     "output_type": "stream",
     "text": [
      "          PERSON_AGE\n",
      "count  217661.000000\n",
      "mean       36.315541\n",
      "std        16.969485\n",
      "min         1.000000\n",
      "25%        24.000000\n",
      "50%        34.000000\n",
      "75%        49.000000\n",
      "max        79.000000\n"
     ]
    },
    {
     "data": {
      "image/png": "[encoded data removed]",
      "text/plain": [
       "<Figure size 640x480 with 1 Axes>"
      ]
     },
     "metadata": {},
     "output_type": "display_data"
    },
    {
     "data": {
      "image/png": "[encoded data removed]",
      "text/plain": [
       "<Figure size 640x480 with 1 Axes>"
      ]
     },
     "metadata": {},
     "output_type": "display_data"
    }
   ],
   "source": [
    "# Summary statistics for numerical features\n",
    "print(df.describe())\n",
    "\n",
    "# Histogram for numeric variables (e.g., AGE, CRASH_TIME)\n",
    "import matplotlib.pyplot as plt\n",
    "import seaborn as sns\n",
    "\n",
    "# Age Distribution\n",
    "sns.histplot(df['PERSON_AGE'], kde=True)\n",
    "plt.title('Distribution of Age')\n",
    "plt.xlabel('Age')\n",
    "plt.ylabel('Frequency')\n",
    "plt.show()\n",
    "\n",
    "# Crash Time Distribution (if it's converted to a categorical feature like morning, evening, etc.)\n",
    "sns.countplot(x='CRASH_TIME', data=df)\n",
    "plt.title('Distribution of Crash Time')\n",
    "plt.xlabel('Crash Time')\n",
    "plt.ylabel('Frequency')\n",
    "plt.show()"
   ]
  },
  {
   "cell_type": "code",
   "execution_count": 49,
   "id": "7d45a807-15f6-47b1-aebf-aa4fb48424c3",
   "metadata": {},
   "outputs": [
    {
     "data": {
      "text/plain": [
       "count     217661\n",
       "unique      1440\n",
       "top        17:00\n",
       "freq        2668\n",
       "Name: CRASH_TIME, dtype: object"
      ]
     },
     "execution_count": 49,
     "metadata": {},
     "output_type": "execute_result"
    }
   ],
   "source": [
    "df['CRASH_TIME'].describe()"
   ]
  },
  {
   "cell_type": "code",
   "execution_count": 50,
   "id": "dcddf0b8-a348-4607-a5a1-e483124a77b2",
   "metadata": {},
   "outputs": [
    {
     "name": "stdout",
     "output_type": "stream",
     "text": [
      "PERSON_TYPE\n",
      "Occupant           155025\n",
      "Pedestrian          45047\n",
      "Bicyclist           17549\n",
      "Other Motorized        40\n",
      "Name: count, dtype: int64\n"
     ]
    },
    {
     "data": {
      "image/png": "[encoded data removed]",
      "text/plain": [
       "<Figure size 640x480 with 1 Axes>"
      ]
     },
     "metadata": {},
     "output_type": "display_data"
    }
   ],
   "source": [
    "# Frequency count for categorical features\n",
    "print(df['PERSON_TYPE'].value_counts())\n",
    "\n",
    "# Visualize the categorical variables\n",
    "sns.countplot(x='PERSON_TYPE', data=df)\n",
    "plt.title('Distribution of Person Type')\n",
    "plt.xlabel('Person Type')\n",
    "plt.ylabel('Frequency')\n",
    "plt.show()\n",
    "\n",
    "# You can repeat this for other categorical columns like EMOTIONAL_STATUS, PERSON_INJURY, etc."
   ]
  },
  {
   "cell_type": "code",
   "execution_count": 51,
   "id": "b5e040d0-55e8-4252-8c65-0cef4f82c4e2",
   "metadata": {},
   "outputs": [
    {
     "name": "stdout",
     "output_type": "stream",
     "text": [
      "<class 'pandas.core.frame.DataFrame'>\n",
      "Index: 217661 entries, 0 to 230655\n",
      "Data columns (total 16 columns):\n",
      " #   Column               Non-Null Count   Dtype   \n",
      "---  ------               --------------   -----   \n",
      " 0   CRASH_DATE           217661 non-null  object  \n",
      " 1   CRASH_TIME           217661 non-null  object  \n",
      " 2   PERSON_ID            217661 non-null  object  \n",
      " 3   PERSON_TYPE          217661 non-null  object  \n",
      " 4   PERSON_INJURY        217661 non-null  object  \n",
      " 5   PERSON_AGE           217661 non-null  int32   \n",
      " 6   EJECTION             217661 non-null  object  \n",
      " 7   EMOTIONAL_STATUS     217661 non-null  object  \n",
      " 8   BODILY_INJURY        217661 non-null  object  \n",
      " 9   POSITION_IN_VEHICLE  217661 non-null  object  \n",
      " 10  SAFETY_EQUIPMENT     217661 non-null  object  \n",
      " 11  COMPLAINT            217661 non-null  object  \n",
      " 12  PED_ROLE             217661 non-null  object  \n",
      " 13  PERSON_SEX           217661 non-null  object  \n",
      " 14  CRASH_TIME_CATEGORY  217661 non-null  object  \n",
      " 15  AGE_CATEGORY         217661 non-null  category\n",
      "dtypes: category(1), int32(1), object(14)\n",
      "memory usage: 25.9+ MB\n"
     ]
    }
   ],
   "source": [
    "df.info()"
   ]
  },
  {
   "cell_type": "code",
   "execution_count": 52,
   "id": "816ac91e-466e-4c13-8d16-9ae15a0bd775",
   "metadata": {},
   "outputs": [
    {
     "name": "stderr",
     "output_type": "stream",
     "text": [
      "C:\\Users\\Acer\\AppData\\Local\\Temp\\ipykernel_42904\\1618550001.py:9: FutureWarning: \n",
      "\n",
      "Passing `palette` without assigning `hue` is deprecated and will be removed in v0.14.0. Assign the `x` variable to `hue` and set `legend=False` for the same effect.\n",
      "\n",
      "  sns.barplot(x=safety_counts.index, y=safety_counts.values, palette=\"viridis\")\n"
     ]
    },
    {
     "data": {
      "image/png": "[encoded data removed]",
      "text/plain": [
       "<Figure size 1200x600 with 1 Axes>"
      ]
     },
     "metadata": {},
     "output_type": "display_data"
    }
   ],
   "source": [
    "import matplotlib.pyplot as plt\n",
    "import seaborn as sns\n",
    "\n",
    "# Count occurrences of each safety equipment type\n",
    "safety_counts = df[\"SAFETY_EQUIPMENT\"].value_counts()\n",
    "\n",
    "# Plot\n",
    "plt.figure(figsize=(12, 6))\n",
    "sns.barplot(x=safety_counts.index, y=safety_counts.values, palette=\"viridis\")\n",
    "\n",
    "# Add labels\n",
    "plt.title(\"Usage of Safety Equipment in Accidents\")\n",
    "plt.xlabel(\"Safety Equipment Type\")\n",
    "plt.ylabel(\"Count\")\n",
    "plt.xticks(rotation=45)  # Rotate labels for better readability\n",
    "plt.grid(axis=\"y\", linestyle=\"--\", alpha=0.7)\n",
    "\n",
    "# Show plot\n",
    "plt.show()"
   ]
  },
  {
   "cell_type": "code",
   "execution_count": 53,
   "id": "1e0187cc-5c2d-47c1-9680-1b6b09dbdb03",
   "metadata": {},
   "outputs": [
    {
     "name": "stdout",
     "output_type": "stream",
     "text": [
      "PERSON_INJURY\n",
      "0    216777\n",
      "1       884\n",
      "Name: count, dtype: int64\n"
     ]
    }
   ],
   "source": [
    "# Step 1: Initialize the LabelEncoder\n",
    "le = LabelEncoder()\n",
    "\n",
    "# Step 2: Encode the 'PERSON_INJURY' column (or any categorical column)\n",
    "df['PERSON_INJURY'] = le.fit_transform(df['PERSON_INJURY'])\n",
    "\n",
    "# Verify the encoding\n",
    "print(df['PERSON_INJURY'].value_counts())"
   ]
  },
  {
   "cell_type": "code",
   "execution_count": 54,
   "id": "f89fb397-05ad-4d77-a035-3d1e787ef6c0",
   "metadata": {},
   "outputs": [
    {
     "data": {
      "image/png": "[encoded data removed]",
      "text/plain": [
       "<Figure size 600x300 with 2 Axes>"
      ]
     },
     "metadata": {},
     "output_type": "display_data"
    }
   ],
   "source": [
    "# Step 1: Convert CRASH_DATE to datetime format\n",
    "df['CRASH_DATE'] = pd.to_datetime(df['CRASH_DATE'], errors='coerce')\n",
    "\n",
    "# Step 2: Extract useful features (like year, month, or the number of days since the earliest date)\n",
    "df['CRASH_YEAR'] = df['CRASH_DATE'].dt.year\n",
    "df['CRASH_MONTH'] = df['CRASH_DATE'].dt.month\n",
    "df['CRASH_DAY'] = df['CRASH_DATE'].dt.day\n",
    "df['DAYS_SINCE_FIRST'] = (df['CRASH_DATE'] - df['CRASH_DATE'].min()).dt.days  # Number of days since the first crash\n",
    "\n",
    "# Now you can use the new columns in the correlation matrix\n",
    "correlation_matrix = df[['PERSON_AGE', 'DAYS_SINCE_FIRST', 'CRASH_YEAR', 'CRASH_MONTH', 'CRASH_DAY', 'PERSON_INJURY']].corr()\n",
    "\n",
    "# Visualize the correlation matrix\n",
    "plt.figure(figsize=(6, 3))\n",
    "sns.heatmap(correlation_matrix, annot=True, cmap='coolwarm', fmt='.2f')\n",
    "plt.title('Correlation Matrix')\n",
    "plt.show()"
   ]
  },
  {
   "cell_type": "code",
   "execution_count": 55,
   "id": "0e3980f8-b424-408d-9bfc-150c3cebbc88",
   "metadata": {},
   "outputs": [
    {
     "data": {
      "image/png": "[encoded data removed]",
      "text/plain": [
       "<Figure size 640x480 with 1 Axes>"
      ]
     },
     "metadata": {},
     "output_type": "display_data"
    }
   ],
   "source": [
    "# Scatter plot for age vs severity (if PERSON_INJURY is a numeric or binary target)\n",
    "sns.scatterplot(x='PERSON_AGE', y='PERSON_INJURY', data=df)\n",
    "plt.title('Age vs Injury Severity')\n",
    "plt.xlabel('Age')\n",
    "plt.ylabel('Injury Severity')\n",
    "plt.show()"
   ]
  },
  {
   "cell_type": "code",
   "execution_count": 56,
   "id": "5e9b90d8-1349-4227-add3-ffabda0b77bb",
   "metadata": {},
   "outputs": [
    {
     "data": {
      "text/plain": [
       "array(['Occupant', 'Pedestrian', 'Bicyclist', 'Other Motorized'],\n",
       "      dtype=object)"
      ]
     },
     "execution_count": 56,
     "metadata": {},
     "output_type": "execute_result"
    }
   ],
   "source": [
    "df['PERSON_TYPE'].unique()"
   ]
  },
  {
   "cell_type": "code",
   "execution_count": 57,
   "id": "0eae154a-45f8-49f0-80ca-c57e54b861d0",
   "metadata": {},
   "outputs": [
    {
     "name": "stdout",
     "output_type": "stream",
     "text": [
      "<class 'pandas.core.frame.DataFrame'>\n",
      "Index: 217661 entries, 0 to 230655\n",
      "Data columns (total 20 columns):\n",
      " #   Column               Non-Null Count   Dtype         \n",
      "---  ------               --------------   -----         \n",
      " 0   CRASH_DATE           217661 non-null  datetime64[ns]\n",
      " 1   CRASH_TIME           217661 non-null  object        \n",
      " 2   PERSON_ID            217661 non-null  object        \n",
      " 3   PERSON_TYPE          217661 non-null  object        \n",
      " 4   PERSON_INJURY        217661 non-null  int32         \n",
      " 5   PERSON_AGE           217661 non-null  int32         \n",
      " 6   EJECTION             217661 non-null  object        \n",
      " 7   EMOTIONAL_STATUS     217661 non-null  object        \n",
      " 8   BODILY_INJURY        217661 non-null  object        \n",
      " 9   POSITION_IN_VEHICLE  217661 non-null  object        \n",
      " 10  SAFETY_EQUIPMENT     217661 non-null  object        \n",
      " 11  COMPLAINT            217661 non-null  object        \n",
      " 12  PED_ROLE             217661 non-null  object        \n",
      " 13  PERSON_SEX           217661 non-null  object        \n",
      " 14  CRASH_TIME_CATEGORY  217661 non-null  object        \n",
      " 15  AGE_CATEGORY         217661 non-null  category      \n",
      " 16  CRASH_YEAR           217661 non-null  int32         \n",
      " 17  CRASH_MONTH          217661 non-null  int32         \n",
      " 18  CRASH_DAY            217661 non-null  int32         \n",
      " 19  DAYS_SINCE_FIRST     217661 non-null  int64         \n",
      "dtypes: category(1), datetime64[ns](1), int32(5), int64(1), object(12)\n",
      "memory usage: 29.3+ MB\n"
     ]
    }
   ],
   "source": [
    "\n",
    "df.info()"
   ]
  },
  {
   "cell_type": "code",
   "execution_count": 58,
   "id": "2b4d1b1a-ae70-4ac0-aff5-0faac4f0886b",
   "metadata": {},
   "outputs": [
    {
     "data": {
      "text/plain": [
       "array(['Not Ejected', 'Unknown', 'Ejected', 'Does Not Apply', 'Trapped',\n",
       "       'Partially Ejected'], dtype=object)"
      ]
     },
     "execution_count": 58,
     "metadata": {},
     "output_type": "execute_result"
    }
   ],
   "source": [
    "df['EJECTION'].unique()"
   ]
  },
  {
   "cell_type": "code",
   "execution_count": 59,
   "id": "ca376b46-3454-47c2-838e-af0b3c08a224",
   "metadata": {},
   "outputs": [],
   "source": [
    "from sklearn.preprocessing import LabelEncoder\n",
    "\n",
    "encoder = LabelEncoder()\n",
    "df['EJECTION_New'] = encoder.fit_transform(df['EJECTION'])\n",
    "df['EJECTION_New'] = df['EJECTION_New'].astype(int)"
   ]
  },
  {
   "cell_type": "markdown",
   "id": "0d0046a1-fcb1-4e21-b6cc-1cfcc09af0ff",
   "metadata": {},
   "source": [
    "Not Ejected → 0<br>\n",
    "Partially Ejected → 1<br>\n",
    "Ejected → 2<br>\n",
    "Unknown → 3<br>\n",
    "Does Not Apply → 4<br>\n",
    "Trapped → 5<br>"
   ]
  },
  {
   "cell_type": "code",
   "execution_count": 61,
   "id": "89df06b3-1e3e-4913-9698-43e4365e6dc6",
   "metadata": {},
   "outputs": [
    {
     "data": {
      "image/png": "[encoded data removed]",
      "text/plain": [
       "<Figure size 640x480 with 1 Axes>"
      ]
     },
     "metadata": {},
     "output_type": "display_data"
    }
   ],
   "source": [
    "# Boxplot for numerical variables to check for outliers\n",
    "sns.boxplot(x=df['EJECTION_New'])\n",
    "plt.title('Boxplot for Age')\n",
    "plt.show()"
   ]
  },
  {
   "cell_type": "code",
   "execution_count": 62,
   "id": "b5ff74a4-6a4e-400c-921a-b1aa3b52372d",
   "metadata": {},
   "outputs": [
    {
     "name": "stdout",
     "output_type": "stream",
     "text": [
      "<class 'pandas.core.frame.DataFrame'>\n",
      "Index: 217661 entries, 0 to 230655\n",
      "Data columns (total 21 columns):\n",
      " #   Column               Non-Null Count   Dtype         \n",
      "---  ------               --------------   -----         \n",
      " 0   CRASH_DATE           217661 non-null  datetime64[ns]\n",
      " 1   CRASH_TIME           217661 non-null  object        \n",
      " 2   PERSON_ID            217661 non-null  object        \n",
      " 3   PERSON_TYPE          217661 non-null  object        \n",
      " 4   PERSON_INJURY        217661 non-null  int32         \n",
      " 5   PERSON_AGE           217661 non-null  int32         \n",
      " 6   EJECTION             217661 non-null  object        \n",
      " 7   EMOTIONAL_STATUS     217661 non-null  object        \n",
      " 8   BODILY_INJURY        217661 non-null  object        \n",
      " 9   POSITION_IN_VEHICLE  217661 non-null  object        \n",
      " 10  SAFETY_EQUIPMENT     217661 non-null  object        \n",
      " 11  COMPLAINT            217661 non-null  object        \n",
      " 12  PED_ROLE             217661 non-null  object        \n",
      " 13  PERSON_SEX           217661 non-null  object        \n",
      " 14  CRASH_TIME_CATEGORY  217661 non-null  object        \n",
      " 15  AGE_CATEGORY         217661 non-null  category      \n",
      " 16  CRASH_YEAR           217661 non-null  int32         \n",
      " 17  CRASH_MONTH          217661 non-null  int32         \n",
      " 18  CRASH_DAY            217661 non-null  int32         \n",
      " 19  DAYS_SINCE_FIRST     217661 non-null  int64         \n",
      " 20  EJECTION_New         217661 non-null  int32         \n",
      "dtypes: category(1), datetime64[ns](1), int32(6), int64(1), object(12)\n",
      "memory usage: 30.1+ MB\n"
     ]
    }
   ],
   "source": [
    "\n",
    "df.info()"
   ]
  },
  {
   "cell_type": "code",
   "execution_count": 63,
   "id": "5413e21b-0507-41b2-a24c-cdfafa487c8d",
   "metadata": {},
   "outputs": [
    {
     "name": "stdout",
     "output_type": "stream",
     "text": [
      "PERSON_SEX\n",
      "Unknown    43.249824\n",
      "M          31.202650\n",
      "F          25.433128\n",
      "U           0.114398\n",
      "Name: proportion, dtype: float64\n"
     ]
    }
   ],
   "source": [
    "gender_counts = df['PERSON_SEX'].value_counts(normalize=True) * 100\n",
    "print(gender_counts)"
   ]
  },
  {
   "cell_type": "code",
   "execution_count": 64,
   "id": "ed557252-e0e5-4f1f-a448-c1d6b0da91fd",
   "metadata": {},
   "outputs": [],
   "source": [
    "df['PERSON_SEX'] = df['PERSON_SEX'].replace({'U': 'Unknown'})"
   ]
  },
  {
   "cell_type": "code",
   "execution_count": 65,
   "id": "aa7d750c-2f5e-42a6-95bc-e77eb53752b2",
   "metadata": {},
   "outputs": [],
   "source": [
    "from sklearn.preprocessing import LabelEncoder\n",
    "\n",
    "encoder = LabelEncoder()\n",
    "df['PERSON_SEX'] = encoder.fit_transform(df['PERSON_SEX'])  # Example for gender"
   ]
  },
  {
   "cell_type": "code",
   "execution_count": 66,
   "id": "b0612ac0-b6e8-4fe8-91a0-ec310d6a2ec8",
   "metadata": {},
   "outputs": [],
   "source": [
    "# Apply One-Hot Encoding\n",
    "df_encoded = pd.get_dummies(df, columns=['CRASH_TIME_CATEGORY', 'AGE_CATEGORY'], drop_first=True)"
   ]
  },
  {
   "cell_type": "code",
   "execution_count": 67,
   "id": "c80ae6e0-6b81-4d7f-98c5-9133aedcb8c1",
   "metadata": {},
   "outputs": [
    {
     "name": "stderr",
     "output_type": "stream",
     "text": [
      "C:\\Users\\Acer\\AppData\\Local\\Temp\\ipykernel_42904\\3555724602.py:9: FutureWarning: DataFrame.applymap has been deprecated. Use DataFrame.map instead.\n",
      "  df_encoded = df_encoded.applymap(lambda x: int(x) if isinstance(x, bool) else x)\n"
     ]
    },
    {
     "name": "stdout",
     "output_type": "stream",
     "text": [
      "CRASH_DATE                     datetime64[ns]\n",
      "PERSON_ID                              object\n",
      "PERSON_TYPE                            object\n",
      "PERSON_INJURY                           int64\n",
      "PERSON_AGE                              int64\n",
      "EJECTION                               object\n",
      "EMOTIONAL_STATUS                       object\n",
      "BODILY_INJURY                          object\n",
      "POSITION_IN_VEHICLE                    object\n",
      "SAFETY_EQUIPMENT                       object\n",
      "COMPLAINT                              object\n",
      "PED_ROLE                               object\n",
      "PERSON_SEX                              int64\n",
      "CRASH_YEAR                              int64\n",
      "CRASH_MONTH                             int64\n",
      "CRASH_DAY                               int64\n",
      "DAYS_SINCE_FIRST                        int64\n",
      "EJECTION_New                            int64\n",
      "CRASH_TIME_CATEGORY_Evening             int64\n",
      "CRASH_TIME_CATEGORY_Morning             int64\n",
      "CRASH_TIME_CATEGORY_Night               int64\n",
      "AGE_CATEGORY_Young Adult                int64\n",
      "AGE_CATEGORY_Adult                      int64\n",
      "AGE_CATEGORY_Old                        int64\n",
      "CRASH_HOUR                              int64\n",
      "CRASH_MINUTE                            int64\n",
      "dtype: object\n"
     ]
    }
   ],
   "source": [
    "# Ensure CRASH_TIME is in string format before conversion\n",
    "df_encoded['CRASH_HOUR'] = pd.to_datetime(df_encoded['CRASH_TIME'], format='%H:%M').dt.hour\n",
    "df_encoded['CRASH_MINUTE'] = pd.to_datetime(df_encoded['CRASH_TIME'], format='%H:%M').dt.minute\n",
    "\n",
    "# Drop the original CRASH_TIME column\n",
    "df_encoded.drop(columns=['CRASH_TIME'], inplace=True)\n",
    "\n",
    "# Convert all boolean columns to integers (0 and 1)\n",
    "df_encoded = df_encoded.applymap(lambda x: int(x) if isinstance(x, bool) else x)\n",
    "\n",
    "# Check final data types\n",
    "print(df_encoded.dtypes)"
   ]
  },
  {
   "cell_type": "code",
   "execution_count": 68,
   "id": "709c371e-0543-4aa9-be46-12ae6cb4fce4",
   "metadata": {},
   "outputs": [],
   "source": [
    "from sklearn.preprocessing import LabelEncoder\n",
    "\n",
    "# Apply Label Encoding to multiple categorical columns\n",
    "categorical_cols = ['EMOTIONAL_STATUS', 'BODILY_INJURY', 'POSITION_IN_VEHICLE', \n",
    "                    'SAFETY_EQUIPMENT', 'COMPLAINT', 'PED_ROLE']\n",
    "\n",
    "label_encoders = {}  # Dictionary to store encoders\n",
    "\n",
    "for col in categorical_cols:\n",
    "    le = LabelEncoder()\n",
    "    df_encoded[col] = le.fit_transform(df_encoded[col])\n",
    "    label_encoders[col] = le  # Save encoder for inverse transformation if needed"
   ]
  },
  {
   "cell_type": "code",
   "execution_count": 69,
   "id": "151b5da8-f39f-426f-8d13-ad5dacaf27b7",
   "metadata": {},
   "outputs": [
    {
     "data": {
      "text/plain": [
       "0           Evening\n",
       "1             Night\n",
       "2           Morning\n",
       "3           Evening\n",
       "4         Afternoon\n",
       "            ...    \n",
       "230650        Night\n",
       "230651      Evening\n",
       "230652      Morning\n",
       "230653    Afternoon\n",
       "230655    Afternoon\n",
       "Name: CRASH_TIME_CATEGORY, Length: 217661, dtype: object"
      ]
     },
     "execution_count": 69,
     "metadata": {},
     "output_type": "execute_result"
    }
   ],
   "source": [
    "df['CRASH_TIME_CATEGORY']"
   ]
  },
  {
   "cell_type": "code",
   "execution_count": 70,
   "id": "64e53da7-81ed-4127-bfe2-aa4aeb98c555",
   "metadata": {},
   "outputs": [],
   "source": [
    "from sklearn.preprocessing import LabelEncoder\n",
    "\n",
    "# Initialize Label Encoder\n",
    "label_encoder = LabelEncoder()\n",
    "\n",
    "# Transform the Column\n",
    "df['CRASH_TIME_CATEGORY'] = label_encoder.fit_transform(df['CRASH_TIME_CATEGORY'])"
   ]
  },
  {
   "cell_type": "code",
   "execution_count": 71,
   "id": "6e741b3d-13ef-4060-a587-7d4a3c81208e",
   "metadata": {},
   "outputs": [],
   "source": [
    "df['CRASH_TIME_CATEGORY'] = df['CRASH_TIME_CATEGORY'].fillna(-1).astype(int)"
   ]
  },
  {
   "cell_type": "code",
   "execution_count": 109,
   "id": "fad0a6c2-b2c2-4753-8e71-3987133d7b2a",
   "metadata": {},
   "outputs": [],
   "source": [
    "# Splitting data into train and test sets\n",
    "X = df.drop(columns=['PERSON_INJURY'])  # Features\n",
    "y = df['PERSON_INJURY']  # Target variable\n",
    "\n",
    "X_train, X_test, y_train, y_test = train_test_split(X, y, test_size=0.2, random_state=42)"
   ]
  },
  {
   "cell_type": "code",
   "execution_count": 111,
   "id": "3c50ef40-45c2-47ec-8ef9-bdcb2cbcfa0e",
   "metadata": {},
   "outputs": [
    {
     "data": {
      "text/plain": [
       "(174128, 20)"
      ]
     },
     "execution_count": 111,
     "metadata": {},
     "output_type": "execute_result"
    }
   ],
   "source": [
    "X_train.shape"
   ]
  },
  {
   "cell_type": "code",
   "execution_count": 113,
   "id": "0e3c9dc4-050b-4052-8328-deafc2eb7e44",
   "metadata": {},
   "outputs": [
    {
     "data": {
      "text/plain": [
       "(43533, 20)"
      ]
     },
     "execution_count": 113,
     "metadata": {},
     "output_type": "execute_result"
    }
   ],
   "source": [
    "X_test.shape"
   ]
  },
  {
   "cell_type": "code",
   "execution_count": 115,
   "id": "e8e5a74c-a40b-4f37-a6f6-91b97d6090ae",
   "metadata": {},
   "outputs": [
    {
     "data": {
      "text/plain": [
       "(174128,)"
      ]
     },
     "execution_count": 115,
     "metadata": {},
     "output_type": "execute_result"
    }
   ],
   "source": [
    "y_train.shape"
   ]
  },
  {
   "cell_type": "code",
   "execution_count": 117,
   "id": "17d50e04-ca47-4ce8-b989-2a39a1b2a663",
   "metadata": {},
   "outputs": [
    {
     "data": {
      "text/plain": [
       "(43533,)"
      ]
     },
     "execution_count": 117,
     "metadata": {},
     "output_type": "execute_result"
    }
   ],
   "source": [
    "y_test.shape"
   ]
  },
  {
   "cell_type": "markdown",
   "id": "74f5e79f-466f-4fc4-9cc6-5c99872b84fb",
   "metadata": {},
   "source": [
    "# Encoding Bcos there is some data in Object form we need to change in int"
   ]
  },
  {
   "cell_type": "code",
   "execution_count": 120,
   "id": "64634622-a25e-4437-a6c9-60f80179cc6e",
   "metadata": {},
   "outputs": [],
   "source": [
    "# Convert 'CRASH_DATE' to datetime if not already in datetime format\n",
    "df_encoded['CRASH_DATE'] = pd.to_datetime(df_encoded['CRASH_DATE'], errors='coerce')\n",
    "\n",
    "# Extract features from 'CRASH_DATE' (e.g., year, month, day, weekday)\n",
    "df_encoded['CRASH_YEAR'] = df_encoded['CRASH_DATE'].dt.year\n",
    "df_encoded['CRASH_MONTH'] = df_encoded['CRASH_DATE'].dt.month\n",
    "df_encoded['CRASH_DAY'] = df_encoded['CRASH_DATE'].dt.day\n",
    "df_encoded['CRASH_WEEKDAY'] = df_encoded['CRASH_DATE'].dt.weekday"
   ]
  },
  {
   "cell_type": "code",
   "execution_count": 122,
   "id": "81343bd9-3c6b-4dc0-ad3b-9eec196bfecf",
   "metadata": {},
   "outputs": [],
   "source": [
    "# Perform one-hot encoding on categorical variables\n",
    "df = pd.get_dummies(df, columns=['PERSON_TYPE', 'SAFETY_EQUIPMENT', 'EMOTIONAL_STATUS'], drop_first=True)"
   ]
  },
  {
   "cell_type": "code",
   "execution_count": 124,
   "id": "dc8f80f9-3957-47d9-b186-37fc72d0efb4",
   "metadata": {},
   "outputs": [],
   "source": [
    "from sklearn.preprocessing import LabelEncoder\n",
    "\n",
    "cols = ['EJECTION', 'BODILY_INJURY', 'POSITION_IN_VEHICLE', 'COMPLAINT', 'PED_ROLE']\n",
    "le = LabelEncoder()\n",
    "for col in cols:\n",
    "    df[col] = le.fit_transform(df[col])"
   ]
  },
  {
   "cell_type": "code",
   "execution_count": 126,
   "id": "c99d6fd9-58bc-4298-b918-75195cffaee5",
   "metadata": {},
   "outputs": [],
   "source": [
    "time_mapping = {\n",
    "    'Late Night': 0,  # (12 AM - 6 AM)\n",
    "    'Morning': 1,      # (6 AM - 12 PM)\n",
    "    'Afternoon': 2,    # (12 PM - 6 PM)\n",
    "    'Evening': 3       # (6 PM - 12 AM)\n",
    "}\n",
    "\n",
    "df['CRASH_TIME_CATEGORY'] = df['CRASH_TIME_CATEGORY'].map(time_mapping)"
   ]
  },
  {
   "cell_type": "code",
   "execution_count": 128,
   "id": "a05f0426-dc3a-4d02-aeaf-590316644aca",
   "metadata": {},
   "outputs": [],
   "source": [
    "# Define mapping dictionary\n",
    "age_mapping = {\n",
    "    'Child': 0,\n",
    "    'Teen': 1,\n",
    "    'Adult': 2,\n",
    "    'Senior': 3\n",
    "}\n",
    "\n",
    "# Apply mapping\n",
    "df['AGE_CATEGORY'] = df['AGE_CATEGORY'].map(age_mapping)\n",
    "\n",
    "# Fill NaN values (if any) before converting to integer\n",
    "df['AGE_CATEGORY'] = df['AGE_CATEGORY'].fillna(-1).astype(int)"
   ]
  },
  {
   "cell_type": "code",
   "execution_count": 130,
   "id": "b6e0f2f0-2ddc-4564-ba22-96f3cc2526f1",
   "metadata": {},
   "outputs": [
    {
     "name": "stdout",
     "output_type": "stream",
     "text": [
      "<class 'pandas.core.frame.DataFrame'>\n",
      "Index: 217661 entries, 0 to 230655\n",
      "Data columns (total 43 columns):\n",
      " #   Column                                                     Non-Null Count   Dtype         \n",
      "---  ------                                                     --------------   -----         \n",
      " 0   CRASH_DATE                                                 217661 non-null  datetime64[ns]\n",
      " 1   CRASH_TIME                                                 217661 non-null  object        \n",
      " 2   PERSON_ID                                                  217661 non-null  object        \n",
      " 3   PERSON_INJURY                                              217661 non-null  int32         \n",
      " 4   PERSON_AGE                                                 217661 non-null  int32         \n",
      " 5   EJECTION                                                   217661 non-null  int32         \n",
      " 6   BODILY_INJURY                                              217661 non-null  int32         \n",
      " 7   POSITION_IN_VEHICLE                                        217661 non-null  int32         \n",
      " 8   COMPLAINT                                                  217661 non-null  int32         \n",
      " 9   PED_ROLE                                                   217661 non-null  int32         \n",
      " 10  PERSON_SEX                                                 217661 non-null  int32         \n",
      " 11  CRASH_TIME_CATEGORY                                        0 non-null       float64       \n",
      " 12  AGE_CATEGORY                                               217661 non-null  int32         \n",
      " 13  CRASH_YEAR                                                 217661 non-null  int32         \n",
      " 14  CRASH_MONTH                                                217661 non-null  int32         \n",
      " 15  CRASH_DAY                                                  217661 non-null  int32         \n",
      " 16  DAYS_SINCE_FIRST                                           217661 non-null  int64         \n",
      " 17  EJECTION_New                                               217661 non-null  int32         \n",
      " 18  PERSON_TYPE_Occupant                                       217661 non-null  bool          \n",
      " 19  PERSON_TYPE_Other Motorized                                217661 non-null  bool          \n",
      " 20  PERSON_TYPE_Pedestrian                                     217661 non-null  bool          \n",
      " 21  SAFETY_EQUIPMENT_Air Bag Deployed                          217661 non-null  bool          \n",
      " 22  SAFETY_EQUIPMENT_Air Bag Deployed/Child Restraint          217661 non-null  bool          \n",
      " 23  SAFETY_EQUIPMENT_Air Bag Deployed/Lap Belt                 217661 non-null  bool          \n",
      " 24  SAFETY_EQUIPMENT_Air Bag Deployed/Lap Belt/Harness         217661 non-null  bool          \n",
      " 25  SAFETY_EQUIPMENT_Child Restraint Only                      217661 non-null  bool          \n",
      " 26  SAFETY_EQUIPMENT_Harness                                   217661 non-null  bool          \n",
      " 27  SAFETY_EQUIPMENT_Helmet (Motorcycle Only)                  217661 non-null  bool          \n",
      " 28  SAFETY_EQUIPMENT_Helmet Only (In-Line Skater/Bicyclist)    217661 non-null  bool          \n",
      " 29  SAFETY_EQUIPMENT_Helmet/Other (In-Line Skater/Bicyclist)   217661 non-null  bool          \n",
      " 30  SAFETY_EQUIPMENT_Lap Belt                                  217661 non-null  bool          \n",
      " 31  SAFETY_EQUIPMENT_Lap Belt & Harness                        217661 non-null  bool          \n",
      " 32  SAFETY_EQUIPMENT_Other                                     217661 non-null  bool          \n",
      " 33  SAFETY_EQUIPMENT_Pads Only (In-Line Skater/Bicyclist)      217661 non-null  bool          \n",
      " 34  SAFETY_EQUIPMENT_Stoppers Only (In-Line Skater/Bicyclist)  217661 non-null  bool          \n",
      " 35  SAFETY_EQUIPMENT_Unknown                                   217661 non-null  bool          \n",
      " 36  EMOTIONAL_STATUS_Conscious                                 217661 non-null  bool          \n",
      " 37  EMOTIONAL_STATUS_Does Not Apply                            217661 non-null  bool          \n",
      " 38  EMOTIONAL_STATUS_Incoherent                                217661 non-null  bool          \n",
      " 39  EMOTIONAL_STATUS_Semiconscious                             217661 non-null  bool          \n",
      " 40  EMOTIONAL_STATUS_Shock                                     217661 non-null  bool          \n",
      " 41  EMOTIONAL_STATUS_Unconscious                               217661 non-null  bool          \n",
      " 42  EMOTIONAL_STATUS_Unknown                                   217661 non-null  bool          \n",
      "dtypes: bool(25), datetime64[ns](1), float64(1), int32(13), int64(1), object(2)\n",
      "memory usage: 25.9+ MB\n"
     ]
    }
   ],
   "source": [
    "df.info()"
   ]
  },
  {
   "cell_type": "code",
   "execution_count": 132,
   "id": "a117e067-0c07-4f8c-9610-eded5e5f62d6",
   "metadata": {},
   "outputs": [],
   "source": [
    "# Convert multiple columns to int32\n",
    "cols_to_convert = [\n",
    "    'AGE_CATEGORY', 'CRASH_YEAR', 'CRASH_MONTH', 'CRASH_DAY', \n",
    "    'DAYS_SINCE_FIRST', 'EJECTION_New'\n",
    "]\n",
    "\n",
    "df[cols_to_convert]= df[cols_to_convert].astype('int32')"
   ]
  },
  {
   "cell_type": "code",
   "execution_count": 134,
   "id": "81b129c9-f96f-4e2d-ae99-64f3ada384aa",
   "metadata": {},
   "outputs": [],
   "source": [
    "df[cols_to_convert] = df[cols_to_convert].fillna(-1).astype('int32')"
   ]
  },
  {
   "cell_type": "code",
   "execution_count": 136,
   "id": "e6a14eee-32c2-4c45-8938-6ea8765a5358",
   "metadata": {},
   "outputs": [
    {
     "name": "stdout",
     "output_type": "stream",
     "text": [
      "['PERSON_TYPE_Occupant', 'PERSON_TYPE_Other Motorized', 'PERSON_TYPE_Pedestrian']\n"
     ]
    }
   ],
   "source": [
    "person_type_cols = [col for col in df.columns if col.startswith(\"PERSON_TYPE\")]\n",
    "print(person_type_cols)  # Check available columns\n"
   ]
  },
  {
   "cell_type": "code",
   "execution_count": 138,
   "id": "7edace78-49dd-4b57-ac2b-cee1c686c205",
   "metadata": {},
   "outputs": [
    {
     "name": "stdout",
     "output_type": "stream",
     "text": [
      "Index(['CRASH_DATE', 'CRASH_TIME', 'PERSON_ID', 'PERSON_INJURY', 'PERSON_AGE',\n",
      "       'EJECTION', 'BODILY_INJURY', 'POSITION_IN_VEHICLE', 'COMPLAINT',\n",
      "       'PED_ROLE', 'PERSON_SEX', 'CRASH_TIME_CATEGORY', 'AGE_CATEGORY',\n",
      "       'CRASH_YEAR', 'CRASH_MONTH', 'CRASH_DAY', 'DAYS_SINCE_FIRST',\n",
      "       'EJECTION_New', 'PERSON_TYPE_Occupant', 'PERSON_TYPE_Other Motorized',\n",
      "       'PERSON_TYPE_Pedestrian', 'SAFETY_EQUIPMENT_Air Bag Deployed',\n",
      "       'SAFETY_EQUIPMENT_Air Bag Deployed/Child Restraint',\n",
      "       'SAFETY_EQUIPMENT_Air Bag Deployed/Lap Belt',\n",
      "       'SAFETY_EQUIPMENT_Air Bag Deployed/Lap Belt/Harness',\n",
      "       'SAFETY_EQUIPMENT_Child Restraint Only', 'SAFETY_EQUIPMENT_Harness',\n",
      "       'SAFETY_EQUIPMENT_Helmet (Motorcycle Only)',\n",
      "       'SAFETY_EQUIPMENT_Helmet Only (In-Line Skater/Bicyclist)',\n",
      "       'SAFETY_EQUIPMENT_Helmet/Other (In-Line Skater/Bicyclist)',\n",
      "       'SAFETY_EQUIPMENT_Lap Belt', 'SAFETY_EQUIPMENT_Lap Belt & Harness',\n",
      "       'SAFETY_EQUIPMENT_Other',\n",
      "       'SAFETY_EQUIPMENT_Pads Only (In-Line Skater/Bicyclist)',\n",
      "       'SAFETY_EQUIPMENT_Stoppers Only (In-Line Skater/Bicyclist)',\n",
      "       'SAFETY_EQUIPMENT_Unknown', 'EMOTIONAL_STATUS_Conscious',\n",
      "       'EMOTIONAL_STATUS_Does Not Apply', 'EMOTIONAL_STATUS_Incoherent',\n",
      "       'EMOTIONAL_STATUS_Semiconscious', 'EMOTIONAL_STATUS_Shock',\n",
      "       'EMOTIONAL_STATUS_Unconscious', 'EMOTIONAL_STATUS_Unknown'],\n",
      "      dtype='object')\n"
     ]
    }
   ],
   "source": [
    "print(df.columns)\n"
   ]
  },
  {
   "cell_type": "code",
   "execution_count": 140,
   "id": "c570ca64-1a49-4bbb-969f-e1897c1be1d2",
   "metadata": {},
   "outputs": [
    {
     "name": "stdout",
     "output_type": "stream",
     "text": [
      "['PERSON_TYPE_Occupant', 'PERSON_TYPE_Other Motorized', 'PERSON_TYPE_Pedestrian']\n"
     ]
    }
   ],
   "source": [
    "person_type_cols = [col for col in df.columns if col.startswith('PERSON_TYPE_')]\n",
    "print(person_type_cols)\n"
   ]
  },
  {
   "cell_type": "code",
   "execution_count": 142,
   "id": "0326b178-495b-4d5d-bbb2-8e71a65ad3f8",
   "metadata": {},
   "outputs": [
    {
     "name": "stdout",
     "output_type": "stream",
     "text": [
      "['Occupant' 'Pedestrian' 'Other Motorized']\n"
     ]
    }
   ],
   "source": [
    "# Melt one-hot encoded columns back into a single categorical column\n",
    "df['PERSON_TYPE'] = df[['PERSON_TYPE_Occupant', 'PERSON_TYPE_Other Motorized', 'PERSON_TYPE_Pedestrian']].idxmax(axis=1)\n",
    "\n",
    "# Remove the prefix 'PERSON_TYPE_' from the values\n",
    "df['PERSON_TYPE'] = df['PERSON_TYPE'].str.replace('PERSON_TYPE_', '')\n",
    "\n",
    "# Check unique values\n",
    "print(df['PERSON_TYPE'].unique())\n"
   ]
  },
  {
   "cell_type": "code",
   "execution_count": 144,
   "id": "271c28ea-d7f5-48ea-bc16-ea1cda391726",
   "metadata": {},
   "outputs": [
    {
     "data": {
      "text/plain": [
       "array(['Occupant', 'Pedestrian', 'Other Motorized'], dtype=object)"
      ]
     },
     "execution_count": 144,
     "metadata": {},
     "output_type": "execute_result"
    }
   ],
   "source": [
    "df['PERSON_TYPE'].unique()"
   ]
  },
  {
   "cell_type": "code",
   "execution_count": 146,
   "id": "3fec729b-f0d8-42bf-a5f2-addc71b2653f",
   "metadata": {},
   "outputs": [
    {
     "name": "stdout",
     "output_type": "stream",
     "text": [
      "['Occupant' 'Pedestrian' 'Other Motorized']\n"
     ]
    }
   ],
   "source": [
    "person_type_cols = ['PERSON_TYPE_Occupant', 'PERSON_TYPE_Other Motorized', 'PERSON_TYPE_Pedestrian']\n",
    "\n",
    "# Use idxmax to find the column with the highest value (1) and extract the type\n",
    "df[\"PERSON_TYPE\"] = df[person_type_cols].idxmax(axis=1).str.replace(\"PERSON_TYPE_\", \"\")\n",
    "\n",
    "# Verify the unique values\n",
    "print(df[\"PERSON_TYPE\"].unique())\n"
   ]
  },
  {
   "cell_type": "code",
   "execution_count": 148,
   "id": "fca0b2d9-9715-46e2-b8a8-3d6b9aede42e",
   "metadata": {},
   "outputs": [
    {
     "name": "stdout",
     "output_type": "stream",
     "text": [
      "<class 'pandas.core.frame.DataFrame'>\n",
      "Index: 217661 entries, 0 to 230655\n",
      "Data columns (total 44 columns):\n",
      " #   Column                                                     Non-Null Count   Dtype         \n",
      "---  ------                                                     --------------   -----         \n",
      " 0   CRASH_DATE                                                 217661 non-null  datetime64[ns]\n",
      " 1   CRASH_TIME                                                 217661 non-null  object        \n",
      " 2   PERSON_ID                                                  217661 non-null  object        \n",
      " 3   PERSON_INJURY                                              217661 non-null  int32         \n",
      " 4   PERSON_AGE                                                 217661 non-null  int32         \n",
      " 5   EJECTION                                                   217661 non-null  int32         \n",
      " 6   BODILY_INJURY                                              217661 non-null  int32         \n",
      " 7   POSITION_IN_VEHICLE                                        217661 non-null  int32         \n",
      " 8   COMPLAINT                                                  217661 non-null  int32         \n",
      " 9   PED_ROLE                                                   217661 non-null  int32         \n",
      " 10  PERSON_SEX                                                 217661 non-null  int32         \n",
      " 11  CRASH_TIME_CATEGORY                                        0 non-null       float64       \n",
      " 12  AGE_CATEGORY                                               217661 non-null  int32         \n",
      " 13  CRASH_YEAR                                                 217661 non-null  int32         \n",
      " 14  CRASH_MONTH                                                217661 non-null  int32         \n",
      " 15  CRASH_DAY                                                  217661 non-null  int32         \n",
      " 16  DAYS_SINCE_FIRST                                           217661 non-null  int32         \n",
      " 17  EJECTION_New                                               217661 non-null  int32         \n",
      " 18  PERSON_TYPE_Occupant                                       217661 non-null  bool          \n",
      " 19  PERSON_TYPE_Other Motorized                                217661 non-null  bool          \n",
      " 20  PERSON_TYPE_Pedestrian                                     217661 non-null  bool          \n",
      " 21  SAFETY_EQUIPMENT_Air Bag Deployed                          217661 non-null  bool          \n",
      " 22  SAFETY_EQUIPMENT_Air Bag Deployed/Child Restraint          217661 non-null  bool          \n",
      " 23  SAFETY_EQUIPMENT_Air Bag Deployed/Lap Belt                 217661 non-null  bool          \n",
      " 24  SAFETY_EQUIPMENT_Air Bag Deployed/Lap Belt/Harness         217661 non-null  bool          \n",
      " 25  SAFETY_EQUIPMENT_Child Restraint Only                      217661 non-null  bool          \n",
      " 26  SAFETY_EQUIPMENT_Harness                                   217661 non-null  bool          \n",
      " 27  SAFETY_EQUIPMENT_Helmet (Motorcycle Only)                  217661 non-null  bool          \n",
      " 28  SAFETY_EQUIPMENT_Helmet Only (In-Line Skater/Bicyclist)    217661 non-null  bool          \n",
      " 29  SAFETY_EQUIPMENT_Helmet/Other (In-Line Skater/Bicyclist)   217661 non-null  bool          \n",
      " 30  SAFETY_EQUIPMENT_Lap Belt                                  217661 non-null  bool          \n",
      " 31  SAFETY_EQUIPMENT_Lap Belt & Harness                        217661 non-null  bool          \n",
      " 32  SAFETY_EQUIPMENT_Other                                     217661 non-null  bool          \n",
      " 33  SAFETY_EQUIPMENT_Pads Only (In-Line Skater/Bicyclist)      217661 non-null  bool          \n",
      " 34  SAFETY_EQUIPMENT_Stoppers Only (In-Line Skater/Bicyclist)  217661 non-null  bool          \n",
      " 35  SAFETY_EQUIPMENT_Unknown                                   217661 non-null  bool          \n",
      " 36  EMOTIONAL_STATUS_Conscious                                 217661 non-null  bool          \n",
      " 37  EMOTIONAL_STATUS_Does Not Apply                            217661 non-null  bool          \n",
      " 38  EMOTIONAL_STATUS_Incoherent                                217661 non-null  bool          \n",
      " 39  EMOTIONAL_STATUS_Semiconscious                             217661 non-null  bool          \n",
      " 40  EMOTIONAL_STATUS_Shock                                     217661 non-null  bool          \n",
      " 41  EMOTIONAL_STATUS_Unconscious                               217661 non-null  bool          \n",
      " 42  EMOTIONAL_STATUS_Unknown                                   217661 non-null  bool          \n",
      " 43  PERSON_TYPE                                                217661 non-null  object        \n",
      "dtypes: bool(25), datetime64[ns](1), float64(1), int32(14), object(3)\n",
      "memory usage: 26.8+ MB\n"
     ]
    }
   ],
   "source": [
    "df.info()"
   ]
  },
  {
   "cell_type": "code",
   "execution_count": 150,
   "id": "89456537-bd3e-4fd2-a610-23fb1c25bbcb",
   "metadata": {},
   "outputs": [
    {
     "name": "stdout",
     "output_type": "stream",
     "text": [
      "['PERSON_TYPE_Occupant', 'PERSON_TYPE_Other Motorized', 'PERSON_TYPE_Pedestrian', 'PERSON_TYPE']\n"
     ]
    }
   ],
   "source": [
    "print([col for col in df.columns if 'PERSON_TYPE' in col])"
   ]
  },
  {
   "cell_type": "code",
   "execution_count": 152,
   "id": "4d9637ad-5f6d-4c55-9dab-7baed957bae9",
   "metadata": {},
   "outputs": [
    {
     "name": "stdout",
     "output_type": "stream",
     "text": [
      "['Occupant' 'Pedestrian' 'Other Motorized']\n"
     ]
    }
   ],
   "source": [
    "print(df['PERSON_TYPE'].unique())"
   ]
  },
  {
   "cell_type": "code",
   "execution_count": 154,
   "id": "46700057-3466-4a5f-81a7-e3107f1835f7",
   "metadata": {},
   "outputs": [
    {
     "data": {
      "text/plain": [
       "{'Occupant': 0, 'Other Motorized': 1, 'Pedestrian': 2}"
      ]
     },
     "execution_count": 154,
     "metadata": {},
     "output_type": "execute_result"
    }
   ],
   "source": [
    "from sklearn.preprocessing import LabelEncoder\n",
    "\n",
    "# Initialize and apply Label Encoding\n",
    "label_encoder = LabelEncoder()\n",
    "df['PERSON_TYPE'] = label_encoder.fit_transform(df['PERSON_TYPE'])\n",
    "\n",
    "# Show mapping\n",
    "dict(zip(label_encoder.classes_, label_encoder.transform(label_encoder.classes_)))"
   ]
  },
  {
   "cell_type": "code",
   "execution_count": 156,
   "id": "b8195ca5-98bd-45b4-b0a5-37da23131ac1",
   "metadata": {},
   "outputs": [
    {
     "name": "stdout",
     "output_type": "stream",
     "text": [
      "['Conscious' 'Unknown' 'Shock' 'Incoherent' 'Semiconscious' 'Unconscious'\n",
      " 'Does Not Apply']\n"
     ]
    }
   ],
   "source": [
    "# Get all columns related to 'EMOTIONAL_STATUS'\n",
    "emotional_status_cols = [col for col in df.columns if col.startswith('EMOTIONAL_STATUS_')]\n",
    "\n",
    "# Convert one-hot encoding back to a single categorical column\n",
    "df['EMOTIONAL_STATUS'] = df[emotional_status_cols].idxmax(axis=1).str.replace('EMOTIONAL_STATUS_', '')\n",
    "\n",
    "# Check unique values\n",
    "print(df['EMOTIONAL_STATUS'].unique())\n"
   ]
  },
  {
   "cell_type": "code",
   "execution_count": 158,
   "id": "1a09b63e-2305-4e3a-a092-23319184904a",
   "metadata": {},
   "outputs": [
    {
     "name": "stdout",
     "output_type": "stream",
     "text": [
      "['Conscious' 'Unknown' 'Shock' 'Incoherent' 'Semiconscious' 'Unconscious'\n",
      " 'Does Not Apply']\n"
     ]
    }
   ],
   "source": [
    "# Identify all one-hot encoded emotional status columns\n",
    "emotional_status_cols = [col for col in df.columns if col.startswith('EMOTIONAL_STATUS_')]\n",
    "\n",
    "# Convert one-hot encoding back to a categorical column\n",
    "df['EMOTIONAL_STATUS'] = df[emotional_status_cols].idxmax(axis=1).str.replace('EMOTIONAL_STATUS_', '')\n",
    "\n",
    "# Verify the reconstructed column\n",
    "print(df['EMOTIONAL_STATUS'].unique())\n"
   ]
  },
  {
   "cell_type": "code",
   "execution_count": 160,
   "id": "5f1ce59c-87cf-4292-b91e-3ab98bdf3d0e",
   "metadata": {},
   "outputs": [
    {
     "name": "stdout",
     "output_type": "stream",
     "text": [
      "{'Conscious': 0, 'Does Not Apply': 1, 'Incoherent': 2, 'Semiconscious': 3, 'Shock': 4, 'Unconscious': 5, 'Unknown': 6}\n"
     ]
    }
   ],
   "source": [
    "from sklearn.preprocessing import LabelEncoder\n",
    "\n",
    "# Initialize and apply LabelEncoder\n",
    "label_encoder = LabelEncoder()\n",
    "df['EMOTIONAL_STATUS'] = label_encoder.fit_transform(df['EMOTIONAL_STATUS'])\n",
    "\n",
    "# Show the mapping of labels to numbers\n",
    "label_mapping = dict(zip(label_encoder.classes_, label_encoder.transform(label_encoder.classes_)))\n",
    "print(label_mapping)\n"
   ]
  },
  {
   "cell_type": "code",
   "execution_count": 162,
   "id": "be510abe-d59b-4f4c-b1c9-dd557550e9e8",
   "metadata": {},
   "outputs": [
    {
     "data": {
      "text/plain": [
       "{0: 0, 1: 1, 2: 2, 3: 3, 4: 4, 5: 5, 6: 6}"
      ]
     },
     "execution_count": 162,
     "metadata": {},
     "output_type": "execute_result"
    }
   ],
   "source": [
    "from sklearn.preprocessing import LabelEncoder\n",
    "\n",
    "# Initialize the encoder\n",
    "label_encoder = LabelEncoder()\n",
    "\n",
    "# Apply encoding\n",
    "df['EMOTIONAL_STATUS'] = label_encoder.fit_transform(df['EMOTIONAL_STATUS'])\n",
    "\n",
    "# Show mapping\n",
    "dict(zip(label_encoder.classes_, label_encoder.transform(label_encoder.classes_)))"
   ]
  },
  {
   "cell_type": "code",
   "execution_count": 164,
   "id": "47c38826-1b77-44d0-9f51-55a60061a18c",
   "metadata": {},
   "outputs": [],
   "source": [
    "# Replace empty strings or NaNs with a default time (e.g., '00:00')\n",
    "df['CRASH_TIME'] = df['CRASH_TIME'].replace('', '00:00').fillna('00:00')"
   ]
  },
  {
   "cell_type": "code",
   "execution_count": 166,
   "id": "007dc1c7-af8e-4b83-9447-b695ff5dca91",
   "metadata": {},
   "outputs": [],
   "source": [
    "df[['CRASH_HOUR', 'CRASH_MINUTE']] = df['CRASH_TIME'].str.split(':', expand=True)\n",
    "\n",
    "# Convert to integer safely, forcing errors to NaN\n",
    "df['CRASH_HOUR'] = pd.to_numeric(df['CRASH_HOUR'], errors='coerce').fillna(0).astype(int)\n",
    "df['CRASH_MINUTE'] = pd.to_numeric(df['CRASH_MINUTE'], errors='coerce').fillna(0).astype(int)"
   ]
  },
  {
   "cell_type": "code",
   "execution_count": 167,
   "id": "8734d347-d17b-4e61-9beb-d75d836b3849",
   "metadata": {},
   "outputs": [],
   "source": [
    "\n",
    "df.drop(columns=['CRASH_TIME'], inplace=True)"
   ]
  },
  {
   "cell_type": "code",
   "execution_count": 170,
   "id": "5c4c816b-0f49-42dd-86fd-ff9fa1338e73",
   "metadata": {},
   "outputs": [],
   "source": [
    "# Define mapping manually\n",
    "time_mapping = {\n",
    "    'Morning': 0,\n",
    "    'Afternoon': 1,\n",
    "    'Evening': 2,\n",
    "    'Night': 3\n",
    "}\n",
    "\n",
    "df['CRASH_TIME_CATEGORY'] = df['CRASH_TIME_CATEGORY'].map(time_mapping)\n",
    "\n",
    "# Fill any NaNs with a default category (e.g., -1)\n",
    "df['CRASH_TIME_CATEGORY'] = df['CRASH_TIME_CATEGORY'].fillna(-1).astype(int)"
   ]
  },
  {
   "cell_type": "code",
   "execution_count": 172,
   "id": "026943a3-197d-4ecb-a443-a3585e2d5caf",
   "metadata": {},
   "outputs": [
    {
     "name": "stdout",
     "output_type": "stream",
     "text": [
      "     SAFETY_EQUIPMENT\n",
      "0  Lap Belt & Harness\n",
      "1             Unknown\n",
      "2             Unknown\n",
      "3             Unknown\n",
      "4  Lap Belt & Harness\n"
     ]
    }
   ],
   "source": [
    "safety_columns = [col for col in df.columns if col.startswith('SAFETY_EQUIPMENT_')]\n",
    "\n",
    "# Convert one-hot encoding back to a single column\n",
    "df['SAFETY_EQUIPMENT'] = df[safety_columns].idxmax(axis=1).str.replace('SAFETY_EQUIPMENT_', '')\n",
    "\n",
    "print(df[['SAFETY_EQUIPMENT']].head())  # Verify the result\n"
   ]
  },
  {
   "cell_type": "code",
   "execution_count": 174,
   "id": "de622882-8fb1-4368-9444-825fb6f80b60",
   "metadata": {},
   "outputs": [],
   "source": [
    "df['SAFETY_EQUIPMENT_New'] = df['SAFETY_EQUIPMENT']  # Adjust if you meant to modify it\n"
   ]
  },
  {
   "cell_type": "code",
   "execution_count": 176,
   "id": "e82e57a6-eeb0-4142-a239-b077ae2f7d89",
   "metadata": {},
   "outputs": [
    {
     "name": "stdout",
     "output_type": "stream",
     "text": [
      "SAFETY_EQUIPMENT_Air Bag Deployed\n",
      "SAFETY_EQUIPMENT_Air Bag Deployed/Child Restraint\n",
      "SAFETY_EQUIPMENT_Air Bag Deployed/Lap Belt\n",
      "SAFETY_EQUIPMENT_Air Bag Deployed/Lap Belt/Harness\n",
      "SAFETY_EQUIPMENT_Child Restraint Only\n",
      "SAFETY_EQUIPMENT_Harness\n",
      "SAFETY_EQUIPMENT_Helmet (Motorcycle Only)\n",
      "SAFETY_EQUIPMENT_Helmet Only (In-Line Skater/Bicyclist)\n",
      "SAFETY_EQUIPMENT_Helmet/Other (In-Line Skater/Bicyclist)\n",
      "SAFETY_EQUIPMENT_Lap Belt\n",
      "SAFETY_EQUIPMENT_Lap Belt & Harness\n",
      "SAFETY_EQUIPMENT_Other\n",
      "SAFETY_EQUIPMENT_Pads Only (In-Line Skater/Bicyclist)\n",
      "SAFETY_EQUIPMENT_Stoppers Only (In-Line Skater/Bicyclist)\n",
      "SAFETY_EQUIPMENT_Unknown\n",
      "SAFETY_EQUIPMENT\n",
      "SAFETY_EQUIPMENT_New\n"
     ]
    }
   ],
   "source": [
    "for col in df.columns:\n",
    "    if 'safety' in col.lower():\n",
    "        print(col)\n"
   ]
  },
  {
   "cell_type": "code",
   "execution_count": 178,
   "id": "0b0ebf6d-8cbe-472f-a929-fd219ced46f2",
   "metadata": {},
   "outputs": [
    {
     "name": "stdout",
     "output_type": "stream",
     "text": [
      "     SAFETY_EQUIPMENT SAFETY_EQUIPMENT_New\n",
      "0  Lap Belt & Harness   Lap Belt & Harness\n",
      "1             Unknown              Unknown\n",
      "2             Unknown              Unknown\n",
      "3             Unknown              Unknown\n",
      "4  Lap Belt & Harness   Lap Belt & Harness\n"
     ]
    }
   ],
   "source": [
    "print(df[['SAFETY_EQUIPMENT', 'SAFETY_EQUIPMENT_New']].head())"
   ]
  },
  {
   "cell_type": "code",
   "execution_count": 180,
   "id": "a79f3c2c-10d0-46f3-a095-f022bd7d02d1",
   "metadata": {},
   "outputs": [],
   "source": [
    "df.drop(columns=['SAFETY_EQUIPMENT'], inplace=True)"
   ]
  },
  {
   "cell_type": "code",
   "execution_count": 182,
   "id": "c48d6a17-7dd8-4ced-9052-308293c01d7f",
   "metadata": {},
   "outputs": [
    {
     "name": "stdout",
     "output_type": "stream",
     "text": [
      "['Lap Belt & Harness' 'Unknown' 'Child Restraint Only'\n",
      " 'Helmet Only (In-Line Skater/Bicyclist)' 'Helmet (Motorcycle Only)'\n",
      " 'Lap Belt' 'Air Bag Deployed' 'Air Bag Deployed/Lap Belt/Harness'\n",
      " 'Helmet/Other (In-Line Skater/Bicyclist)' 'Other'\n",
      " 'Air Bag Deployed/Lap Belt' 'Harness' 'Air Bag Deployed/Child Restraint'\n",
      " 'Stoppers Only (In-Line Skater/Bicyclist)'\n",
      " 'Pads Only (In-Line Skater/Bicyclist)']\n"
     ]
    }
   ],
   "source": [
    "print(df['SAFETY_EQUIPMENT_New'].unique())\n"
   ]
  },
  {
   "cell_type": "code",
   "execution_count": 184,
   "id": "8cf11ac7-ee96-44df-81b7-9bc430a6e524",
   "metadata": {},
   "outputs": [
    {
     "name": "stdout",
     "output_type": "stream",
     "text": [
      "{'Air Bag Deployed': 0, 'Air Bag Deployed/Child Restraint': 1, 'Air Bag Deployed/Lap Belt': 2, 'Air Bag Deployed/Lap Belt/Harness': 3, 'Child Restraint Only': 4, 'Harness': 5, 'Helmet (Motorcycle Only)': 6, 'Helmet Only (In-Line Skater/Bicyclist)': 7, 'Helmet/Other (In-Line Skater/Bicyclist)': 8, 'Lap Belt': 9, 'Lap Belt & Harness': 10, 'Other': 11, 'Pads Only (In-Line Skater/Bicyclist)': 12, 'Stoppers Only (In-Line Skater/Bicyclist)': 13, 'Unknown': 14}\n"
     ]
    }
   ],
   "source": [
    "from sklearn.preprocessing import LabelEncoder\n",
    "\n",
    "label_encoder = LabelEncoder()\n",
    "df['SAFETY_EQUIPMENT_New_Encoded'] = label_encoder.fit_transform(df['SAFETY_EQUIPMENT_New'])\n",
    "print(dict(zip(label_encoder.classes_, label_encoder.transform(label_encoder.classes_))))\n"
   ]
  },
  {
   "cell_type": "code",
   "execution_count": 186,
   "id": "10f63a84-118c-4c12-a327-8f37cf2c6f94",
   "metadata": {},
   "outputs": [],
   "source": [
    "safety_mapping = {\n",
    "    'Unknown': 0,\n",
    "    'Other': 1,\n",
    "    'Lap Belt': 2,\n",
    "    'Lap Belt & Harness': 3,\n",
    "    'Harness': 4,\n",
    "    'Child Restraint Only': 5,\n",
    "    'Helmet (Motorcycle Only)': 6,\n",
    "    'Helmet Only (In-Line Skater/Bicyclist)': 7,\n",
    "    'Helmet/Other (In-Line Skater/Bicyclist)': 8,\n",
    "    'Air Bag Deployed': 9,\n",
    "    'Air Bag Deployed/Lap Belt': 10,\n",
    "    'Air Bag Deployed/Lap Belt/Harness': 11,\n",
    "    'Air Bag Deployed/Child Restraint': 12,\n",
    "    'Pads Only (In-Line Skater/Bicyclist)': 13,\n",
    "    'Stoppers Only (In-Line Skater/Bicyclist)': 14\n",
    "}\n",
    "\n",
    "df['SAFETY_EQUIPMENT_New_Mapped'] = df['SAFETY_EQUIPMENT_New'].map(safety_mapping)\n"
   ]
  },
  {
   "cell_type": "code",
   "execution_count": 188,
   "id": "7f8f9ab7-c0d2-4847-aa7d-4cdc13276c80",
   "metadata": {},
   "outputs": [
    {
     "name": "stdout",
     "output_type": "stream",
     "text": [
      "  SAFETY_EQUIPMENT_New  SAFETY_EQUIPMENT_New_Mapped\n",
      "0   Lap Belt & Harness                            3\n",
      "1              Unknown                            0\n",
      "2              Unknown                            0\n",
      "3              Unknown                            0\n",
      "4   Lap Belt & Harness                            3\n"
     ]
    }
   ],
   "source": [
    "print(df[['SAFETY_EQUIPMENT_New', 'SAFETY_EQUIPMENT_New_Mapped']].head())\n"
   ]
  },
  {
   "cell_type": "code",
   "execution_count": 190,
   "id": "eba0f0d7-d074-42bb-8501-bb505ac6e48d",
   "metadata": {},
   "outputs": [],
   "source": [
    "X_train = X_train.drop(columns=['PERSON_ID'], errors='ignore')\n",
    "X_test = X_test.drop(columns=['PERSON_ID'], errors='ignore')\n"
   ]
  },
  {
   "cell_type": "code",
   "execution_count": 192,
   "id": "027b07c5-8af3-43c6-a53c-c15b1d45c9c9",
   "metadata": {},
   "outputs": [
    {
     "name": "stdout",
     "output_type": "stream",
     "text": [
      "Non-numeric columns: Index(['CRASH_DATE', 'CRASH_TIME', 'PERSON_TYPE', 'EJECTION',\n",
      "       'EMOTIONAL_STATUS', 'BODILY_INJURY', 'POSITION_IN_VEHICLE',\n",
      "       'SAFETY_EQUIPMENT', 'COMPLAINT', 'PED_ROLE', 'AGE_CATEGORY'],\n",
      "      dtype='object')\n"
     ]
    }
   ],
   "source": [
    "non_numeric_cols = X_train.select_dtypes(exclude=['number']).columns\n",
    "print(\"Non-numeric columns:\", non_numeric_cols)\n"
   ]
  },
  {
   "cell_type": "code",
   "execution_count": 194,
   "id": "793518ec-a805-416a-9207-1cd9dcc7f2e6",
   "metadata": {},
   "outputs": [],
   "source": [
    "import pandas as pd\n",
    "\n",
    "date_columns = ['CRASH_DATE']  # Add any other date columns\n",
    "\n",
    "# Convert dates to datetime format\n",
    "X_train[date_columns] = X_train[date_columns].apply(pd.to_datetime)\n",
    "X_test[date_columns] = X_test[date_columns].apply(pd.to_datetime)\n",
    "\n",
    "# Convert to number of days since the earliest date in X_train\n",
    "min_date = X_train[date_columns].min()\n",
    "\n",
    "for col in date_columns:\n",
    "    X_train[col] = (X_train[col] - min_date[col]).dt.days\n",
    "    X_test[col] = (X_test[col] - min_date[col]).dt.days\n"
   ]
  },
  {
   "cell_type": "code",
   "execution_count": 196,
   "id": "8076e176-403d-4d85-b37d-4f8b97ffac95",
   "metadata": {},
   "outputs": [],
   "source": [
    "X_train = X_train.drop(columns=date_columns)\n",
    "X_test = X_test.drop(columns=date_columns)\n"
   ]
  },
  {
   "cell_type": "code",
   "execution_count": 198,
   "id": "5237643c-4fb3-4dac-97da-c0b5248b315a",
   "metadata": {},
   "outputs": [],
   "source": [
    "from sklearn.preprocessing import OneHotEncoder\n",
    "\n",
    "categorical_cols = [col for col in non_numeric_cols if col not in date_columns]  # Exclude dates\n",
    "\n",
    "encoder = OneHotEncoder(drop='first', sparse_output=False, handle_unknown='ignore')\n",
    "X_train_encoded = encoder.fit_transform(X_train[categorical_cols])\n",
    "X_test_encoded = encoder.transform(X_test[categorical_cols])\n"
   ]
  },
  {
   "cell_type": "code",
   "execution_count": 199,
   "id": "d82ce9bf-d219-40e6-944f-a734958ec24b",
   "metadata": {},
   "outputs": [],
   "source": [
    "X_train['AGE_CATEGORY'] = X_train['AGE_CATEGORY'].astype('category')\n",
    "X_test['AGE_CATEGORY'] = X_test['AGE_CATEGORY'].astype('category')\n"
   ]
  },
  {
   "cell_type": "code",
   "execution_count": 202,
   "id": "c3f36c68-3128-45f9-895e-2956cb7fb581",
   "metadata": {},
   "outputs": [],
   "source": [
    "from sklearn.preprocessing import LabelEncoder\n",
    "\n",
    "label_encoder = LabelEncoder()\n",
    "X_train['AGE_CATEGORY'] = label_encoder.fit_transform(X_train['AGE_CATEGORY'])\n",
    "X_test['AGE_CATEGORY'] = label_encoder.transform(X_test['AGE_CATEGORY'])\n"
   ]
  },
  {
   "cell_type": "code",
   "execution_count": 204,
   "id": "3b509320-39fa-4b55-b5a6-5df93e35ce0d",
   "metadata": {},
   "outputs": [],
   "source": [
    "X_train = X_train.drop(columns=['CRASH_TIME'])\n",
    "X_test = X_test.drop(columns=['CRASH_TIME'])\n"
   ]
  },
  {
   "cell_type": "code",
   "execution_count": 206,
   "id": "a8a3e630-559b-4530-99a0-23e07a40f0bb",
   "metadata": {},
   "outputs": [],
   "source": [
    "X_train = pd.get_dummies(X_train, columns=['PERSON_TYPE', 'EJECTION', 'EMOTIONAL_STATUS', \n",
    "                                           'BODILY_INJURY', 'POSITION_IN_VEHICLE', \n",
    "                                           'SAFETY_EQUIPMENT', 'COMPLAINT', 'PED_ROLE'], \n",
    "                          drop_first=True)\n",
    "\n",
    "X_test = pd.get_dummies(X_test, columns=['PERSON_TYPE', 'EJECTION', 'EMOTIONAL_STATUS', \n",
    "                                         'BODILY_INJURY', 'POSITION_IN_VEHICLE', \n",
    "                                         'SAFETY_EQUIPMENT', 'COMPLAINT', 'PED_ROLE'], \n",
    "                         drop_first=True)\n"
   ]
  },
  {
   "cell_type": "code",
   "execution_count": 208,
   "id": "6abb85fd-7e3e-4979-8d5c-4f85affde6b5",
   "metadata": {},
   "outputs": [],
   "source": [
    "X_train, X_test = X_train.align(X_test, join='left', axis=1, fill_value=0)\n"
   ]
  },
  {
   "cell_type": "code",
   "execution_count": 210,
   "id": "e0547206-79b4-4122-98f6-216c28b5a11b",
   "metadata": {},
   "outputs": [],
   "source": [
    "# Rename column if necessary\n",
    "scaler = StandardScaler()\n",
    "X_train_scaled = scaler.fit_transform(X_train)\n",
    "X_test_scaled = scaler.transform(X_test)"
   ]
  },
  {
   "cell_type": "code",
   "execution_count": 211,
   "id": "bc7f7f41-0f31-4c4a-80cc-4226a5aacd8d",
   "metadata": {},
   "outputs": [],
   "source": [
    "from sklearn.feature_selection import RFE\n",
    "from sklearn.linear_model import LogisticRegression\n",
    "from sklearn.ensemble import RandomForestClassifier"
   ]
  },
  {
   "cell_type": "markdown",
   "id": "279b2bde-5160-491c-a8f7-a2d0fc484f3b",
   "metadata": {},
   "source": [
    "# \n",
    "RFE Feature Selection"
   ]
  },
  {
   "cell_type": "code",
   "execution_count": 215,
   "id": "9d82c247-1409-4781-9b98-75c70eae3dfd",
   "metadata": {},
   "outputs": [
    {
     "name": "stdout",
     "output_type": "stream",
     "text": [
      "Selected Features: \n",
      " Index(['CRASH_YEAR', 'DAYS_SINCE_FIRST', 'EMOTIONAL_STATUS_Conscious',\n",
      "       'EMOTIONAL_STATUS_Shock', 'EMOTIONAL_STATUS_Unknown',\n",
      "       'BODILY_INJURY_Elbow-Lower-Arm-Hand', 'COMPLAINT_Complaint of Pain',\n",
      "       'COMPLAINT_Complaint of Pain or Nausea', 'COMPLAINT_Contusion - Bruise',\n",
      "       'COMPLAINT_Whiplash'],\n",
      "      dtype='object')\n"
     ]
    }
   ],
   "source": [
    "# Define the model (change LogisticRegression to RandomForestClassifier if needed)\n",
    "model = LogisticRegression(max_iter=1000, solver='liblinear')  # or RandomForestClassifier()\n",
    "\n",
    "# Initialize RFE\n",
    "rfe = RFE(model, n_features_to_select=10)  # Select top 10 important features\n",
    "\n",
    "# Fit RFE on dataset\n",
    "rfe.fit(X_train_scaled, y_train)\n",
    "\n",
    "# Get selected feature names\n",
    "selected_features = X_train.columns[rfe.support_]\n",
    "print(\"Selected Features: \\n\", selected_features)"
   ]
  },
  {
   "cell_type": "code",
   "execution_count": 217,
   "id": "eec5615e-d553-4b52-aaa9-4d00837840fd",
   "metadata": {},
   "outputs": [],
   "source": [
    "# Use only selected features for training\n",
    "X_train_selected = X_train_scaled[:, rfe.support_]\n",
    "X_test_selected = X_test_scaled[:, rfe.support_]"
   ]
  },
  {
   "cell_type": "code",
   "execution_count": 219,
   "id": "e624aa54-5658-4aa8-9906-a0569de446d8",
   "metadata": {},
   "outputs": [
    {
     "data": {
      "image/png": "[encoded data removed]",
      "text/plain": [
       "<Figure size 1000x600 with 1 Axes>"
      ]
     },
     "metadata": {},
     "output_type": "display_data"
    }
   ],
   "source": [
    "import matplotlib.pyplot as plt\n",
    "import numpy as np\n",
    "\n",
    "# Get feature rankings\n",
    "feature_ranking = rfe.ranking_\n",
    "\n",
    "# Get feature names and rankings\n",
    "features = X_train.columns\n",
    "ranking = np.array(feature_ranking)\n",
    "\n",
    "# Sort features based on importance (lower rank = more important)\n",
    "sorted_indices = np.argsort(ranking)\n",
    "sorted_features = features[sorted_indices]\n",
    "sorted_ranking = ranking[sorted_indices]\n",
    "\n",
    "# Plot the feature rankings\n",
    "plt.figure(figsize=(10, 6))\n",
    "plt.barh(sorted_features, sorted_ranking, color='skyblue')\n",
    "plt.xlabel('Feature Ranking (Lower is better)')\n",
    "plt.ylabel('Features')\n",
    "plt.title('Feature Selection using RFE')\n",
    "plt.gca().invert_yaxis()  # Invert y-axis to show the best features at the top\n",
    "plt.show()"
   ]
  },
  {
   "cell_type": "code",
   "execution_count": 221,
   "id": "19be8218-daf7-46ed-a578-83728ac4faa8",
   "metadata": {},
   "outputs": [
    {
     "data": {
      "text/html": [
       "<style>#sk-container-id-1 {\n",
       "  /* Definition of color scheme common for light and dark mode */\n",
       "  --sklearn-color-text: black;\n",
       "  --sklearn-color-line: gray;\n",
       "  /* Definition of color scheme for unfitted estimators */\n",
       "  --sklearn-color-unfitted-level-0: #fff5e6;\n",
       "  --sklearn-color-unfitted-level-1: #f6e4d2;\n",
       "  --sklearn-color-unfitted-level-2: #ffe0b3;\n",
       "  --sklearn-color-unfitted-level-3: chocolate;\n",
       "  /* Definition of color scheme for fitted estimators */\n",
       "  --sklearn-color-fitted-level-0: #f0f8ff;\n",
       "  --sklearn-color-fitted-level-1: #d4ebff;\n",
       "  --sklearn-color-fitted-level-2: #b3dbfd;\n",
       "  --sklearn-color-fitted-level-3: cornflowerblue;\n",
       "\n",
       "  /* Specific color for light theme */\n",
       "  --sklearn-color-text-on-default-background: var(--sg-text-color, var(--theme-code-foreground, var(--jp-content-font-color1, black)));\n",
       "  --sklearn-color-background: var(--sg-background-color, var(--theme-background, var(--jp-layout-color0, white)));\n",
       "  --sklearn-color-border-box: var(--sg-text-color, var(--theme-code-foreground, var(--jp-content-font-color1, black)));\n",
       "  --sklearn-color-icon: #696969;\n",
       "\n",
       "  @media (prefers-color-scheme: dark) {\n",
       "    /* Redefinition of color scheme for dark theme */\n",
       "    --sklearn-color-text-on-default-background: var(--sg-text-color, var(--theme-code-foreground, var(--jp-content-font-color1, white)));\n",
       "    --sklearn-color-background: var(--sg-background-color, var(--theme-background, var(--jp-layout-color0, #111)));\n",
       "    --sklearn-color-border-box: var(--sg-text-color, var(--theme-code-foreground, var(--jp-content-font-color1, white)));\n",
       "    --sklearn-color-icon: #878787;\n",
       "  }\n",
       "}\n",
       "\n",
       "#sk-container-id-1 {\n",
       "  color: var(--sklearn-color-text);\n",
       "}\n",
       "\n",
       "#sk-container-id-1 pre {\n",
       "  padding: 0;\n",
       "}\n",
       "\n",
       "#sk-container-id-1 input.sk-hidden--visually {\n",
       "  border: 0;\n",
       "  clip: rect(1px 1px 1px 1px);\n",
       "  clip: rect(1px, 1px, 1px, 1px);\n",
       "  height: 1px;\n",
       "  margin: -1px;\n",
       "  overflow: hidden;\n",
       "  padding: 0;\n",
       "  position: absolute;\n",
       "  width: 1px;\n",
       "}\n",
       "\n",
       "#sk-container-id-1 div.sk-dashed-wrapped {\n",
       "  border: 1px dashed var(--sklearn-color-line);\n",
       "  margin: 0 0.4em 0.5em 0.4em;\n",
       "  box-sizing: border-box;\n",
       "  padding-bottom: 0.4em;\n",
       "  background-color: var(--sklearn-color-background);\n",
       "}\n",
       "\n",
       "#sk-container-id-1 div.sk-container {\n",
       "  /* jupyter's `normalize.less` sets `[hidden] { display: none; }`\n",
       "     but bootstrap.min.css set `[hidden] { display: none !important; }`\n",
       "     so we also need the `!important` here to be able to override the\n",
       "     default hidden behavior on the sphinx rendered scikit-learn.org.\n",
       "     See: https://github.com/scikit-learn/scikit-learn/issues/21755 */\n",
       "  display: inline-block !important;\n",
       "  position: relative;\n",
       "}\n",
       "\n",
       "#sk-container-id-1 div.sk-text-repr-fallback {\n",
       "  display: none;\n",
       "}\n",
       "\n",
       "div.sk-parallel-item,\n",
       "div.sk-serial,\n",
       "div.sk-item {\n",
       "  /* draw centered vertical line to link estimators */\n",
       "  background-image: linear-gradient(var(--sklearn-color-text-on-default-background), var(--sklearn-color-text-on-default-background));\n",
       "  background-size: 2px 100%;\n",
       "  background-repeat: no-repeat;\n",
       "  background-position: center center;\n",
       "}\n",
       "\n",
       "/* Parallel-specific style estimator block */\n",
       "\n",
       "#sk-container-id-1 div.sk-parallel-item::after {\n",
       "  content: \"\";\n",
       "  width: 100%;\n",
       "  border-bottom: 2px solid var(--sklearn-color-text-on-default-background);\n",
       "  flex-grow: 1;\n",
       "}\n",
       "\n",
       "#sk-container-id-1 div.sk-parallel {\n",
       "  display: flex;\n",
       "  align-items: stretch;\n",
       "  justify-content: center;\n",
       "  background-color: var(--sklearn-color-background);\n",
       "  position: relative;\n",
       "}\n",
       "\n",
       "#sk-container-id-1 div.sk-parallel-item {\n",
       "  display: flex;\n",
       "  flex-direction: column;\n",
       "}\n",
       "\n",
       "#sk-container-id-1 div.sk-parallel-item:first-child::after {\n",
       "  align-self: flex-end;\n",
       "  width: 50%;\n",
       "}\n",
       "\n",
       "#sk-container-id-1 div.sk-parallel-item:last-child::after {\n",
       "  align-self: flex-start;\n",
       "  width: 50%;\n",
       "}\n",
       "\n",
       "#sk-container-id-1 div.sk-parallel-item:only-child::after {\n",
       "  width: 0;\n",
       "}\n",
       "\n",
       "/* Serial-specific style estimator block */\n",
       "\n",
       "#sk-container-id-1 div.sk-serial {\n",
       "  display: flex;\n",
       "  flex-direction: column;\n",
       "  align-items: center;\n",
       "  background-color: var(--sklearn-color-background);\n",
       "  padding-right: 1em;\n",
       "  padding-left: 1em;\n",
       "}\n",
       "\n",
       "\n",
       "/* Toggleable style: style used for estimator/Pipeline/ColumnTransformer box that is\n",
       "clickable and can be expanded/collapsed.\n",
       "- Pipeline and ColumnTransformer use this feature and define the default style\n",
       "- Estimators will overwrite some part of the style using the `sk-estimator` class\n",
       "*/\n",
       "\n",
       "/* Pipeline and ColumnTransformer style (default) */\n",
       "\n",
       "#sk-container-id-1 div.sk-toggleable {\n",
       "  /* Default theme specific background. It is overwritten whether we have a\n",
       "  specific estimator or a Pipeline/ColumnTransformer */\n",
       "  background-color: var(--sklearn-color-background);\n",
       "}\n",
       "\n",
       "/* Toggleable label */\n",
       "#sk-container-id-1 label.sk-toggleable__label {\n",
       "  cursor: pointer;\n",
       "  display: block;\n",
       "  width: 100%;\n",
       "  margin-bottom: 0;\n",
       "  padding: 0.5em;\n",
       "  box-sizing: border-box;\n",
       "  text-align: center;\n",
       "}\n",
       "\n",
       "#sk-container-id-1 label.sk-toggleable__label-arrow:before {\n",
       "  /* Arrow on the left of the label */\n",
       "  content: \"▸\";\n",
       "  float: left;\n",
       "  margin-right: 0.25em;\n",
       "  color: var(--sklearn-color-icon);\n",
       "}\n",
       "\n",
       "#sk-container-id-1 label.sk-toggleable__label-arrow:hover:before {\n",
       "  color: var(--sklearn-color-text);\n",
       "}\n",
       "\n",
       "/* Toggleable content - dropdown */\n",
       "\n",
       "#sk-container-id-1 div.sk-toggleable__content {\n",
       "  max-height: 0;\n",
       "  max-width: 0;\n",
       "  overflow: hidden;\n",
       "  text-align: left;\n",
       "  /* unfitted */\n",
       "  background-color: var(--sklearn-color-unfitted-level-0);\n",
       "}\n",
       "\n",
       "#sk-container-id-1 div.sk-toggleable__content.fitted {\n",
       "  /* fitted */\n",
       "  background-color: var(--sklearn-color-fitted-level-0);\n",
       "}\n",
       "\n",
       "#sk-container-id-1 div.sk-toggleable__content pre {\n",
       "  margin: 0.2em;\n",
       "  border-radius: 0.25em;\n",
       "  color: var(--sklearn-color-text);\n",
       "  /* unfitted */\n",
       "  background-color: var(--sklearn-color-unfitted-level-0);\n",
       "}\n",
       "\n",
       "#sk-container-id-1 div.sk-toggleable__content.fitted pre {\n",
       "  /* unfitted */\n",
       "  background-color: var(--sklearn-color-fitted-level-0);\n",
       "}\n",
       "\n",
       "#sk-container-id-1 input.sk-toggleable__control:checked~div.sk-toggleable__content {\n",
       "  /* Expand drop-down */\n",
       "  max-height: 200px;\n",
       "  max-width: 100%;\n",
       "  overflow: auto;\n",
       "}\n",
       "\n",
       "#sk-container-id-1 input.sk-toggleable__control:checked~label.sk-toggleable__label-arrow:before {\n",
       "  content: \"▾\";\n",
       "}\n",
       "\n",
       "/* Pipeline/ColumnTransformer-specific style */\n",
       "\n",
       "#sk-container-id-1 div.sk-label input.sk-toggleable__control:checked~label.sk-toggleable__label {\n",
       "  color: var(--sklearn-color-text);\n",
       "  background-color: var(--sklearn-color-unfitted-level-2);\n",
       "}\n",
       "\n",
       "#sk-container-id-1 div.sk-label.fitted input.sk-toggleable__control:checked~label.sk-toggleable__label {\n",
       "  background-color: var(--sklearn-color-fitted-level-2);\n",
       "}\n",
       "\n",
       "/* Estimator-specific style */\n",
       "\n",
       "/* Colorize estimator box */\n",
       "#sk-container-id-1 div.sk-estimator input.sk-toggleable__control:checked~label.sk-toggleable__label {\n",
       "  /* unfitted */\n",
       "  background-color: var(--sklearn-color-unfitted-level-2);\n",
       "}\n",
       "\n",
       "#sk-container-id-1 div.sk-estimator.fitted input.sk-toggleable__control:checked~label.sk-toggleable__label {\n",
       "  /* fitted */\n",
       "  background-color: var(--sklearn-color-fitted-level-2);\n",
       "}\n",
       "\n",
       "#sk-container-id-1 div.sk-label label.sk-toggleable__label,\n",
       "#sk-container-id-1 div.sk-label label {\n",
       "  /* The background is the default theme color */\n",
       "  color: var(--sklearn-color-text-on-default-background);\n",
       "}\n",
       "\n",
       "/* On hover, darken the color of the background */\n",
       "#sk-container-id-1 div.sk-label:hover label.sk-toggleable__label {\n",
       "  color: var(--sklearn-color-text);\n",
       "  background-color: var(--sklearn-color-unfitted-level-2);\n",
       "}\n",
       "\n",
       "/* Label box, darken color on hover, fitted */\n",
       "#sk-container-id-1 div.sk-label.fitted:hover label.sk-toggleable__label.fitted {\n",
       "  color: var(--sklearn-color-text);\n",
       "  background-color: var(--sklearn-color-fitted-level-2);\n",
       "}\n",
       "\n",
       "/* Estimator label */\n",
       "\n",
       "#sk-container-id-1 div.sk-label label {\n",
       "  font-family: monospace;\n",
       "  font-weight: bold;\n",
       "  display: inline-block;\n",
       "  line-height: 1.2em;\n",
       "}\n",
       "\n",
       "#sk-container-id-1 div.sk-label-container {\n",
       "  text-align: center;\n",
       "}\n",
       "\n",
       "/* Estimator-specific */\n",
       "#sk-container-id-1 div.sk-estimator {\n",
       "  font-family: monospace;\n",
       "  border: 1px dotted var(--sklearn-color-border-box);\n",
       "  border-radius: 0.25em;\n",
       "  box-sizing: border-box;\n",
       "  margin-bottom: 0.5em;\n",
       "  /* unfitted */\n",
       "  background-color: var(--sklearn-color-unfitted-level-0);\n",
       "}\n",
       "\n",
       "#sk-container-id-1 div.sk-estimator.fitted {\n",
       "  /* fitted */\n",
       "  background-color: var(--sklearn-color-fitted-level-0);\n",
       "}\n",
       "\n",
       "/* on hover */\n",
       "#sk-container-id-1 div.sk-estimator:hover {\n",
       "  /* unfitted */\n",
       "  background-color: var(--sklearn-color-unfitted-level-2);\n",
       "}\n",
       "\n",
       "#sk-container-id-1 div.sk-estimator.fitted:hover {\n",
       "  /* fitted */\n",
       "  background-color: var(--sklearn-color-fitted-level-2);\n",
       "}\n",
       "\n",
       "/* Specification for estimator info (e.g. \"i\" and \"?\") */\n",
       "\n",
       "/* Common style for \"i\" and \"?\" */\n",
       "\n",
       ".sk-estimator-doc-link,\n",
       "a:link.sk-estimator-doc-link,\n",
       "a:visited.sk-estimator-doc-link {\n",
       "  float: right;\n",
       "  font-size: smaller;\n",
       "  line-height: 1em;\n",
       "  font-family: monospace;\n",
       "  background-color: var(--sklearn-color-background);\n",
       "  border-radius: 1em;\n",
       "  height: 1em;\n",
       "  width: 1em;\n",
       "  text-decoration: none !important;\n",
       "  margin-left: 1ex;\n",
       "  /* unfitted */\n",
       "  border: var(--sklearn-color-unfitted-level-1) 1pt solid;\n",
       "  color: var(--sklearn-color-unfitted-level-1);\n",
       "}\n",
       "\n",
       ".sk-estimator-doc-link.fitted,\n",
       "a:link.sk-estimator-doc-link.fitted,\n",
       "a:visited.sk-estimator-doc-link.fitted {\n",
       "  /* fitted */\n",
       "  border: var(--sklearn-color-fitted-level-1) 1pt solid;\n",
       "  color: var(--sklearn-color-fitted-level-1);\n",
       "}\n",
       "\n",
       "/* On hover */\n",
       "div.sk-estimator:hover .sk-estimator-doc-link:hover,\n",
       ".sk-estimator-doc-link:hover,\n",
       "div.sk-label-container:hover .sk-estimator-doc-link:hover,\n",
       ".sk-estimator-doc-link:hover {\n",
       "  /* unfitted */\n",
       "  background-color: var(--sklearn-color-unfitted-level-3);\n",
       "  color: var(--sklearn-color-background);\n",
       "  text-decoration: none;\n",
       "}\n",
       "\n",
       "div.sk-estimator.fitted:hover .sk-estimator-doc-link.fitted:hover,\n",
       ".sk-estimator-doc-link.fitted:hover,\n",
       "div.sk-label-container:hover .sk-estimator-doc-link.fitted:hover,\n",
       ".sk-estimator-doc-link.fitted:hover {\n",
       "  /* fitted */\n",
       "  background-color: var(--sklearn-color-fitted-level-3);\n",
       "  color: var(--sklearn-color-background);\n",
       "  text-decoration: none;\n",
       "}\n",
       "\n",
       "/* Span, style for the box shown on hovering the info icon */\n",
       ".sk-estimator-doc-link span {\n",
       "  display: none;\n",
       "  z-index: 9999;\n",
       "  position: relative;\n",
       "  font-weight: normal;\n",
       "  right: .2ex;\n",
       "  padding: .5ex;\n",
       "  margin: .5ex;\n",
       "  width: min-content;\n",
       "  min-width: 20ex;\n",
       "  max-width: 50ex;\n",
       "  color: var(--sklearn-color-text);\n",
       "  box-shadow: 2pt 2pt 4pt #999;\n",
       "  /* unfitted */\n",
       "  background: var(--sklearn-color-unfitted-level-0);\n",
       "  border: .5pt solid var(--sklearn-color-unfitted-level-3);\n",
       "}\n",
       "\n",
       ".sk-estimator-doc-link.fitted span {\n",
       "  /* fitted */\n",
       "  background: var(--sklearn-color-fitted-level-0);\n",
       "  border: var(--sklearn-color-fitted-level-3);\n",
       "}\n",
       "\n",
       ".sk-estimator-doc-link:hover span {\n",
       "  display: block;\n",
       "}\n",
       "\n",
       "/* \"?\"-specific style due to the `<a>` HTML tag */\n",
       "\n",
       "#sk-container-id-1 a.estimator_doc_link {\n",
       "  float: right;\n",
       "  font-size: 1rem;\n",
       "  line-height: 1em;\n",
       "  font-family: monospace;\n",
       "  background-color: var(--sklearn-color-background);\n",
       "  border-radius: 1rem;\n",
       "  height: 1rem;\n",
       "  width: 1rem;\n",
       "  text-decoration: none;\n",
       "  /* unfitted */\n",
       "  color: var(--sklearn-color-unfitted-level-1);\n",
       "  border: var(--sklearn-color-unfitted-level-1) 1pt solid;\n",
       "}\n",
       "\n",
       "#sk-container-id-1 a.estimator_doc_link.fitted {\n",
       "  /* fitted */\n",
       "  border: var(--sklearn-color-fitted-level-1) 1pt solid;\n",
       "  color: var(--sklearn-color-fitted-level-1);\n",
       "}\n",
       "\n",
       "/* On hover */\n",
       "#sk-container-id-1 a.estimator_doc_link:hover {\n",
       "  /* unfitted */\n",
       "  background-color: var(--sklearn-color-unfitted-level-3);\n",
       "  color: var(--sklearn-color-background);\n",
       "  text-decoration: none;\n",
       "}\n",
       "\n",
       "#sk-container-id-1 a.estimator_doc_link.fitted:hover {\n",
       "  /* fitted */\n",
       "  background-color: var(--sklearn-color-fitted-level-3);\n",
       "}\n",
       "</style><div id=\"sk-container-id-1\" class=\"sk-top-container\"><div class=\"sk-text-repr-fallback\"><pre>LogisticRegression()</pre><b>In a Jupyter environment, please rerun this cell to show the HTML representation or trust the notebook. <br />On GitHub, the HTML representation is unable to render, please try loading this page with nbviewer.org.</b></div><div class=\"sk-container\" hidden><div class=\"sk-item\"><div class=\"sk-estimator fitted sk-toggleable\"><input class=\"sk-toggleable__control sk-hidden--visually\" id=\"sk-estimator-id-1\" type=\"checkbox\" checked><label for=\"sk-estimator-id-1\" class=\"sk-toggleable__label fitted sk-toggleable__label-arrow fitted\">&nbsp;&nbsp;LogisticRegression<a class=\"sk-estimator-doc-link fitted\" rel=\"noreferrer\" target=\"_blank\" href=\"https://scikit-learn.org/1.4/modules/generated/sklearn.linear_model.LogisticRegression.html\">?<span>Documentation for LogisticRegression</span></a><span class=\"sk-estimator-doc-link fitted\">i<span>Fitted</span></span></label><div class=\"sk-toggleable__content fitted\"><pre>LogisticRegression()</pre></div> </div></div></div></div>"
      ],
      "text/plain": [
       "LogisticRegression()"
      ]
     },
     "execution_count": 221,
     "metadata": {},
     "output_type": "execute_result"
    }
   ],
   "source": [
    "# Train Logistic Regression Model\n",
    "model = LogisticRegression()\n",
    "model.fit(X_train_scaled, y_train)"
   ]
  },
  {
   "cell_type": "code",
   "execution_count": 223,
   "id": "8282ec6a-9f6e-4726-a003-6e7b52d709e8",
   "metadata": {},
   "outputs": [],
   "source": [
    "# Predictions\n",
    "y_pred = model.predict(X_test_scaled)\n",
    "y_prob = model.predict_proba(X_test_scaled)[:, 1]  # For ROC curve"
   ]
  },
  {
   "cell_type": "code",
   "execution_count": 225,
   "id": "038ebd35-c197-4001-93ca-6a13822225d0",
   "metadata": {},
   "outputs": [
    {
     "name": "stdout",
     "output_type": "stream",
     "text": [
      "              precision    recall  f1-score   support\n",
      "\n",
      "           0       1.00      1.00      1.00     43363\n",
      "           1       0.86      0.38      0.52       170\n",
      "\n",
      "    accuracy                           1.00     43533\n",
      "   macro avg       0.93      0.69      0.76     43533\n",
      "weighted avg       1.00      1.00      1.00     43533\n",
      "\n"
     ]
    }
   ],
   "source": [
    "# Print Classification Report\n",
    "print(classification_report(y_test, y_pred))"
   ]
  },
  {
   "cell_type": "code",
   "execution_count": 227,
   "id": "93611e07-8a35-4366-9d52-e26d867b198b",
   "metadata": {},
   "outputs": [
    {
     "data": {
      "image/png": "[encoded data removed]",
      "text/plain": [
       "<Figure size 640x480 with 1 Axes>"
      ]
     },
     "metadata": {},
     "output_type": "display_data"
    }
   ],
   "source": [
    "import seaborn as sns\n",
    "\n",
    "sns.countplot(x=y_train)  # Check the imbalance\n",
    "plt.title(\"Class Distribution in Training Set\")\n",
    "plt.show()"
   ]
  },
  {
   "cell_type": "code",
   "execution_count": 229,
   "id": "1328c2bf-5063-402a-80c8-cf42784bb23f",
   "metadata": {},
   "outputs": [
    {
     "data": {
      "image/png": "[encoded data removed]",
      "text/plain": [
       "<Figure size 640x480 with 1 Axes>"
      ]
     },
     "metadata": {},
     "output_type": "display_data"
    }
   ],
   "source": [
    "sns.countplot(x=y_train)\n",
    "plt.yscale(\"log\")\n",
    "plt.title(\"Class Distribution in Training Set (Log Scale)\")\n",
    "plt.xlabel(\"PERSON_INJURY\")\n",
    "plt.ylabel(\"Count (Log Scale)\")\n",
    "plt.show()"
   ]
  },
  {
   "cell_type": "code",
   "execution_count": 231,
   "id": "41a392c4-4da6-42f0-8836-9033bd933783",
   "metadata": {},
   "outputs": [
    {
     "data": {
      "image/png": "[encoded data removed]",
      "text/plain": [
       "<Figure size 800x500 with 1 Axes>"
      ]
     },
     "metadata": {},
     "output_type": "display_data"
    }
   ],
   "source": [
    "class_counts = y_train.value_counts(normalize=True) * 100\n",
    "\n",
    "plt.figure(figsize=(8, 5))\n",
    "sns.barplot(x=class_counts.index, y=class_counts.values)\n",
    "plt.title(\"Class Distribution in Training Set (Percentage)\")\n",
    "plt.xlabel(\"PERSON_INJURY\")\n",
    "plt.ylabel(\"Percentage\")\n",
    "plt.show()"
   ]
  },
  {
   "cell_type": "markdown",
   "id": "8924fd73-d84b-43ce-b150-62ccfa203f18",
   "metadata": {},
   "source": [
    "# Count the occurrences of each class\n",
    "class_counts = y_train.value_counts()\n",
    "\n",
    "# Print the counts\n",
    "print(\"Class Distribution in Training Set:\")\n",
    "print(class_counts)\n",
    "\n",
    "# Display percentages\n",
    "print(\"\\nPercentage Distribution:\")\n",
    "print(class_counts / class_counts.sum() * 100)"
   ]
  },
  {
   "cell_type": "code",
   "execution_count": 236,
   "id": "f0cb79e7-a192-4bda-99b4-40ced04bb40e",
   "metadata": {},
   "outputs": [
    {
     "name": "stdout",
     "output_type": "stream",
     "text": [
      "Class distribution after SMOTE: PERSON_INJURY\n",
      "0    173414\n",
      "1     52024\n",
      "Name: count, dtype: int64\n"
     ]
    }
   ],
   "source": [
    "from imblearn.over_sampling import SMOTE\n",
    "\n",
    "smote = SMOTE(sampling_strategy=0.3, random_state=42)  # Adjust ratio as needed\n",
    "X_train_resampled, y_train_resampled = smote.fit_resample(X_train_scaled, y_train)\n",
    "\n",
    "print(\"Class distribution after SMOTE:\", y_train_resampled.value_counts())"
   ]
  },
  {
   "cell_type": "code",
   "execution_count": 238,
   "id": "5d39541a-09a5-4173-96d7-22db35f0c13b",
   "metadata": {},
   "outputs": [],
   "source": [
    "from imblearn.under_sampling import RandomUnderSampler\n",
    "\n",
    "rus = RandomUnderSampler(sampling_strategy=0.5, random_state=42)  # Reduce class 0\n",
    "X_train_resampled, y_train_resampled = rus.fit_resample(X_train_scaled, y_train)"
   ]
  },
  {
   "cell_type": "markdown",
   "id": "d1de5c62-1b62-4b2e-8c26-7fbe0e03b72f",
   "metadata": {},
   "source": [
    "# Using Logistic Regression"
   ]
  },
  {
   "cell_type": "code",
   "execution_count": 241,
   "id": "bc25391f-3874-441b-87de-eb45a2fe0f58",
   "metadata": {},
   "outputs": [
    {
     "name": "stdout",
     "output_type": "stream",
     "text": [
      "              precision    recall  f1-score   support\n",
      "\n",
      "           0       1.00      0.92      0.96     43363\n",
      "           1       0.03      0.68      0.07       170\n",
      "\n",
      "    accuracy                           0.92     43533\n",
      "   macro avg       0.52      0.80      0.51     43533\n",
      "weighted avg       0.99      0.92      0.96     43533\n",
      "\n"
     ]
    }
   ],
   "source": [
    "# Train Logistic Regression Again\n",
    "model = LogisticRegression()\n",
    "model.fit(X_train_resampled, y_train_resampled)\n",
    "\n",
    "# Predictions\n",
    "y_pred = model.predict(X_test_scaled)\n",
    "y_prob = model.predict_proba(X_test_scaled)[:, 1]\n",
    "\n",
    "# Print New Classification Report\n",
    "print(classification_report(y_test, y_pred))"
   ]
  },
  {
   "cell_type": "markdown",
   "id": "ab423fbf-9662-4e06-bbd1-34ec21dceb29",
   "metadata": {},
   "source": [
    "# Using Rendom Forest"
   ]
  },
  {
   "cell_type": "code",
   "execution_count": 246,
   "id": "7d6f89e9-c767-4ae4-944e-5ae5355c8d26",
   "metadata": {},
   "outputs": [
    {
     "name": "stdout",
     "output_type": "stream",
     "text": [
      "              precision    recall  f1-score   support\n",
      "\n",
      "           0       1.00      0.92      0.96     43363\n",
      "           1       0.03      0.68      0.06       170\n",
      "\n",
      "    accuracy                           0.91     43533\n",
      "   macro avg       0.51      0.80      0.51     43533\n",
      "weighted avg       0.99      0.91      0.95     43533\n",
      "\n"
     ]
    }
   ],
   "source": [
    "from sklearn.ensemble import RandomForestClassifier\n",
    "\n",
    "rf_model = RandomForestClassifier(class_weight=\"balanced\", n_estimators=100, random_state=42)\n",
    "rf_model.fit(X_train_resampled, y_train_resampled)\n",
    "\n",
    "y_pred_rf = rf_model.predict(X_test_scaled)\n",
    "print(classification_report(y_test, y_pred_rf))"
   ]
  },
  {
   "cell_type": "code",
   "execution_count": 248,
   "id": "ceb854fc-2fdf-4dee-a2e5-42f4dad66409",
   "metadata": {},
   "outputs": [
    {
     "name": "stderr",
     "output_type": "stream",
     "text": [
      "C:\\Users\\Acer\\anaconda3\\Lib\\site-packages\\imblearn\\ensemble\\_forest.py:577: FutureWarning: The default of `sampling_strategy` will change from `'auto'` to `'all'` in version 0.13. This change will follow the implementation proposed in the original paper. Set to `'all'` to silence this warning and adopt the future behaviour.\n",
      "  warn(\n",
      "C:\\Users\\Acer\\anaconda3\\Lib\\site-packages\\imblearn\\ensemble\\_forest.py:589: FutureWarning: The default of `replacement` will change from `False` to `True` in version 0.13. This change will follow the implementation proposed in the original paper. Set to `True` to silence this warning and adopt the future behaviour.\n",
      "  warn(\n",
      "C:\\Users\\Acer\\anaconda3\\Lib\\site-packages\\imblearn\\ensemble\\_forest.py:601: FutureWarning: The default of `bootstrap` will change from `True` to `False` in version 0.13. This change will follow the implementation proposed in the original paper. Set to `False` to silence this warning and adopt the future behaviour.\n",
      "  warn(\n"
     ]
    }
   ],
   "source": [
    "from imblearn.ensemble import BalancedRandomForestClassifier\n",
    "\n",
    "clf = BalancedRandomForestClassifier(n_estimators=100, random_state=42)\n",
    "clf.fit(X_train, y_train)\n",
    "y_pred = clf.predict(X_test)"
   ]
  },
  {
   "cell_type": "code",
   "execution_count": 250,
   "id": "d444575a-5d31-4460-a7d5-30676b6a0b5d",
   "metadata": {},
   "outputs": [
    {
     "name": "stdout",
     "output_type": "stream",
     "text": [
      "Class distribution after undersampling:\n",
      " PERSON_INJURY\n",
      "0    1428\n",
      "1     714\n",
      "Name: count, dtype: int64\n"
     ]
    }
   ],
   "source": [
    "from imblearn.under_sampling import RandomUnderSampler\n",
    "\n",
    "undersampler = RandomUnderSampler(sampling_strategy=0.5, random_state=42)\n",
    "X_resampled, y_resampled = undersampler.fit_resample(X_train, y_train)\n",
    "\n",
    "print(\"Class distribution after undersampling:\\n\", y_resampled.value_counts())"
   ]
  },
  {
   "cell_type": "code",
   "execution_count": 252,
   "id": "5f2a4c9b-7132-49ce-ad71-0f465719d22a",
   "metadata": {},
   "outputs": [
    {
     "name": "stderr",
     "output_type": "stream",
     "text": [
      "C:\\Users\\Acer\\anaconda3\\Lib\\site-packages\\sklearn\\linear_model\\_logistic.py:469: ConvergenceWarning: lbfgs failed to converge (status=1):\n",
      "STOP: TOTAL NO. of ITERATIONS REACHED LIMIT.\n",
      "\n",
      "Increase the number of iterations (max_iter) or scale the data as shown in:\n",
      "    https://scikit-learn.org/stable/modules/preprocessing.html\n",
      "Please also refer to the documentation for alternative solver options:\n",
      "    https://scikit-learn.org/stable/modules/linear_model.html#logistic-regression\n",
      "  n_iter_i = _check_optimize_result(\n"
     ]
    },
    {
     "data": {
      "text/html": [
       "<style>#sk-container-id-2 {\n",
       "  /* Definition of color scheme common for light and dark mode */\n",
       "  --sklearn-color-text: black;\n",
       "  --sklearn-color-line: gray;\n",
       "  /* Definition of color scheme for unfitted estimators */\n",
       "  --sklearn-color-unfitted-level-0: #fff5e6;\n",
       "  --sklearn-color-unfitted-level-1: #f6e4d2;\n",
       "  --sklearn-color-unfitted-level-2: #ffe0b3;\n",
       "  --sklearn-color-unfitted-level-3: chocolate;\n",
       "  /* Definition of color scheme for fitted estimators */\n",
       "  --sklearn-color-fitted-level-0: #f0f8ff;\n",
       "  --sklearn-color-fitted-level-1: #d4ebff;\n",
       "  --sklearn-color-fitted-level-2: #b3dbfd;\n",
       "  --sklearn-color-fitted-level-3: cornflowerblue;\n",
       "\n",
       "  /* Specific color for light theme */\n",
       "  --sklearn-color-text-on-default-background: var(--sg-text-color, var(--theme-code-foreground, var(--jp-content-font-color1, black)));\n",
       "  --sklearn-color-background: var(--sg-background-color, var(--theme-background, var(--jp-layout-color0, white)));\n",
       "  --sklearn-color-border-box: var(--sg-text-color, var(--theme-code-foreground, var(--jp-content-font-color1, black)));\n",
       "  --sklearn-color-icon: #696969;\n",
       "\n",
       "  @media (prefers-color-scheme: dark) {\n",
       "    /* Redefinition of color scheme for dark theme */\n",
       "    --sklearn-color-text-on-default-background: var(--sg-text-color, var(--theme-code-foreground, var(--jp-content-font-color1, white)));\n",
       "    --sklearn-color-background: var(--sg-background-color, var(--theme-background, var(--jp-layout-color0, #111)));\n",
       "    --sklearn-color-border-box: var(--sg-text-color, var(--theme-code-foreground, var(--jp-content-font-color1, white)));\n",
       "    --sklearn-color-icon: #878787;\n",
       "  }\n",
       "}\n",
       "\n",
       "#sk-container-id-2 {\n",
       "  color: var(--sklearn-color-text);\n",
       "}\n",
       "\n",
       "#sk-container-id-2 pre {\n",
       "  padding: 0;\n",
       "}\n",
       "\n",
       "#sk-container-id-2 input.sk-hidden--visually {\n",
       "  border: 0;\n",
       "  clip: rect(1px 1px 1px 1px);\n",
       "  clip: rect(1px, 1px, 1px, 1px);\n",
       "  height: 1px;\n",
       "  margin: -1px;\n",
       "  overflow: hidden;\n",
       "  padding: 0;\n",
       "  position: absolute;\n",
       "  width: 1px;\n",
       "}\n",
       "\n",
       "#sk-container-id-2 div.sk-dashed-wrapped {\n",
       "  border: 1px dashed var(--sklearn-color-line);\n",
       "  margin: 0 0.4em 0.5em 0.4em;\n",
       "  box-sizing: border-box;\n",
       "  padding-bottom: 0.4em;\n",
       "  background-color: var(--sklearn-color-background);\n",
       "}\n",
       "\n",
       "#sk-container-id-2 div.sk-container {\n",
       "  /* jupyter's `normalize.less` sets `[hidden] { display: none; }`\n",
       "     but bootstrap.min.css set `[hidden] { display: none !important; }`\n",
       "     so we also need the `!important` here to be able to override the\n",
       "     default hidden behavior on the sphinx rendered scikit-learn.org.\n",
       "     See: https://github.com/scikit-learn/scikit-learn/issues/21755 */\n",
       "  display: inline-block !important;\n",
       "  position: relative;\n",
       "}\n",
       "\n",
       "#sk-container-id-2 div.sk-text-repr-fallback {\n",
       "  display: none;\n",
       "}\n",
       "\n",
       "div.sk-parallel-item,\n",
       "div.sk-serial,\n",
       "div.sk-item {\n",
       "  /* draw centered vertical line to link estimators */\n",
       "  background-image: linear-gradient(var(--sklearn-color-text-on-default-background), var(--sklearn-color-text-on-default-background));\n",
       "  background-size: 2px 100%;\n",
       "  background-repeat: no-repeat;\n",
       "  background-position: center center;\n",
       "}\n",
       "\n",
       "/* Parallel-specific style estimator block */\n",
       "\n",
       "#sk-container-id-2 div.sk-parallel-item::after {\n",
       "  content: \"\";\n",
       "  width: 100%;\n",
       "  border-bottom: 2px solid var(--sklearn-color-text-on-default-background);\n",
       "  flex-grow: 1;\n",
       "}\n",
       "\n",
       "#sk-container-id-2 div.sk-parallel {\n",
       "  display: flex;\n",
       "  align-items: stretch;\n",
       "  justify-content: center;\n",
       "  background-color: var(--sklearn-color-background);\n",
       "  position: relative;\n",
       "}\n",
       "\n",
       "#sk-container-id-2 div.sk-parallel-item {\n",
       "  display: flex;\n",
       "  flex-direction: column;\n",
       "}\n",
       "\n",
       "#sk-container-id-2 div.sk-parallel-item:first-child::after {\n",
       "  align-self: flex-end;\n",
       "  width: 50%;\n",
       "}\n",
       "\n",
       "#sk-container-id-2 div.sk-parallel-item:last-child::after {\n",
       "  align-self: flex-start;\n",
       "  width: 50%;\n",
       "}\n",
       "\n",
       "#sk-container-id-2 div.sk-parallel-item:only-child::after {\n",
       "  width: 0;\n",
       "}\n",
       "\n",
       "/* Serial-specific style estimator block */\n",
       "\n",
       "#sk-container-id-2 div.sk-serial {\n",
       "  display: flex;\n",
       "  flex-direction: column;\n",
       "  align-items: center;\n",
       "  background-color: var(--sklearn-color-background);\n",
       "  padding-right: 1em;\n",
       "  padding-left: 1em;\n",
       "}\n",
       "\n",
       "\n",
       "/* Toggleable style: style used for estimator/Pipeline/ColumnTransformer box that is\n",
       "clickable and can be expanded/collapsed.\n",
       "- Pipeline and ColumnTransformer use this feature and define the default style\n",
       "- Estimators will overwrite some part of the style using the `sk-estimator` class\n",
       "*/\n",
       "\n",
       "/* Pipeline and ColumnTransformer style (default) */\n",
       "\n",
       "#sk-container-id-2 div.sk-toggleable {\n",
       "  /* Default theme specific background. It is overwritten whether we have a\n",
       "  specific estimator or a Pipeline/ColumnTransformer */\n",
       "  background-color: var(--sklearn-color-background);\n",
       "}\n",
       "\n",
       "/* Toggleable label */\n",
       "#sk-container-id-2 label.sk-toggleable__label {\n",
       "  cursor: pointer;\n",
       "  display: block;\n",
       "  width: 100%;\n",
       "  margin-bottom: 0;\n",
       "  padding: 0.5em;\n",
       "  box-sizing: border-box;\n",
       "  text-align: center;\n",
       "}\n",
       "\n",
       "#sk-container-id-2 label.sk-toggleable__label-arrow:before {\n",
       "  /* Arrow on the left of the label */\n",
       "  content: \"▸\";\n",
       "  float: left;\n",
       "  margin-right: 0.25em;\n",
       "  color: var(--sklearn-color-icon);\n",
       "}\n",
       "\n",
       "#sk-container-id-2 label.sk-toggleable__label-arrow:hover:before {\n",
       "  color: var(--sklearn-color-text);\n",
       "}\n",
       "\n",
       "/* Toggleable content - dropdown */\n",
       "\n",
       "#sk-container-id-2 div.sk-toggleable__content {\n",
       "  max-height: 0;\n",
       "  max-width: 0;\n",
       "  overflow: hidden;\n",
       "  text-align: left;\n",
       "  /* unfitted */\n",
       "  background-color: var(--sklearn-color-unfitted-level-0);\n",
       "}\n",
       "\n",
       "#sk-container-id-2 div.sk-toggleable__content.fitted {\n",
       "  /* fitted */\n",
       "  background-color: var(--sklearn-color-fitted-level-0);\n",
       "}\n",
       "\n",
       "#sk-container-id-2 div.sk-toggleable__content pre {\n",
       "  margin: 0.2em;\n",
       "  border-radius: 0.25em;\n",
       "  color: var(--sklearn-color-text);\n",
       "  /* unfitted */\n",
       "  background-color: var(--sklearn-color-unfitted-level-0);\n",
       "}\n",
       "\n",
       "#sk-container-id-2 div.sk-toggleable__content.fitted pre {\n",
       "  /* unfitted */\n",
       "  background-color: var(--sklearn-color-fitted-level-0);\n",
       "}\n",
       "\n",
       "#sk-container-id-2 input.sk-toggleable__control:checked~div.sk-toggleable__content {\n",
       "  /* Expand drop-down */\n",
       "  max-height: 200px;\n",
       "  max-width: 100%;\n",
       "  overflow: auto;\n",
       "}\n",
       "\n",
       "#sk-container-id-2 input.sk-toggleable__control:checked~label.sk-toggleable__label-arrow:before {\n",
       "  content: \"▾\";\n",
       "}\n",
       "\n",
       "/* Pipeline/ColumnTransformer-specific style */\n",
       "\n",
       "#sk-container-id-2 div.sk-label input.sk-toggleable__control:checked~label.sk-toggleable__label {\n",
       "  color: var(--sklearn-color-text);\n",
       "  background-color: var(--sklearn-color-unfitted-level-2);\n",
       "}\n",
       "\n",
       "#sk-container-id-2 div.sk-label.fitted input.sk-toggleable__control:checked~label.sk-toggleable__label {\n",
       "  background-color: var(--sklearn-color-fitted-level-2);\n",
       "}\n",
       "\n",
       "/* Estimator-specific style */\n",
       "\n",
       "/* Colorize estimator box */\n",
       "#sk-container-id-2 div.sk-estimator input.sk-toggleable__control:checked~label.sk-toggleable__label {\n",
       "  /* unfitted */\n",
       "  background-color: var(--sklearn-color-unfitted-level-2);\n",
       "}\n",
       "\n",
       "#sk-container-id-2 div.sk-estimator.fitted input.sk-toggleable__control:checked~label.sk-toggleable__label {\n",
       "  /* fitted */\n",
       "  background-color: var(--sklearn-color-fitted-level-2);\n",
       "}\n",
       "\n",
       "#sk-container-id-2 div.sk-label label.sk-toggleable__label,\n",
       "#sk-container-id-2 div.sk-label label {\n",
       "  /* The background is the default theme color */\n",
       "  color: var(--sklearn-color-text-on-default-background);\n",
       "}\n",
       "\n",
       "/* On hover, darken the color of the background */\n",
       "#sk-container-id-2 div.sk-label:hover label.sk-toggleable__label {\n",
       "  color: var(--sklearn-color-text);\n",
       "  background-color: var(--sklearn-color-unfitted-level-2);\n",
       "}\n",
       "\n",
       "/* Label box, darken color on hover, fitted */\n",
       "#sk-container-id-2 div.sk-label.fitted:hover label.sk-toggleable__label.fitted {\n",
       "  color: var(--sklearn-color-text);\n",
       "  background-color: var(--sklearn-color-fitted-level-2);\n",
       "}\n",
       "\n",
       "/* Estimator label */\n",
       "\n",
       "#sk-container-id-2 div.sk-label label {\n",
       "  font-family: monospace;\n",
       "  font-weight: bold;\n",
       "  display: inline-block;\n",
       "  line-height: 1.2em;\n",
       "}\n",
       "\n",
       "#sk-container-id-2 div.sk-label-container {\n",
       "  text-align: center;\n",
       "}\n",
       "\n",
       "/* Estimator-specific */\n",
       "#sk-container-id-2 div.sk-estimator {\n",
       "  font-family: monospace;\n",
       "  border: 1px dotted var(--sklearn-color-border-box);\n",
       "  border-radius: 0.25em;\n",
       "  box-sizing: border-box;\n",
       "  margin-bottom: 0.5em;\n",
       "  /* unfitted */\n",
       "  background-color: var(--sklearn-color-unfitted-level-0);\n",
       "}\n",
       "\n",
       "#sk-container-id-2 div.sk-estimator.fitted {\n",
       "  /* fitted */\n",
       "  background-color: var(--sklearn-color-fitted-level-0);\n",
       "}\n",
       "\n",
       "/* on hover */\n",
       "#sk-container-id-2 div.sk-estimator:hover {\n",
       "  /* unfitted */\n",
       "  background-color: var(--sklearn-color-unfitted-level-2);\n",
       "}\n",
       "\n",
       "#sk-container-id-2 div.sk-estimator.fitted:hover {\n",
       "  /* fitted */\n",
       "  background-color: var(--sklearn-color-fitted-level-2);\n",
       "}\n",
       "\n",
       "/* Specification for estimator info (e.g. \"i\" and \"?\") */\n",
       "\n",
       "/* Common style for \"i\" and \"?\" */\n",
       "\n",
       ".sk-estimator-doc-link,\n",
       "a:link.sk-estimator-doc-link,\n",
       "a:visited.sk-estimator-doc-link {\n",
       "  float: right;\n",
       "  font-size: smaller;\n",
       "  line-height: 1em;\n",
       "  font-family: monospace;\n",
       "  background-color: var(--sklearn-color-background);\n",
       "  border-radius: 1em;\n",
       "  height: 1em;\n",
       "  width: 1em;\n",
       "  text-decoration: none !important;\n",
       "  margin-left: 1ex;\n",
       "  /* unfitted */\n",
       "  border: var(--sklearn-color-unfitted-level-1) 1pt solid;\n",
       "  color: var(--sklearn-color-unfitted-level-1);\n",
       "}\n",
       "\n",
       ".sk-estimator-doc-link.fitted,\n",
       "a:link.sk-estimator-doc-link.fitted,\n",
       "a:visited.sk-estimator-doc-link.fitted {\n",
       "  /* fitted */\n",
       "  border: var(--sklearn-color-fitted-level-1) 1pt solid;\n",
       "  color: var(--sklearn-color-fitted-level-1);\n",
       "}\n",
       "\n",
       "/* On hover */\n",
       "div.sk-estimator:hover .sk-estimator-doc-link:hover,\n",
       ".sk-estimator-doc-link:hover,\n",
       "div.sk-label-container:hover .sk-estimator-doc-link:hover,\n",
       ".sk-estimator-doc-link:hover {\n",
       "  /* unfitted */\n",
       "  background-color: var(--sklearn-color-unfitted-level-3);\n",
       "  color: var(--sklearn-color-background);\n",
       "  text-decoration: none;\n",
       "}\n",
       "\n",
       "div.sk-estimator.fitted:hover .sk-estimator-doc-link.fitted:hover,\n",
       ".sk-estimator-doc-link.fitted:hover,\n",
       "div.sk-label-container:hover .sk-estimator-doc-link.fitted:hover,\n",
       ".sk-estimator-doc-link.fitted:hover {\n",
       "  /* fitted */\n",
       "  background-color: var(--sklearn-color-fitted-level-3);\n",
       "  color: var(--sklearn-color-background);\n",
       "  text-decoration: none;\n",
       "}\n",
       "\n",
       "/* Span, style for the box shown on hovering the info icon */\n",
       ".sk-estimator-doc-link span {\n",
       "  display: none;\n",
       "  z-index: 9999;\n",
       "  position: relative;\n",
       "  font-weight: normal;\n",
       "  right: .2ex;\n",
       "  padding: .5ex;\n",
       "  margin: .5ex;\n",
       "  width: min-content;\n",
       "  min-width: 20ex;\n",
       "  max-width: 50ex;\n",
       "  color: var(--sklearn-color-text);\n",
       "  box-shadow: 2pt 2pt 4pt #999;\n",
       "  /* unfitted */\n",
       "  background: var(--sklearn-color-unfitted-level-0);\n",
       "  border: .5pt solid var(--sklearn-color-unfitted-level-3);\n",
       "}\n",
       "\n",
       ".sk-estimator-doc-link.fitted span {\n",
       "  /* fitted */\n",
       "  background: var(--sklearn-color-fitted-level-0);\n",
       "  border: var(--sklearn-color-fitted-level-3);\n",
       "}\n",
       "\n",
       ".sk-estimator-doc-link:hover span {\n",
       "  display: block;\n",
       "}\n",
       "\n",
       "/* \"?\"-specific style due to the `<a>` HTML tag */\n",
       "\n",
       "#sk-container-id-2 a.estimator_doc_link {\n",
       "  float: right;\n",
       "  font-size: 1rem;\n",
       "  line-height: 1em;\n",
       "  font-family: monospace;\n",
       "  background-color: var(--sklearn-color-background);\n",
       "  border-radius: 1rem;\n",
       "  height: 1rem;\n",
       "  width: 1rem;\n",
       "  text-decoration: none;\n",
       "  /* unfitted */\n",
       "  color: var(--sklearn-color-unfitted-level-1);\n",
       "  border: var(--sklearn-color-unfitted-level-1) 1pt solid;\n",
       "}\n",
       "\n",
       "#sk-container-id-2 a.estimator_doc_link.fitted {\n",
       "  /* fitted */\n",
       "  border: var(--sklearn-color-fitted-level-1) 1pt solid;\n",
       "  color: var(--sklearn-color-fitted-level-1);\n",
       "}\n",
       "\n",
       "/* On hover */\n",
       "#sk-container-id-2 a.estimator_doc_link:hover {\n",
       "  /* unfitted */\n",
       "  background-color: var(--sklearn-color-unfitted-level-3);\n",
       "  color: var(--sklearn-color-background);\n",
       "  text-decoration: none;\n",
       "}\n",
       "\n",
       "#sk-container-id-2 a.estimator_doc_link.fitted:hover {\n",
       "  /* fitted */\n",
       "  background-color: var(--sklearn-color-fitted-level-3);\n",
       "}\n",
       "</style><div id=\"sk-container-id-2\" class=\"sk-top-container\"><div class=\"sk-text-repr-fallback\"><pre>LogisticRegression(class_weight=&#x27;balanced&#x27;, random_state=42)</pre><b>In a Jupyter environment, please rerun this cell to show the HTML representation or trust the notebook. <br />On GitHub, the HTML representation is unable to render, please try loading this page with nbviewer.org.</b></div><div class=\"sk-container\" hidden><div class=\"sk-item\"><div class=\"sk-estimator fitted sk-toggleable\"><input class=\"sk-toggleable__control sk-hidden--visually\" id=\"sk-estimator-id-2\" type=\"checkbox\" checked><label for=\"sk-estimator-id-2\" class=\"sk-toggleable__label fitted sk-toggleable__label-arrow fitted\">&nbsp;&nbsp;LogisticRegression<a class=\"sk-estimator-doc-link fitted\" rel=\"noreferrer\" target=\"_blank\" href=\"https://scikit-learn.org/1.4/modules/generated/sklearn.linear_model.LogisticRegression.html\">?<span>Documentation for LogisticRegression</span></a><span class=\"sk-estimator-doc-link fitted\">i<span>Fitted</span></span></label><div class=\"sk-toggleable__content fitted\"><pre>LogisticRegression(class_weight=&#x27;balanced&#x27;, random_state=42)</pre></div> </div></div></div></div>"
      ],
      "text/plain": [
       "LogisticRegression(class_weight='balanced', random_state=42)"
      ]
     },
     "execution_count": 252,
     "metadata": {},
     "output_type": "execute_result"
    }
   ],
   "source": [
    "from sklearn.linear_model import LogisticRegression\n",
    "\n",
    "clf = LogisticRegression(class_weight=\"balanced\", random_state=42)\n",
    "clf.fit(X_train, y_train)"
   ]
  },
  {
   "cell_type": "code",
   "execution_count": 274,
   "id": "06235c07-0208-4292-8bfa-b7d89adc31d7",
   "metadata": {},
   "outputs": [
    {
     "name": "stdout",
     "output_type": "stream",
     "text": [
      "Requirement already satisfied: imbalanced-learn in c:\\users\\acer\\anaconda3\\lib\\site-packages (0.12.3)\n",
      "Requirement already satisfied: numpy>=1.17.3 in c:\\users\\acer\\anaconda3\\lib\\site-packages (from imbalanced-learn) (1.26.4)\n",
      "Requirement already satisfied: scipy>=1.5.0 in c:\\users\\acer\\anaconda3\\lib\\site-packages (from imbalanced-learn) (1.13.1)\n",
      "Requirement already satisfied: scikit-learn>=1.0.2 in c:\\users\\acer\\anaconda3\\lib\\site-packages (from imbalanced-learn) (1.4.2)\n",
      "Requirement already satisfied: joblib>=1.1.1 in c:\\users\\acer\\anaconda3\\lib\\site-packages (from imbalanced-learn) (1.4.2)\n",
      "Requirement already satisfied: threadpoolctl>=2.0.0 in c:\\users\\acer\\anaconda3\\lib\\site-packages (from imbalanced-learn) (2.2.0)\n",
      "Note: you may need to restart the kernel to use updated packages.\n"
     ]
    }
   ],
   "source": [
    "pip install imbalanced-learn\n"
   ]
  },
  {
   "cell_type": "code",
   "execution_count": 276,
   "id": "71d869d7-8245-41a4-925b-099f6d3ec105",
   "metadata": {},
   "outputs": [],
   "source": [
    "from imblearn.over_sampling import SMOTE\n",
    "\n",
    "smote = SMOTE(sampling_strategy='auto', random_state=42)\n",
    "X_train_resampled, y_train_resampled = smote.fit_resample(X_train, y_train)\n"
   ]
  },
  {
   "cell_type": "code",
   "execution_count": 278,
   "id": "4f45a0b8-05af-4fdb-8e64-0c33e13cc500",
   "metadata": {},
   "outputs": [
    {
     "data": {
      "text/html": [
       "<style>#sk-container-id-3 {\n",
       "  /* Definition of color scheme common for light and dark mode */\n",
       "  --sklearn-color-text: black;\n",
       "  --sklearn-color-line: gray;\n",
       "  /* Definition of color scheme for unfitted estimators */\n",
       "  --sklearn-color-unfitted-level-0: #fff5e6;\n",
       "  --sklearn-color-unfitted-level-1: #f6e4d2;\n",
       "  --sklearn-color-unfitted-level-2: #ffe0b3;\n",
       "  --sklearn-color-unfitted-level-3: chocolate;\n",
       "  /* Definition of color scheme for fitted estimators */\n",
       "  --sklearn-color-fitted-level-0: #f0f8ff;\n",
       "  --sklearn-color-fitted-level-1: #d4ebff;\n",
       "  --sklearn-color-fitted-level-2: #b3dbfd;\n",
       "  --sklearn-color-fitted-level-3: cornflowerblue;\n",
       "\n",
       "  /* Specific color for light theme */\n",
       "  --sklearn-color-text-on-default-background: var(--sg-text-color, var(--theme-code-foreground, var(--jp-content-font-color1, black)));\n",
       "  --sklearn-color-background: var(--sg-background-color, var(--theme-background, var(--jp-layout-color0, white)));\n",
       "  --sklearn-color-border-box: var(--sg-text-color, var(--theme-code-foreground, var(--jp-content-font-color1, black)));\n",
       "  --sklearn-color-icon: #696969;\n",
       "\n",
       "  @media (prefers-color-scheme: dark) {\n",
       "    /* Redefinition of color scheme for dark theme */\n",
       "    --sklearn-color-text-on-default-background: var(--sg-text-color, var(--theme-code-foreground, var(--jp-content-font-color1, white)));\n",
       "    --sklearn-color-background: var(--sg-background-color, var(--theme-background, var(--jp-layout-color0, #111)));\n",
       "    --sklearn-color-border-box: var(--sg-text-color, var(--theme-code-foreground, var(--jp-content-font-color1, white)));\n",
       "    --sklearn-color-icon: #878787;\n",
       "  }\n",
       "}\n",
       "\n",
       "#sk-container-id-3 {\n",
       "  color: var(--sklearn-color-text);\n",
       "}\n",
       "\n",
       "#sk-container-id-3 pre {\n",
       "  padding: 0;\n",
       "}\n",
       "\n",
       "#sk-container-id-3 input.sk-hidden--visually {\n",
       "  border: 0;\n",
       "  clip: rect(1px 1px 1px 1px);\n",
       "  clip: rect(1px, 1px, 1px, 1px);\n",
       "  height: 1px;\n",
       "  margin: -1px;\n",
       "  overflow: hidden;\n",
       "  padding: 0;\n",
       "  position: absolute;\n",
       "  width: 1px;\n",
       "}\n",
       "\n",
       "#sk-container-id-3 div.sk-dashed-wrapped {\n",
       "  border: 1px dashed var(--sklearn-color-line);\n",
       "  margin: 0 0.4em 0.5em 0.4em;\n",
       "  box-sizing: border-box;\n",
       "  padding-bottom: 0.4em;\n",
       "  background-color: var(--sklearn-color-background);\n",
       "}\n",
       "\n",
       "#sk-container-id-3 div.sk-container {\n",
       "  /* jupyter's `normalize.less` sets `[hidden] { display: none; }`\n",
       "     but bootstrap.min.css set `[hidden] { display: none !important; }`\n",
       "     so we also need the `!important` here to be able to override the\n",
       "     default hidden behavior on the sphinx rendered scikit-learn.org.\n",
       "     See: https://github.com/scikit-learn/scikit-learn/issues/21755 */\n",
       "  display: inline-block !important;\n",
       "  position: relative;\n",
       "}\n",
       "\n",
       "#sk-container-id-3 div.sk-text-repr-fallback {\n",
       "  display: none;\n",
       "}\n",
       "\n",
       "div.sk-parallel-item,\n",
       "div.sk-serial,\n",
       "div.sk-item {\n",
       "  /* draw centered vertical line to link estimators */\n",
       "  background-image: linear-gradient(var(--sklearn-color-text-on-default-background), var(--sklearn-color-text-on-default-background));\n",
       "  background-size: 2px 100%;\n",
       "  background-repeat: no-repeat;\n",
       "  background-position: center center;\n",
       "}\n",
       "\n",
       "/* Parallel-specific style estimator block */\n",
       "\n",
       "#sk-container-id-3 div.sk-parallel-item::after {\n",
       "  content: \"\";\n",
       "  width: 100%;\n",
       "  border-bottom: 2px solid var(--sklearn-color-text-on-default-background);\n",
       "  flex-grow: 1;\n",
       "}\n",
       "\n",
       "#sk-container-id-3 div.sk-parallel {\n",
       "  display: flex;\n",
       "  align-items: stretch;\n",
       "  justify-content: center;\n",
       "  background-color: var(--sklearn-color-background);\n",
       "  position: relative;\n",
       "}\n",
       "\n",
       "#sk-container-id-3 div.sk-parallel-item {\n",
       "  display: flex;\n",
       "  flex-direction: column;\n",
       "}\n",
       "\n",
       "#sk-container-id-3 div.sk-parallel-item:first-child::after {\n",
       "  align-self: flex-end;\n",
       "  width: 50%;\n",
       "}\n",
       "\n",
       "#sk-container-id-3 div.sk-parallel-item:last-child::after {\n",
       "  align-self: flex-start;\n",
       "  width: 50%;\n",
       "}\n",
       "\n",
       "#sk-container-id-3 div.sk-parallel-item:only-child::after {\n",
       "  width: 0;\n",
       "}\n",
       "\n",
       "/* Serial-specific style estimator block */\n",
       "\n",
       "#sk-container-id-3 div.sk-serial {\n",
       "  display: flex;\n",
       "  flex-direction: column;\n",
       "  align-items: center;\n",
       "  background-color: var(--sklearn-color-background);\n",
       "  padding-right: 1em;\n",
       "  padding-left: 1em;\n",
       "}\n",
       "\n",
       "\n",
       "/* Toggleable style: style used for estimator/Pipeline/ColumnTransformer box that is\n",
       "clickable and can be expanded/collapsed.\n",
       "- Pipeline and ColumnTransformer use this feature and define the default style\n",
       "- Estimators will overwrite some part of the style using the `sk-estimator` class\n",
       "*/\n",
       "\n",
       "/* Pipeline and ColumnTransformer style (default) */\n",
       "\n",
       "#sk-container-id-3 div.sk-toggleable {\n",
       "  /* Default theme specific background. It is overwritten whether we have a\n",
       "  specific estimator or a Pipeline/ColumnTransformer */\n",
       "  background-color: var(--sklearn-color-background);\n",
       "}\n",
       "\n",
       "/* Toggleable label */\n",
       "#sk-container-id-3 label.sk-toggleable__label {\n",
       "  cursor: pointer;\n",
       "  display: block;\n",
       "  width: 100%;\n",
       "  margin-bottom: 0;\n",
       "  padding: 0.5em;\n",
       "  box-sizing: border-box;\n",
       "  text-align: center;\n",
       "}\n",
       "\n",
       "#sk-container-id-3 label.sk-toggleable__label-arrow:before {\n",
       "  /* Arrow on the left of the label */\n",
       "  content: \"▸\";\n",
       "  float: left;\n",
       "  margin-right: 0.25em;\n",
       "  color: var(--sklearn-color-icon);\n",
       "}\n",
       "\n",
       "#sk-container-id-3 label.sk-toggleable__label-arrow:hover:before {\n",
       "  color: var(--sklearn-color-text);\n",
       "}\n",
       "\n",
       "/* Toggleable content - dropdown */\n",
       "\n",
       "#sk-container-id-3 div.sk-toggleable__content {\n",
       "  max-height: 0;\n",
       "  max-width: 0;\n",
       "  overflow: hidden;\n",
       "  text-align: left;\n",
       "  /* unfitted */\n",
       "  background-color: var(--sklearn-color-unfitted-level-0);\n",
       "}\n",
       "\n",
       "#sk-container-id-3 div.sk-toggleable__content.fitted {\n",
       "  /* fitted */\n",
       "  background-color: var(--sklearn-color-fitted-level-0);\n",
       "}\n",
       "\n",
       "#sk-container-id-3 div.sk-toggleable__content pre {\n",
       "  margin: 0.2em;\n",
       "  border-radius: 0.25em;\n",
       "  color: var(--sklearn-color-text);\n",
       "  /* unfitted */\n",
       "  background-color: var(--sklearn-color-unfitted-level-0);\n",
       "}\n",
       "\n",
       "#sk-container-id-3 div.sk-toggleable__content.fitted pre {\n",
       "  /* unfitted */\n",
       "  background-color: var(--sklearn-color-fitted-level-0);\n",
       "}\n",
       "\n",
       "#sk-container-id-3 input.sk-toggleable__control:checked~div.sk-toggleable__content {\n",
       "  /* Expand drop-down */\n",
       "  max-height: 200px;\n",
       "  max-width: 100%;\n",
       "  overflow: auto;\n",
       "}\n",
       "\n",
       "#sk-container-id-3 input.sk-toggleable__control:checked~label.sk-toggleable__label-arrow:before {\n",
       "  content: \"▾\";\n",
       "}\n",
       "\n",
       "/* Pipeline/ColumnTransformer-specific style */\n",
       "\n",
       "#sk-container-id-3 div.sk-label input.sk-toggleable__control:checked~label.sk-toggleable__label {\n",
       "  color: var(--sklearn-color-text);\n",
       "  background-color: var(--sklearn-color-unfitted-level-2);\n",
       "}\n",
       "\n",
       "#sk-container-id-3 div.sk-label.fitted input.sk-toggleable__control:checked~label.sk-toggleable__label {\n",
       "  background-color: var(--sklearn-color-fitted-level-2);\n",
       "}\n",
       "\n",
       "/* Estimator-specific style */\n",
       "\n",
       "/* Colorize estimator box */\n",
       "#sk-container-id-3 div.sk-estimator input.sk-toggleable__control:checked~label.sk-toggleable__label {\n",
       "  /* unfitted */\n",
       "  background-color: var(--sklearn-color-unfitted-level-2);\n",
       "}\n",
       "\n",
       "#sk-container-id-3 div.sk-estimator.fitted input.sk-toggleable__control:checked~label.sk-toggleable__label {\n",
       "  /* fitted */\n",
       "  background-color: var(--sklearn-color-fitted-level-2);\n",
       "}\n",
       "\n",
       "#sk-container-id-3 div.sk-label label.sk-toggleable__label,\n",
       "#sk-container-id-3 div.sk-label label {\n",
       "  /* The background is the default theme color */\n",
       "  color: var(--sklearn-color-text-on-default-background);\n",
       "}\n",
       "\n",
       "/* On hover, darken the color of the background */\n",
       "#sk-container-id-3 div.sk-label:hover label.sk-toggleable__label {\n",
       "  color: var(--sklearn-color-text);\n",
       "  background-color: var(--sklearn-color-unfitted-level-2);\n",
       "}\n",
       "\n",
       "/* Label box, darken color on hover, fitted */\n",
       "#sk-container-id-3 div.sk-label.fitted:hover label.sk-toggleable__label.fitted {\n",
       "  color: var(--sklearn-color-text);\n",
       "  background-color: var(--sklearn-color-fitted-level-2);\n",
       "}\n",
       "\n",
       "/* Estimator label */\n",
       "\n",
       "#sk-container-id-3 div.sk-label label {\n",
       "  font-family: monospace;\n",
       "  font-weight: bold;\n",
       "  display: inline-block;\n",
       "  line-height: 1.2em;\n",
       "}\n",
       "\n",
       "#sk-container-id-3 div.sk-label-container {\n",
       "  text-align: center;\n",
       "}\n",
       "\n",
       "/* Estimator-specific */\n",
       "#sk-container-id-3 div.sk-estimator {\n",
       "  font-family: monospace;\n",
       "  border: 1px dotted var(--sklearn-color-border-box);\n",
       "  border-radius: 0.25em;\n",
       "  box-sizing: border-box;\n",
       "  margin-bottom: 0.5em;\n",
       "  /* unfitted */\n",
       "  background-color: var(--sklearn-color-unfitted-level-0);\n",
       "}\n",
       "\n",
       "#sk-container-id-3 div.sk-estimator.fitted {\n",
       "  /* fitted */\n",
       "  background-color: var(--sklearn-color-fitted-level-0);\n",
       "}\n",
       "\n",
       "/* on hover */\n",
       "#sk-container-id-3 div.sk-estimator:hover {\n",
       "  /* unfitted */\n",
       "  background-color: var(--sklearn-color-unfitted-level-2);\n",
       "}\n",
       "\n",
       "#sk-container-id-3 div.sk-estimator.fitted:hover {\n",
       "  /* fitted */\n",
       "  background-color: var(--sklearn-color-fitted-level-2);\n",
       "}\n",
       "\n",
       "/* Specification for estimator info (e.g. \"i\" and \"?\") */\n",
       "\n",
       "/* Common style for \"i\" and \"?\" */\n",
       "\n",
       ".sk-estimator-doc-link,\n",
       "a:link.sk-estimator-doc-link,\n",
       "a:visited.sk-estimator-doc-link {\n",
       "  float: right;\n",
       "  font-size: smaller;\n",
       "  line-height: 1em;\n",
       "  font-family: monospace;\n",
       "  background-color: var(--sklearn-color-background);\n",
       "  border-radius: 1em;\n",
       "  height: 1em;\n",
       "  width: 1em;\n",
       "  text-decoration: none !important;\n",
       "  margin-left: 1ex;\n",
       "  /* unfitted */\n",
       "  border: var(--sklearn-color-unfitted-level-1) 1pt solid;\n",
       "  color: var(--sklearn-color-unfitted-level-1);\n",
       "}\n",
       "\n",
       ".sk-estimator-doc-link.fitted,\n",
       "a:link.sk-estimator-doc-link.fitted,\n",
       "a:visited.sk-estimator-doc-link.fitted {\n",
       "  /* fitted */\n",
       "  border: var(--sklearn-color-fitted-level-1) 1pt solid;\n",
       "  color: var(--sklearn-color-fitted-level-1);\n",
       "}\n",
       "\n",
       "/* On hover */\n",
       "div.sk-estimator:hover .sk-estimator-doc-link:hover,\n",
       ".sk-estimator-doc-link:hover,\n",
       "div.sk-label-container:hover .sk-estimator-doc-link:hover,\n",
       ".sk-estimator-doc-link:hover {\n",
       "  /* unfitted */\n",
       "  background-color: var(--sklearn-color-unfitted-level-3);\n",
       "  color: var(--sklearn-color-background);\n",
       "  text-decoration: none;\n",
       "}\n",
       "\n",
       "div.sk-estimator.fitted:hover .sk-estimator-doc-link.fitted:hover,\n",
       ".sk-estimator-doc-link.fitted:hover,\n",
       "div.sk-label-container:hover .sk-estimator-doc-link.fitted:hover,\n",
       ".sk-estimator-doc-link.fitted:hover {\n",
       "  /* fitted */\n",
       "  background-color: var(--sklearn-color-fitted-level-3);\n",
       "  color: var(--sklearn-color-background);\n",
       "  text-decoration: none;\n",
       "}\n",
       "\n",
       "/* Span, style for the box shown on hovering the info icon */\n",
       ".sk-estimator-doc-link span {\n",
       "  display: none;\n",
       "  z-index: 9999;\n",
       "  position: relative;\n",
       "  font-weight: normal;\n",
       "  right: .2ex;\n",
       "  padding: .5ex;\n",
       "  margin: .5ex;\n",
       "  width: min-content;\n",
       "  min-width: 20ex;\n",
       "  max-width: 50ex;\n",
       "  color: var(--sklearn-color-text);\n",
       "  box-shadow: 2pt 2pt 4pt #999;\n",
       "  /* unfitted */\n",
       "  background: var(--sklearn-color-unfitted-level-0);\n",
       "  border: .5pt solid var(--sklearn-color-unfitted-level-3);\n",
       "}\n",
       "\n",
       ".sk-estimator-doc-link.fitted span {\n",
       "  /* fitted */\n",
       "  background: var(--sklearn-color-fitted-level-0);\n",
       "  border: var(--sklearn-color-fitted-level-3);\n",
       "}\n",
       "\n",
       ".sk-estimator-doc-link:hover span {\n",
       "  display: block;\n",
       "}\n",
       "\n",
       "/* \"?\"-specific style due to the `<a>` HTML tag */\n",
       "\n",
       "#sk-container-id-3 a.estimator_doc_link {\n",
       "  float: right;\n",
       "  font-size: 1rem;\n",
       "  line-height: 1em;\n",
       "  font-family: monospace;\n",
       "  background-color: var(--sklearn-color-background);\n",
       "  border-radius: 1rem;\n",
       "  height: 1rem;\n",
       "  width: 1rem;\n",
       "  text-decoration: none;\n",
       "  /* unfitted */\n",
       "  color: var(--sklearn-color-unfitted-level-1);\n",
       "  border: var(--sklearn-color-unfitted-level-1) 1pt solid;\n",
       "}\n",
       "\n",
       "#sk-container-id-3 a.estimator_doc_link.fitted {\n",
       "  /* fitted */\n",
       "  border: var(--sklearn-color-fitted-level-1) 1pt solid;\n",
       "  color: var(--sklearn-color-fitted-level-1);\n",
       "}\n",
       "\n",
       "/* On hover */\n",
       "#sk-container-id-3 a.estimator_doc_link:hover {\n",
       "  /* unfitted */\n",
       "  background-color: var(--sklearn-color-unfitted-level-3);\n",
       "  color: var(--sklearn-color-background);\n",
       "  text-decoration: none;\n",
       "}\n",
       "\n",
       "#sk-container-id-3 a.estimator_doc_link.fitted:hover {\n",
       "  /* fitted */\n",
       "  background-color: var(--sklearn-color-fitted-level-3);\n",
       "}\n",
       "</style><div id=\"sk-container-id-3\" class=\"sk-top-container\"><div class=\"sk-text-repr-fallback\"><pre>LogisticRegression(class_weight=&#x27;balanced&#x27;, random_state=42)</pre><b>In a Jupyter environment, please rerun this cell to show the HTML representation or trust the notebook. <br />On GitHub, the HTML representation is unable to render, please try loading this page with nbviewer.org.</b></div><div class=\"sk-container\" hidden><div class=\"sk-item\"><div class=\"sk-estimator fitted sk-toggleable\"><input class=\"sk-toggleable__control sk-hidden--visually\" id=\"sk-estimator-id-3\" type=\"checkbox\" checked><label for=\"sk-estimator-id-3\" class=\"sk-toggleable__label fitted sk-toggleable__label-arrow fitted\">&nbsp;&nbsp;LogisticRegression<a class=\"sk-estimator-doc-link fitted\" rel=\"noreferrer\" target=\"_blank\" href=\"https://scikit-learn.org/1.4/modules/generated/sklearn.linear_model.LogisticRegression.html\">?<span>Documentation for LogisticRegression</span></a><span class=\"sk-estimator-doc-link fitted\">i<span>Fitted</span></span></label><div class=\"sk-toggleable__content fitted\"><pre>LogisticRegression(class_weight=&#x27;balanced&#x27;, random_state=42)</pre></div> </div></div></div></div>"
      ],
      "text/plain": [
       "LogisticRegression(class_weight='balanced', random_state=42)"
      ]
     },
     "execution_count": 278,
     "metadata": {},
     "output_type": "execute_result"
    }
   ],
   "source": [
    "from sklearn.linear_model import LogisticRegression\n",
    "model = LogisticRegression(class_weight='balanced', random_state=42)\n",
    "model.fit(X_train_scaled, y_train)"
   ]
  },
  {
   "cell_type": "code",
   "execution_count": 280,
   "id": "0798670b-2fd3-49c8-96c0-8f7ac31c24cd",
   "metadata": {},
   "outputs": [
    {
     "data": {
      "text/html": [
       "<style>#sk-container-id-4 {\n",
       "  /* Definition of color scheme common for light and dark mode */\n",
       "  --sklearn-color-text: black;\n",
       "  --sklearn-color-line: gray;\n",
       "  /* Definition of color scheme for unfitted estimators */\n",
       "  --sklearn-color-unfitted-level-0: #fff5e6;\n",
       "  --sklearn-color-unfitted-level-1: #f6e4d2;\n",
       "  --sklearn-color-unfitted-level-2: #ffe0b3;\n",
       "  --sklearn-color-unfitted-level-3: chocolate;\n",
       "  /* Definition of color scheme for fitted estimators */\n",
       "  --sklearn-color-fitted-level-0: #f0f8ff;\n",
       "  --sklearn-color-fitted-level-1: #d4ebff;\n",
       "  --sklearn-color-fitted-level-2: #b3dbfd;\n",
       "  --sklearn-color-fitted-level-3: cornflowerblue;\n",
       "\n",
       "  /* Specific color for light theme */\n",
       "  --sklearn-color-text-on-default-background: var(--sg-text-color, var(--theme-code-foreground, var(--jp-content-font-color1, black)));\n",
       "  --sklearn-color-background: var(--sg-background-color, var(--theme-background, var(--jp-layout-color0, white)));\n",
       "  --sklearn-color-border-box: var(--sg-text-color, var(--theme-code-foreground, var(--jp-content-font-color1, black)));\n",
       "  --sklearn-color-icon: #696969;\n",
       "\n",
       "  @media (prefers-color-scheme: dark) {\n",
       "    /* Redefinition of color scheme for dark theme */\n",
       "    --sklearn-color-text-on-default-background: var(--sg-text-color, var(--theme-code-foreground, var(--jp-content-font-color1, white)));\n",
       "    --sklearn-color-background: var(--sg-background-color, var(--theme-background, var(--jp-layout-color0, #111)));\n",
       "    --sklearn-color-border-box: var(--sg-text-color, var(--theme-code-foreground, var(--jp-content-font-color1, white)));\n",
       "    --sklearn-color-icon: #878787;\n",
       "  }\n",
       "}\n",
       "\n",
       "#sk-container-id-4 {\n",
       "  color: var(--sklearn-color-text);\n",
       "}\n",
       "\n",
       "#sk-container-id-4 pre {\n",
       "  padding: 0;\n",
       "}\n",
       "\n",
       "#sk-container-id-4 input.sk-hidden--visually {\n",
       "  border: 0;\n",
       "  clip: rect(1px 1px 1px 1px);\n",
       "  clip: rect(1px, 1px, 1px, 1px);\n",
       "  height: 1px;\n",
       "  margin: -1px;\n",
       "  overflow: hidden;\n",
       "  padding: 0;\n",
       "  position: absolute;\n",
       "  width: 1px;\n",
       "}\n",
       "\n",
       "#sk-container-id-4 div.sk-dashed-wrapped {\n",
       "  border: 1px dashed var(--sklearn-color-line);\n",
       "  margin: 0 0.4em 0.5em 0.4em;\n",
       "  box-sizing: border-box;\n",
       "  padding-bottom: 0.4em;\n",
       "  background-color: var(--sklearn-color-background);\n",
       "}\n",
       "\n",
       "#sk-container-id-4 div.sk-container {\n",
       "  /* jupyter's `normalize.less` sets `[hidden] { display: none; }`\n",
       "     but bootstrap.min.css set `[hidden] { display: none !important; }`\n",
       "     so we also need the `!important` here to be able to override the\n",
       "     default hidden behavior on the sphinx rendered scikit-learn.org.\n",
       "     See: https://github.com/scikit-learn/scikit-learn/issues/21755 */\n",
       "  display: inline-block !important;\n",
       "  position: relative;\n",
       "}\n",
       "\n",
       "#sk-container-id-4 div.sk-text-repr-fallback {\n",
       "  display: none;\n",
       "}\n",
       "\n",
       "div.sk-parallel-item,\n",
       "div.sk-serial,\n",
       "div.sk-item {\n",
       "  /* draw centered vertical line to link estimators */\n",
       "  background-image: linear-gradient(var(--sklearn-color-text-on-default-background), var(--sklearn-color-text-on-default-background));\n",
       "  background-size: 2px 100%;\n",
       "  background-repeat: no-repeat;\n",
       "  background-position: center center;\n",
       "}\n",
       "\n",
       "/* Parallel-specific style estimator block */\n",
       "\n",
       "#sk-container-id-4 div.sk-parallel-item::after {\n",
       "  content: \"\";\n",
       "  width: 100%;\n",
       "  border-bottom: 2px solid var(--sklearn-color-text-on-default-background);\n",
       "  flex-grow: 1;\n",
       "}\n",
       "\n",
       "#sk-container-id-4 div.sk-parallel {\n",
       "  display: flex;\n",
       "  align-items: stretch;\n",
       "  justify-content: center;\n",
       "  background-color: var(--sklearn-color-background);\n",
       "  position: relative;\n",
       "}\n",
       "\n",
       "#sk-container-id-4 div.sk-parallel-item {\n",
       "  display: flex;\n",
       "  flex-direction: column;\n",
       "}\n",
       "\n",
       "#sk-container-id-4 div.sk-parallel-item:first-child::after {\n",
       "  align-self: flex-end;\n",
       "  width: 50%;\n",
       "}\n",
       "\n",
       "#sk-container-id-4 div.sk-parallel-item:last-child::after {\n",
       "  align-self: flex-start;\n",
       "  width: 50%;\n",
       "}\n",
       "\n",
       "#sk-container-id-4 div.sk-parallel-item:only-child::after {\n",
       "  width: 0;\n",
       "}\n",
       "\n",
       "/* Serial-specific style estimator block */\n",
       "\n",
       "#sk-container-id-4 div.sk-serial {\n",
       "  display: flex;\n",
       "  flex-direction: column;\n",
       "  align-items: center;\n",
       "  background-color: var(--sklearn-color-background);\n",
       "  padding-right: 1em;\n",
       "  padding-left: 1em;\n",
       "}\n",
       "\n",
       "\n",
       "/* Toggleable style: style used for estimator/Pipeline/ColumnTransformer box that is\n",
       "clickable and can be expanded/collapsed.\n",
       "- Pipeline and ColumnTransformer use this feature and define the default style\n",
       "- Estimators will overwrite some part of the style using the `sk-estimator` class\n",
       "*/\n",
       "\n",
       "/* Pipeline and ColumnTransformer style (default) */\n",
       "\n",
       "#sk-container-id-4 div.sk-toggleable {\n",
       "  /* Default theme specific background. It is overwritten whether we have a\n",
       "  specific estimator or a Pipeline/ColumnTransformer */\n",
       "  background-color: var(--sklearn-color-background);\n",
       "}\n",
       "\n",
       "/* Toggleable label */\n",
       "#sk-container-id-4 label.sk-toggleable__label {\n",
       "  cursor: pointer;\n",
       "  display: block;\n",
       "  width: 100%;\n",
       "  margin-bottom: 0;\n",
       "  padding: 0.5em;\n",
       "  box-sizing: border-box;\n",
       "  text-align: center;\n",
       "}\n",
       "\n",
       "#sk-container-id-4 label.sk-toggleable__label-arrow:before {\n",
       "  /* Arrow on the left of the label */\n",
       "  content: \"▸\";\n",
       "  float: left;\n",
       "  margin-right: 0.25em;\n",
       "  color: var(--sklearn-color-icon);\n",
       "}\n",
       "\n",
       "#sk-container-id-4 label.sk-toggleable__label-arrow:hover:before {\n",
       "  color: var(--sklearn-color-text);\n",
       "}\n",
       "\n",
       "/* Toggleable content - dropdown */\n",
       "\n",
       "#sk-container-id-4 div.sk-toggleable__content {\n",
       "  max-height: 0;\n",
       "  max-width: 0;\n",
       "  overflow: hidden;\n",
       "  text-align: left;\n",
       "  /* unfitted */\n",
       "  background-color: var(--sklearn-color-unfitted-level-0);\n",
       "}\n",
       "\n",
       "#sk-container-id-4 div.sk-toggleable__content.fitted {\n",
       "  /* fitted */\n",
       "  background-color: var(--sklearn-color-fitted-level-0);\n",
       "}\n",
       "\n",
       "#sk-container-id-4 div.sk-toggleable__content pre {\n",
       "  margin: 0.2em;\n",
       "  border-radius: 0.25em;\n",
       "  color: var(--sklearn-color-text);\n",
       "  /* unfitted */\n",
       "  background-color: var(--sklearn-color-unfitted-level-0);\n",
       "}\n",
       "\n",
       "#sk-container-id-4 div.sk-toggleable__content.fitted pre {\n",
       "  /* unfitted */\n",
       "  background-color: var(--sklearn-color-fitted-level-0);\n",
       "}\n",
       "\n",
       "#sk-container-id-4 input.sk-toggleable__control:checked~div.sk-toggleable__content {\n",
       "  /* Expand drop-down */\n",
       "  max-height: 200px;\n",
       "  max-width: 100%;\n",
       "  overflow: auto;\n",
       "}\n",
       "\n",
       "#sk-container-id-4 input.sk-toggleable__control:checked~label.sk-toggleable__label-arrow:before {\n",
       "  content: \"▾\";\n",
       "}\n",
       "\n",
       "/* Pipeline/ColumnTransformer-specific style */\n",
       "\n",
       "#sk-container-id-4 div.sk-label input.sk-toggleable__control:checked~label.sk-toggleable__label {\n",
       "  color: var(--sklearn-color-text);\n",
       "  background-color: var(--sklearn-color-unfitted-level-2);\n",
       "}\n",
       "\n",
       "#sk-container-id-4 div.sk-label.fitted input.sk-toggleable__control:checked~label.sk-toggleable__label {\n",
       "  background-color: var(--sklearn-color-fitted-level-2);\n",
       "}\n",
       "\n",
       "/* Estimator-specific style */\n",
       "\n",
       "/* Colorize estimator box */\n",
       "#sk-container-id-4 div.sk-estimator input.sk-toggleable__control:checked~label.sk-toggleable__label {\n",
       "  /* unfitted */\n",
       "  background-color: var(--sklearn-color-unfitted-level-2);\n",
       "}\n",
       "\n",
       "#sk-container-id-4 div.sk-estimator.fitted input.sk-toggleable__control:checked~label.sk-toggleable__label {\n",
       "  /* fitted */\n",
       "  background-color: var(--sklearn-color-fitted-level-2);\n",
       "}\n",
       "\n",
       "#sk-container-id-4 div.sk-label label.sk-toggleable__label,\n",
       "#sk-container-id-4 div.sk-label label {\n",
       "  /* The background is the default theme color */\n",
       "  color: var(--sklearn-color-text-on-default-background);\n",
       "}\n",
       "\n",
       "/* On hover, darken the color of the background */\n",
       "#sk-container-id-4 div.sk-label:hover label.sk-toggleable__label {\n",
       "  color: var(--sklearn-color-text);\n",
       "  background-color: var(--sklearn-color-unfitted-level-2);\n",
       "}\n",
       "\n",
       "/* Label box, darken color on hover, fitted */\n",
       "#sk-container-id-4 div.sk-label.fitted:hover label.sk-toggleable__label.fitted {\n",
       "  color: var(--sklearn-color-text);\n",
       "  background-color: var(--sklearn-color-fitted-level-2);\n",
       "}\n",
       "\n",
       "/* Estimator label */\n",
       "\n",
       "#sk-container-id-4 div.sk-label label {\n",
       "  font-family: monospace;\n",
       "  font-weight: bold;\n",
       "  display: inline-block;\n",
       "  line-height: 1.2em;\n",
       "}\n",
       "\n",
       "#sk-container-id-4 div.sk-label-container {\n",
       "  text-align: center;\n",
       "}\n",
       "\n",
       "/* Estimator-specific */\n",
       "#sk-container-id-4 div.sk-estimator {\n",
       "  font-family: monospace;\n",
       "  border: 1px dotted var(--sklearn-color-border-box);\n",
       "  border-radius: 0.25em;\n",
       "  box-sizing: border-box;\n",
       "  margin-bottom: 0.5em;\n",
       "  /* unfitted */\n",
       "  background-color: var(--sklearn-color-unfitted-level-0);\n",
       "}\n",
       "\n",
       "#sk-container-id-4 div.sk-estimator.fitted {\n",
       "  /* fitted */\n",
       "  background-color: var(--sklearn-color-fitted-level-0);\n",
       "}\n",
       "\n",
       "/* on hover */\n",
       "#sk-container-id-4 div.sk-estimator:hover {\n",
       "  /* unfitted */\n",
       "  background-color: var(--sklearn-color-unfitted-level-2);\n",
       "}\n",
       "\n",
       "#sk-container-id-4 div.sk-estimator.fitted:hover {\n",
       "  /* fitted */\n",
       "  background-color: var(--sklearn-color-fitted-level-2);\n",
       "}\n",
       "\n",
       "/* Specification for estimator info (e.g. \"i\" and \"?\") */\n",
       "\n",
       "/* Common style for \"i\" and \"?\" */\n",
       "\n",
       ".sk-estimator-doc-link,\n",
       "a:link.sk-estimator-doc-link,\n",
       "a:visited.sk-estimator-doc-link {\n",
       "  float: right;\n",
       "  font-size: smaller;\n",
       "  line-height: 1em;\n",
       "  font-family: monospace;\n",
       "  background-color: var(--sklearn-color-background);\n",
       "  border-radius: 1em;\n",
       "  height: 1em;\n",
       "  width: 1em;\n",
       "  text-decoration: none !important;\n",
       "  margin-left: 1ex;\n",
       "  /* unfitted */\n",
       "  border: var(--sklearn-color-unfitted-level-1) 1pt solid;\n",
       "  color: var(--sklearn-color-unfitted-level-1);\n",
       "}\n",
       "\n",
       ".sk-estimator-doc-link.fitted,\n",
       "a:link.sk-estimator-doc-link.fitted,\n",
       "a:visited.sk-estimator-doc-link.fitted {\n",
       "  /* fitted */\n",
       "  border: var(--sklearn-color-fitted-level-1) 1pt solid;\n",
       "  color: var(--sklearn-color-fitted-level-1);\n",
       "}\n",
       "\n",
       "/* On hover */\n",
       "div.sk-estimator:hover .sk-estimator-doc-link:hover,\n",
       ".sk-estimator-doc-link:hover,\n",
       "div.sk-label-container:hover .sk-estimator-doc-link:hover,\n",
       ".sk-estimator-doc-link:hover {\n",
       "  /* unfitted */\n",
       "  background-color: var(--sklearn-color-unfitted-level-3);\n",
       "  color: var(--sklearn-color-background);\n",
       "  text-decoration: none;\n",
       "}\n",
       "\n",
       "div.sk-estimator.fitted:hover .sk-estimator-doc-link.fitted:hover,\n",
       ".sk-estimator-doc-link.fitted:hover,\n",
       "div.sk-label-container:hover .sk-estimator-doc-link.fitted:hover,\n",
       ".sk-estimator-doc-link.fitted:hover {\n",
       "  /* fitted */\n",
       "  background-color: var(--sklearn-color-fitted-level-3);\n",
       "  color: var(--sklearn-color-background);\n",
       "  text-decoration: none;\n",
       "}\n",
       "\n",
       "/* Span, style for the box shown on hovering the info icon */\n",
       ".sk-estimator-doc-link span {\n",
       "  display: none;\n",
       "  z-index: 9999;\n",
       "  position: relative;\n",
       "  font-weight: normal;\n",
       "  right: .2ex;\n",
       "  padding: .5ex;\n",
       "  margin: .5ex;\n",
       "  width: min-content;\n",
       "  min-width: 20ex;\n",
       "  max-width: 50ex;\n",
       "  color: var(--sklearn-color-text);\n",
       "  box-shadow: 2pt 2pt 4pt #999;\n",
       "  /* unfitted */\n",
       "  background: var(--sklearn-color-unfitted-level-0);\n",
       "  border: .5pt solid var(--sklearn-color-unfitted-level-3);\n",
       "}\n",
       "\n",
       ".sk-estimator-doc-link.fitted span {\n",
       "  /* fitted */\n",
       "  background: var(--sklearn-color-fitted-level-0);\n",
       "  border: var(--sklearn-color-fitted-level-3);\n",
       "}\n",
       "\n",
       ".sk-estimator-doc-link:hover span {\n",
       "  display: block;\n",
       "}\n",
       "\n",
       "/* \"?\"-specific style due to the `<a>` HTML tag */\n",
       "\n",
       "#sk-container-id-4 a.estimator_doc_link {\n",
       "  float: right;\n",
       "  font-size: 1rem;\n",
       "  line-height: 1em;\n",
       "  font-family: monospace;\n",
       "  background-color: var(--sklearn-color-background);\n",
       "  border-radius: 1rem;\n",
       "  height: 1rem;\n",
       "  width: 1rem;\n",
       "  text-decoration: none;\n",
       "  /* unfitted */\n",
       "  color: var(--sklearn-color-unfitted-level-1);\n",
       "  border: var(--sklearn-color-unfitted-level-1) 1pt solid;\n",
       "}\n",
       "\n",
       "#sk-container-id-4 a.estimator_doc_link.fitted {\n",
       "  /* fitted */\n",
       "  border: var(--sklearn-color-fitted-level-1) 1pt solid;\n",
       "  color: var(--sklearn-color-fitted-level-1);\n",
       "}\n",
       "\n",
       "/* On hover */\n",
       "#sk-container-id-4 a.estimator_doc_link:hover {\n",
       "  /* unfitted */\n",
       "  background-color: var(--sklearn-color-unfitted-level-3);\n",
       "  color: var(--sklearn-color-background);\n",
       "  text-decoration: none;\n",
       "}\n",
       "\n",
       "#sk-container-id-4 a.estimator_doc_link.fitted:hover {\n",
       "  /* fitted */\n",
       "  background-color: var(--sklearn-color-fitted-level-3);\n",
       "}\n",
       "</style><div id=\"sk-container-id-4\" class=\"sk-top-container\"><div class=\"sk-text-repr-fallback\"><pre>LogisticRegression()</pre><b>In a Jupyter environment, please rerun this cell to show the HTML representation or trust the notebook. <br />On GitHub, the HTML representation is unable to render, please try loading this page with nbviewer.org.</b></div><div class=\"sk-container\" hidden><div class=\"sk-item\"><div class=\"sk-estimator fitted sk-toggleable\"><input class=\"sk-toggleable__control sk-hidden--visually\" id=\"sk-estimator-id-4\" type=\"checkbox\" checked><label for=\"sk-estimator-id-4\" class=\"sk-toggleable__label fitted sk-toggleable__label-arrow fitted\">&nbsp;&nbsp;LogisticRegression<a class=\"sk-estimator-doc-link fitted\" rel=\"noreferrer\" target=\"_blank\" href=\"https://scikit-learn.org/1.4/modules/generated/sklearn.linear_model.LogisticRegression.html\">?<span>Documentation for LogisticRegression</span></a><span class=\"sk-estimator-doc-link fitted\">i<span>Fitted</span></span></label><div class=\"sk-toggleable__content fitted\"><pre>LogisticRegression()</pre></div> </div></div></div></div>"
      ],
      "text/plain": [
       "LogisticRegression()"
      ]
     },
     "execution_count": 280,
     "metadata": {},
     "output_type": "execute_result"
    }
   ],
   "source": [
    "from sklearn.linear_model import LogisticRegression\n",
    "\n",
    "# Initialize Logistic Regression\n",
    "model = LogisticRegression()\n",
    "\n",
    "# Train the model\n",
    "model.fit(X_train_scaled, y_train)"
   ]
  },
  {
   "cell_type": "code",
   "execution_count": 282,
   "id": "4263de13-5abe-4706-8092-4666b4311692",
   "metadata": {},
   "outputs": [],
   "source": [
    "\n",
    "# Predict on the test set\n",
    "y_pred = model.predict(X_test_scaled)"
   ]
  },
  {
   "cell_type": "markdown",
   "id": "dba74127-ecee-4657-a703-133b4c5cbbda",
   "metadata": {},
   "source": [
    "# confusion_matrix & Random Forest Classifier with Class Weight"
   ]
  },
  {
   "cell_type": "code",
   "execution_count": 285,
   "id": "553a032c-7162-407f-803b-cadae9dd6de0",
   "metadata": {},
   "outputs": [
    {
     "name": "stdout",
     "output_type": "stream",
     "text": [
      "Accuracy: 0.9973\n",
      "Classification Report:\n",
      "               precision    recall  f1-score   support\n",
      "\n",
      "           0       1.00      1.00      1.00     43363\n",
      "           1       0.86      0.38      0.52       170\n",
      "\n",
      "    accuracy                           1.00     43533\n",
      "   macro avg       0.93      0.69      0.76     43533\n",
      "weighted avg       1.00      1.00      1.00     43533\n",
      "\n",
      "Confusion Matrix:\n",
      " [[43353    10]\n",
      " [  106    64]]\n"
     ]
    }
   ],
   "source": [
    "from sklearn.metrics import accuracy_score, classification_report, confusion_matrix\n",
    "\n",
    "# Accuracy\n",
    "accuracy = accuracy_score(y_test, y_pred)\n",
    "print(f\"Accuracy: {accuracy:.4f}\")\n",
    "\n",
    "# Classification Report\n",
    "print(\"Classification Report:\\n\", classification_report(y_test, y_pred))\n",
    "\n",
    "# Confusion Matrix\n",
    "print(\"Confusion Matrix:\\n\", confusion_matrix(y_test, y_pred))"
   ]
  },
  {
   "cell_type": "markdown",
   "id": "93c8fb1c-0ea2-4579-b89e-1b5dc7a50117",
   "metadata": {},
   "source": [
    "## Random Forest Classifier with Class Weights"
   ]
  },
  {
   "cell_type": "code",
   "execution_count": 288,
   "id": "9a0ec434-bec3-4e6c-aa08-93652acb8744",
   "metadata": {},
   "outputs": [
    {
     "name": "stdout",
     "output_type": "stream",
     "text": [
      "Confusion Matrix:\n",
      " [[43338    25]\n",
      " [  134    36]]\n",
      "\n",
      "Classification Report:\n",
      "               precision    recall  f1-score   support\n",
      "\n",
      "           0       1.00      1.00      1.00     43363\n",
      "           1       0.59      0.21      0.31       170\n",
      "\n",
      "    accuracy                           1.00     43533\n",
      "   macro avg       0.79      0.61      0.65     43533\n",
      "weighted avg       1.00      1.00      1.00     43533\n",
      "\n"
     ]
    }
   ],
   "source": [
    "from sklearn.utils.class_weight import compute_class_weight\n",
    "# Compute Class Weights (Since data is imbalanced)\n",
    "class_weights = dict(zip(np.unique(y_train), compute_class_weight(\"balanced\", classes=np.unique(y_train), y=y_train)))\n",
    "\n",
    "# Initialize Random Forest Model with class weights\n",
    "rf_model = RandomForestClassifier(n_estimators=100, random_state=42, class_weight=class_weights)\n",
    "\n",
    "# Train the Model\n",
    "rf_model.fit(X_train, y_train)\n",
    "\n",
    "# Predictions\n",
    "y_pred = rf_model.predict(X_test)\n",
    "\n",
    "# Evaluation Metrics\n",
    "print(\"Confusion Matrix:\\n\", confusion_matrix(y_test, y_pred))\n",
    "print(\"\\nClassification Report:\\n\", classification_report(y_test, y_pred))"
   ]
  },
  {
   "cell_type": "markdown",
   "id": "43e6f1fe-1810-4be5-9e10-f30e8952eff6",
   "metadata": {},
   "source": [
    "## AUC-ROC Score:"
   ]
  },
  {
   "cell_type": "code",
   "execution_count": 291,
   "id": "5ea67ecc-f829-45c0-974d-428ca854806a",
   "metadata": {},
   "outputs": [
    {
     "name": "stdout",
     "output_type": "stream",
     "text": [
      "AUC-ROC Score: 0.9188\n"
     ]
    }
   ],
   "source": [
    "from sklearn.metrics import roc_auc_score\n",
    "\n",
    "# Only if it's a binary classification problem\n",
    "auc = roc_auc_score(y_test, model.predict_proba(X_test_scaled)[:, 1])\n",
    "print(f\"AUC-ROC Score: {auc:.4f}\")"
   ]
  },
  {
   "cell_type": "code",
   "execution_count": 293,
   "id": "75412936-1da0-40c5-8af3-23faff153043",
   "metadata": {},
   "outputs": [
    {
     "name": "stdout",
     "output_type": "stream",
     "text": [
      "Class distribution after undersampling:\n",
      " PERSON_INJURY\n",
      "0    1428\n",
      "1     714\n",
      "Name: count, dtype: int64\n"
     ]
    }
   ],
   "source": [
    "from imblearn.under_sampling import RandomUnderSampler\n",
    "\n",
    "undersampler = RandomUnderSampler(sampling_strategy=0.5, random_state=42)\n",
    "X_resampled, y_resampled = undersampler.fit_resample(X_train, y_train)\n",
    "\n",
    "print(\"Class distribution after undersampling:\\n\", y_resampled.value_counts())"
   ]
  },
  {
   "cell_type": "code",
   "execution_count": 295,
   "id": "6d2c2964-dc31-4201-bea6-d2ef692a560f",
   "metadata": {},
   "outputs": [
    {
     "name": "stdout",
     "output_type": "stream",
     "text": [
      "Class distribution after undersampling:\n",
      " PERSON_INJURY\n",
      "0    1428\n",
      "1     714\n",
      "Name: count, dtype: int64\n"
     ]
    }
   ],
   "source": [
    "from imblearn.under_sampling import RandomUnderSampler\n",
    "\n",
    "undersampler = RandomUnderSampler(sampling_strategy=0.5, random_state=42)\n",
    "X_resampled, y_resampled = undersampler.fit_resample(X_train, y_train)\n",
    "\n",
    "print(\"Class distribution after undersampling:\\n\", y_resampled.value_counts())"
   ]
  },
  {
   "cell_type": "code",
   "execution_count": 297,
   "id": "9174e7d2-a738-4fb7-8834-5dea477d1aac",
   "metadata": {},
   "outputs": [
    {
     "data": {
      "image/png": "[encoded data removed]",
      "text/plain": [
       "<Figure size 800x600 with 1 Axes>"
      ]
     },
     "metadata": {},
     "output_type": "display_data"
    }
   ],
   "source": [
    "import matplotlib.pyplot as plt\n",
    "from sklearn.metrics import roc_curve, roc_auc_score\n",
    "\n",
    "# Get probabilities for the positive class\n",
    "y_probs = model.predict_proba(X_test_scaled)[:, 1]  \n",
    "\n",
    "# Compute ROC curve\n",
    "fpr, tpr, thresholds = roc_curve(y_test, y_probs)\n",
    "\n",
    "# Compute AUC score\n",
    "auc_score = roc_auc_score(y_test, y_probs)\n",
    "\n",
    "# Plot ROC Curve\n",
    "plt.figure(figsize=(8, 6))\n",
    "plt.plot(fpr, tpr, color='blue', label=f'AUC = {auc_score:.4f}')\n",
    "plt.plot([0, 1], [0, 1], linestyle='--', color='red', label='Random Model')\n",
    "\n",
    "plt.xlabel('False Positive Rate')\n",
    "plt.ylabel('True Positive Rate')\n",
    "plt.title('ROC Curve')\n",
    "plt.legend(loc='lower right')\n",
    "plt.grid()\n",
    "plt.show()"
   ]
  },
  {
   "cell_type": "markdown",
   "id": "b986e64d-dda8-4fbe-86e0-a9ff661d18d9",
   "metadata": {},
   "source": [
    "This data have a dominative columns like number of injured to fatal is very low so my mode fatch the error and can't predict proparly, The data is inbalance"
   ]
  },
  {
   "cell_type": "code",
   "execution_count": null,
   "id": "0105cbda-6948-4df4-ac9f-6b19b583eff2",
   "metadata": {},
   "outputs": [],
   "source": []
  }
 ],
 "metadata": {
  "kernelspec": {
   "display_name": "Python 3 (ipykernel)",
   "language": "python",
   "name": "python3"
  },
  "language_info": {
   "codemirror_mode": {
    "name": "ipython",
    "version": 3
   },
   "file_extension": ".py",
   "mimetype": "text/x-python",
   "name": "python",
   "nbconvert_exporter": "python",
   "pygments_lexer": "ipython3",
   "version": "3.12.4"
  }
 },
 "nbformat": 4,
 "nbformat_minor": 5
}
